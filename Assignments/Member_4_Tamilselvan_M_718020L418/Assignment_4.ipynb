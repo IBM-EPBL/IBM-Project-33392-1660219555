{
  "cells": [
    {
      "cell_type": "markdown",
      "source": [
        "![image.png](data:image/png;base64,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)"
      ],
      "metadata": {
        "id": "cVBPhsbQLiFF"
      }
    },
    {
      "cell_type": "markdown",
      "metadata": {
        "id": "x6wpwu89_0-3"
      },
      "source": [
        "**Task 1 - Downloading the dataset**"
      ]
    },
    {
      "cell_type": "code",
      "execution_count": null,
      "metadata": {
        "colab": {
          "base_uri": "https://localhost:8080/"
        },
        "id": "UsIGF8tK_6gv",
        "outputId": "b2e37bdc-d0bc-499e-a693-e71d88a13678"
      },
      "outputs": [
        {
          "name": "stdout",
          "output_type": "stream",
          "text": [
            "Downloading...\n",
            "From: https://drive.google.com/u/0/uc?id=1Z21e5HOZZR81sC_dnfCDPDMEzs-w8ysr\n",
            "To: /content/Mall_Customers.csv\n",
            "\r  0% 0.00/3.98k [00:00<?, ?B/s]\r100% 3.98k/3.98k [00:00<00:00, 5.29MB/s]\n"
          ]
        }
      ],
      "source": [
        "!gdown https://drive.google.com/u/0/uc?id=1Z21e5HOZZR81sC_dnfCDPDMEzs-w8ysr&export=download"
      ]
    },
    {
      "cell_type": "markdown",
      "metadata": {
        "id": "hMa7So6XAWel"
      },
      "source": [
        "**Task 2 - Loading the dataset**"
      ]
    },
    {
      "cell_type": "code",
      "execution_count": null,
      "metadata": {
        "id": "F9skVxhmAZw-"
      },
      "outputs": [],
      "source": [
        "import pandas as pd\n",
        "import matplotlib.pyplot as plt\n",
        "import seaborn as sns\n",
        "import numpy as np"
      ]
    },
    {
      "cell_type": "code",
      "execution_count": null,
      "metadata": {
        "id": "10rN-1mWAbTu"
      },
      "outputs": [],
      "source": [
        "dataset=pd.read_csv(\"Mall_Customers.csv\")"
      ]
    },
    {
      "cell_type": "code",
      "execution_count": null,
      "metadata": {
        "colab": {
          "base_uri": "https://localhost:8080/",
          "height": 206
        },
        "id": "dlboG7yBAgQr",
        "outputId": "ff3b184a-3dcb-4323-e74a-67e000818713"
      },
      "outputs": [
        {
          "data": {
            "text/html": [
              "\n",
              "  <div id=\"df-99f84f70-ce5a-444b-a8a7-4a5aa609dcca\">\n",
              "    <div class=\"colab-df-container\">\n",
              "      <div>\n",
              "<style scoped>\n",
              "    .dataframe tbody tr th:only-of-type {\n",
              "        vertical-align: middle;\n",
              "    }\n",
              "\n",
              "    .dataframe tbody tr th {\n",
              "        vertical-align: top;\n",
              "    }\n",
              "\n",
              "    .dataframe thead th {\n",
              "        text-align: right;\n",
              "    }\n",
              "</style>\n",
              "<table border=\"1\" class=\"dataframe\">\n",
              "  <thead>\n",
              "    <tr style=\"text-align: right;\">\n",
              "      <th></th>\n",
              "      <th>CustomerID</th>\n",
              "      <th>Gender</th>\n",
              "      <th>Age</th>\n",
              "      <th>Annual Income (k$)</th>\n",
              "      <th>Spending Score (1-100)</th>\n",
              "    </tr>\n",
              "  </thead>\n",
              "  <tbody>\n",
              "    <tr>\n",
              "      <th>0</th>\n",
              "      <td>1</td>\n",
              "      <td>Male</td>\n",
              "      <td>19</td>\n",
              "      <td>15</td>\n",
              "      <td>39</td>\n",
              "    </tr>\n",
              "    <tr>\n",
              "      <th>1</th>\n",
              "      <td>2</td>\n",
              "      <td>Male</td>\n",
              "      <td>21</td>\n",
              "      <td>15</td>\n",
              "      <td>81</td>\n",
              "    </tr>\n",
              "    <tr>\n",
              "      <th>2</th>\n",
              "      <td>3</td>\n",
              "      <td>Female</td>\n",
              "      <td>20</td>\n",
              "      <td>16</td>\n",
              "      <td>6</td>\n",
              "    </tr>\n",
              "    <tr>\n",
              "      <th>3</th>\n",
              "      <td>4</td>\n",
              "      <td>Female</td>\n",
              "      <td>23</td>\n",
              "      <td>16</td>\n",
              "      <td>77</td>\n",
              "    </tr>\n",
              "    <tr>\n",
              "      <th>4</th>\n",
              "      <td>5</td>\n",
              "      <td>Female</td>\n",
              "      <td>31</td>\n",
              "      <td>17</td>\n",
              "      <td>40</td>\n",
              "    </tr>\n",
              "  </tbody>\n",
              "</table>\n",
              "</div>\n",
              "      <button class=\"colab-df-convert\" onclick=\"convertToInteractive('df-99f84f70-ce5a-444b-a8a7-4a5aa609dcca')\"\n",
              "              title=\"Convert this dataframe to an interactive table.\"\n",
              "              style=\"display:none;\">\n",
              "        \n",
              "  <svg xmlns=\"http://www.w3.org/2000/svg\" height=\"24px\"viewBox=\"0 0 24 24\"\n",
              "       width=\"24px\">\n",
              "    <path d=\"M0 0h24v24H0V0z\" fill=\"none\"/>\n",
              "    <path d=\"M18.56 5.44l.94 2.06.94-2.06 2.06-.94-2.06-.94-.94-2.06-.94 2.06-2.06.94zm-11 1L8.5 8.5l.94-2.06 2.06-.94-2.06-.94L8.5 2.5l-.94 2.06-2.06.94zm10 10l.94 2.06.94-2.06 2.06-.94-2.06-.94-.94-2.06-.94 2.06-2.06.94z\"/><path d=\"M17.41 7.96l-1.37-1.37c-.4-.4-.92-.59-1.43-.59-.52 0-1.04.2-1.43.59L10.3 9.45l-7.72 7.72c-.78.78-.78 2.05 0 2.83L4 21.41c.39.39.9.59 1.41.59.51 0 1.02-.2 1.41-.59l7.78-7.78 2.81-2.81c.8-.78.8-2.07 0-2.86zM5.41 20L4 18.59l7.72-7.72 1.47 1.35L5.41 20z\"/>\n",
              "  </svg>\n",
              "      </button>\n",
              "      \n",
              "  <style>\n",
              "    .colab-df-container {\n",
              "      display:flex;\n",
              "      flex-wrap:wrap;\n",
              "      gap: 12px;\n",
              "    }\n",
              "\n",
              "    .colab-df-convert {\n",
              "      background-color: #E8F0FE;\n",
              "      border: none;\n",
              "      border-radius: 50%;\n",
              "      cursor: pointer;\n",
              "      display: none;\n",
              "      fill: #1967D2;\n",
              "      height: 32px;\n",
              "      padding: 0 0 0 0;\n",
              "      width: 32px;\n",
              "    }\n",
              "\n",
              "    .colab-df-convert:hover {\n",
              "      background-color: #E2EBFA;\n",
              "      box-shadow: 0px 1px 2px rgba(60, 64, 67, 0.3), 0px 1px 3px 1px rgba(60, 64, 67, 0.15);\n",
              "      fill: #174EA6;\n",
              "    }\n",
              "\n",
              "    [theme=dark] .colab-df-convert {\n",
              "      background-color: #3B4455;\n",
              "      fill: #D2E3FC;\n",
              "    }\n",
              "\n",
              "    [theme=dark] .colab-df-convert:hover {\n",
              "      background-color: #434B5C;\n",
              "      box-shadow: 0px 1px 3px 1px rgba(0, 0, 0, 0.15);\n",
              "      filter: drop-shadow(0px 1px 2px rgba(0, 0, 0, 0.3));\n",
              "      fill: #FFFFFF;\n",
              "    }\n",
              "  </style>\n",
              "\n",
              "      <script>\n",
              "        const buttonEl =\n",
              "          document.querySelector('#df-99f84f70-ce5a-444b-a8a7-4a5aa609dcca button.colab-df-convert');\n",
              "        buttonEl.style.display =\n",
              "          google.colab.kernel.accessAllowed ? 'block' : 'none';\n",
              "\n",
              "        async function convertToInteractive(key) {\n",
              "          const element = document.querySelector('#df-99f84f70-ce5a-444b-a8a7-4a5aa609dcca');\n",
              "          const dataTable =\n",
              "            await google.colab.kernel.invokeFunction('convertToInteractive',\n",
              "                                                     [key], {});\n",
              "          if (!dataTable) return;\n",
              "\n",
              "          const docLinkHtml = 'Like what you see? Visit the ' +\n",
              "            '<a target=\"_blank\" href=https://colab.research.google.com/notebooks/data_table.ipynb>data table notebook</a>'\n",
              "            + ' to learn more about interactive tables.';\n",
              "          element.innerHTML = '';\n",
              "          dataTable['output_type'] = 'display_data';\n",
              "          await google.colab.output.renderOutput(dataTable, element);\n",
              "          const docLink = document.createElement('div');\n",
              "          docLink.innerHTML = docLinkHtml;\n",
              "          element.appendChild(docLink);\n",
              "        }\n",
              "      </script>\n",
              "    </div>\n",
              "  </div>\n",
              "  "
            ],
            "text/plain": [
              "   CustomerID  Gender  Age  Annual Income (k$)  Spending Score (1-100)\n",
              "0           1    Male   19                  15                      39\n",
              "1           2    Male   21                  15                      81\n",
              "2           3  Female   20                  16                       6\n",
              "3           4  Female   23                  16                      77\n",
              "4           5  Female   31                  17                      40"
            ]
          },
          "execution_count": 4,
          "metadata": {},
          "output_type": "execute_result"
        }
      ],
      "source": [
        "dataset.head()"
      ]
    },
    {
      "cell_type": "markdown",
      "metadata": {
        "id": "fJT9ZL0qBmx_"
      },
      "source": [
        "**Task 3.1 - Univariate Analysis**"
      ]
    },
    {
      "cell_type": "code",
      "execution_count": 14,
      "metadata": {
        "colab": {
          "base_uri": "https://localhost:8080/",
          "height": 298
        },
        "id": "p1pXKdwrBkLX",
        "outputId": "4498252a-9fc8-4d9c-d928-66c88b33423f"
      },
      "outputs": [
        {
          "output_type": "execute_result",
          "data": {
            "text/plain": [
              "Text(0.5, 1.0, 'Distribution of the Annual Income (k$)')"
            ]
          },
          "metadata": {},
          "execution_count": 14
        },
        {
          "output_type": "display_data",
          "data": {
            "text/plain": [
              "<Figure size 432x288 with 1 Axes>"
            ],
            "image/png": "[encoded data removed]"
          },
          "metadata": {
            "needs_background": "light"
          }
        }
      ],
      "source": [
        "plt.scatter(dataset.index,dataset['Annual Income (k$)'])\n",
        "plt.ylabel('Annual Income')\n",
        "plt.title('Distribution of the Annual Income (k$)')"
      ]
    },
    {
      "cell_type": "code",
      "execution_count": 15,
      "metadata": {
        "colab": {
          "base_uri": "https://localhost:8080/",
          "height": 298
        },
        "id": "EeTTRvvWBc0P",
        "outputId": "41da19a2-1fc4-4bd2-a5da-593c7388c725"
      },
      "outputs": [
        {
          "output_type": "execute_result",
          "data": {
            "text/plain": [
              "Text(0.5, 1.0, 'Distribution of the Age')"
            ]
          },
          "metadata": {},
          "execution_count": 15
        },
        {
          "output_type": "display_data",
          "data": {
            "text/plain": [
              "<Figure size 432x288 with 1 Axes>"
            ],
            "image/png": "[encoded data removed]"
          },
          "metadata": {
            "needs_background": "light"
          }
        }
      ],
      "source": [
        "plt.scatter(dataset.index,dataset['Age'])\n",
        "plt.ylabel('Age')\n",
        "plt.title('Distribution of the Age')"
      ]
    },
    {
      "cell_type": "code",
      "execution_count": 17,
      "metadata": {
        "colab": {
          "base_uri": "https://localhost:8080/",
          "height": 296
        },
        "id": "2pL-HwxqMkU2",
        "outputId": "d9f23ab6-8948-46eb-a4bb-e4f0e43c768a"
      },
      "outputs": [
        {
          "output_type": "execute_result",
          "data": {
            "text/plain": [
              "<matplotlib.axes._subplots.AxesSubplot at 0x7fb1229fae50>"
            ]
          },
          "metadata": {},
          "execution_count": 17
        },
        {
          "output_type": "display_data",
          "data": {
            "text/plain": [
              "<Figure size 432x288 with 1 Axes>"
            ],
            "image/png": "[encoded data removed]"
          },
          "metadata": {
            "needs_background": "light"
          }
        }
      ],
      "source": [
        "sns.histplot(dataset['Spending Score (1-100)'],kde=True)"
      ]
    },
    {
      "cell_type": "code",
      "execution_count": 18,
      "metadata": {
        "colab": {
          "base_uri": "https://localhost:8080/",
          "height": 337
        },
        "id": "AsmnEuhNGoTg",
        "outputId": "3b37eb61-27c2-4d67-de64-602f184ae7a8"
      },
      "outputs": [
        {
          "output_type": "stream",
          "name": "stderr",
          "text": [
            "/usr/local/lib/python3.7/dist-packages/seaborn/_decorators.py:43: FutureWarning: Pass the following variable as a keyword arg: x. From version 0.12, the only valid positional argument will be `data`, and passing other arguments without an explicit keyword will result in an error or misinterpretation.\n",
            "  FutureWarning\n"
          ]
        },
        {
          "output_type": "execute_result",
          "data": {
            "text/plain": [
              "<matplotlib.axes._subplots.AxesSubplot at 0x7fb121e9fbd0>"
            ]
          },
          "metadata": {},
          "execution_count": 18
        },
        {
          "output_type": "display_data",
          "data": {
            "text/plain": [
              "<Figure size 432x288 with 1 Axes>"
            ],
            "image/png": "[encoded data removed]"
          },
          "metadata": {
            "needs_background": "light"
          }
        }
      ],
      "source": [
        "sns.scatterplot(dataset.index,y=dataset['Annual Income (k$)'],hue=dataset['Spending Score (1-100)'])"
      ]
    },
    {
      "cell_type": "markdown",
      "metadata": {
        "id": "wvn73-kvIwAr"
      },
      "source": [
        "**Task 3.2 - Bivariate Analysis**"
      ]
    },
    {
      "cell_type": "code",
      "execution_count": 19,
      "metadata": {
        "colab": {
          "base_uri": "https://localhost:8080/",
          "height": 296
        },
        "id": "QE2rUOusItJ8",
        "outputId": "bf0639b0-4d41-4d4f-8529-9d4e93627bf3"
      },
      "outputs": [
        {
          "output_type": "execute_result",
          "data": {
            "text/plain": [
              "<matplotlib.axes._subplots.AxesSubplot at 0x7fb121dc86d0>"
            ]
          },
          "metadata": {},
          "execution_count": 19
        },
        {
          "output_type": "display_data",
          "data": {
            "text/plain": [
              "<Figure size 432x288 with 1 Axes>"
            ],
            "image/png": "[encoded data removed]"
          },
          "metadata": {
            "needs_background": "light"
          }
        }
      ],
      "source": [
        "sns.boxplot(x='Age',y='Spending Score (1-100)',data=dataset,palette='rainbow')"
      ]
    },
    {
      "cell_type": "markdown",
      "metadata": {
        "id": "RV_Bqod-LfQT"
      },
      "source": [
        "***Correlation Matrix***"
      ]
    },
    {
      "cell_type": "code",
      "execution_count": 20,
      "metadata": {
        "colab": {
          "base_uri": "https://localhost:8080/",
          "height": 175
        },
        "id": "UHzXidvnLfvb",
        "outputId": "3728558f-f053-4408-e5b1-ea6f1c512378"
      },
      "outputs": [
        {
          "output_type": "execute_result",
          "data": {
            "text/plain": [
              "                        CustomerID       Age  Annual Income (k$)  \\\n",
              "CustomerID                1.000000 -0.026763            0.977548   \n",
              "Age                      -0.026763  1.000000           -0.012398   \n",
              "Annual Income (k$)        0.977548 -0.012398            1.000000   \n",
              "Spending Score (1-100)    0.013835 -0.327227            0.009903   \n",
              "\n",
              "                        Spending Score (1-100)  \n",
              "CustomerID                            0.013835  \n",
              "Age                                  -0.327227  \n",
              "Annual Income (k$)                    0.009903  \n",
              "Spending Score (1-100)                1.000000  "
            ],
            "text/html": [
              "\n",
              "  <div id=\"df-83d730a9-84ef-40f1-a40b-fa2fdaa1b897\">\n",
              "    <div class=\"colab-df-container\">\n",
              "      <div>\n",
              "<style scoped>\n",
              "    .dataframe tbody tr th:only-of-type {\n",
              "        vertical-align: middle;\n",
              "    }\n",
              "\n",
              "    .dataframe tbody tr th {\n",
              "        vertical-align: top;\n",
              "    }\n",
              "\n",
              "    .dataframe thead th {\n",
              "        text-align: right;\n",
              "    }\n",
              "</style>\n",
              "<table border=\"1\" class=\"dataframe\">\n",
              "  <thead>\n",
              "    <tr style=\"text-align: right;\">\n",
              "      <th></th>\n",
              "      <th>CustomerID</th>\n",
              "      <th>Age</th>\n",
              "      <th>Annual Income (k$)</th>\n",
              "      <th>Spending Score (1-100)</th>\n",
              "    </tr>\n",
              "  </thead>\n",
              "  <tbody>\n",
              "    <tr>\n",
              "      <th>CustomerID</th>\n",
              "      <td>1.000000</td>\n",
              "      <td>-0.026763</td>\n",
              "      <td>0.977548</td>\n",
              "      <td>0.013835</td>\n",
              "    </tr>\n",
              "    <tr>\n",
              "      <th>Age</th>\n",
              "      <td>-0.026763</td>\n",
              "      <td>1.000000</td>\n",
              "      <td>-0.012398</td>\n",
              "      <td>-0.327227</td>\n",
              "    </tr>\n",
              "    <tr>\n",
              "      <th>Annual Income (k$)</th>\n",
              "      <td>0.977548</td>\n",
              "      <td>-0.012398</td>\n",
              "      <td>1.000000</td>\n",
              "      <td>0.009903</td>\n",
              "    </tr>\n",
              "    <tr>\n",
              "      <th>Spending Score (1-100)</th>\n",
              "      <td>0.013835</td>\n",
              "      <td>-0.327227</td>\n",
              "      <td>0.009903</td>\n",
              "      <td>1.000000</td>\n",
              "    </tr>\n",
              "  </tbody>\n",
              "</table>\n",
              "</div>\n",
              "      <button class=\"colab-df-convert\" onclick=\"convertToInteractive('df-83d730a9-84ef-40f1-a40b-fa2fdaa1b897')\"\n",
              "              title=\"Convert this dataframe to an interactive table.\"\n",
              "              style=\"display:none;\">\n",
              "        \n",
              "  <svg xmlns=\"http://www.w3.org/2000/svg\" height=\"24px\"viewBox=\"0 0 24 24\"\n",
              "       width=\"24px\">\n",
              "    <path d=\"M0 0h24v24H0V0z\" fill=\"none\"/>\n",
              "    <path d=\"M18.56 5.44l.94 2.06.94-2.06 2.06-.94-2.06-.94-.94-2.06-.94 2.06-2.06.94zm-11 1L8.5 8.5l.94-2.06 2.06-.94-2.06-.94L8.5 2.5l-.94 2.06-2.06.94zm10 10l.94 2.06.94-2.06 2.06-.94-2.06-.94-.94-2.06-.94 2.06-2.06.94z\"/><path d=\"M17.41 7.96l-1.37-1.37c-.4-.4-.92-.59-1.43-.59-.52 0-1.04.2-1.43.59L10.3 9.45l-7.72 7.72c-.78.78-.78 2.05 0 2.83L4 21.41c.39.39.9.59 1.41.59.51 0 1.02-.2 1.41-.59l7.78-7.78 2.81-2.81c.8-.78.8-2.07 0-2.86zM5.41 20L4 18.59l7.72-7.72 1.47 1.35L5.41 20z\"/>\n",
              "  </svg>\n",
              "      </button>\n",
              "      \n",
              "  <style>\n",
              "    .colab-df-container {\n",
              "      display:flex;\n",
              "      flex-wrap:wrap;\n",
              "      gap: 12px;\n",
              "    }\n",
              "\n",
              "    .colab-df-convert {\n",
              "      background-color: #E8F0FE;\n",
              "      border: none;\n",
              "      border-radius: 50%;\n",
              "      cursor: pointer;\n",
              "      display: none;\n",
              "      fill: #1967D2;\n",
              "      height: 32px;\n",
              "      padding: 0 0 0 0;\n",
              "      width: 32px;\n",
              "    }\n",
              "\n",
              "    .colab-df-convert:hover {\n",
              "      background-color: #E2EBFA;\n",
              "      box-shadow: 0px 1px 2px rgba(60, 64, 67, 0.3), 0px 1px 3px 1px rgba(60, 64, 67, 0.15);\n",
              "      fill: #174EA6;\n",
              "    }\n",
              "\n",
              "    [theme=dark] .colab-df-convert {\n",
              "      background-color: #3B4455;\n",
              "      fill: #D2E3FC;\n",
              "    }\n",
              "\n",
              "    [theme=dark] .colab-df-convert:hover {\n",
              "      background-color: #434B5C;\n",
              "      box-shadow: 0px 1px 3px 1px rgba(0, 0, 0, 0.15);\n",
              "      filter: drop-shadow(0px 1px 2px rgba(0, 0, 0, 0.3));\n",
              "      fill: #FFFFFF;\n",
              "    }\n",
              "  </style>\n",
              "\n",
              "      <script>\n",
              "        const buttonEl =\n",
              "          document.querySelector('#df-83d730a9-84ef-40f1-a40b-fa2fdaa1b897 button.colab-df-convert');\n",
              "        buttonEl.style.display =\n",
              "          google.colab.kernel.accessAllowed ? 'block' : 'none';\n",
              "\n",
              "        async function convertToInteractive(key) {\n",
              "          const element = document.querySelector('#df-83d730a9-84ef-40f1-a40b-fa2fdaa1b897');\n",
              "          const dataTable =\n",
              "            await google.colab.kernel.invokeFunction('convertToInteractive',\n",
              "                                                     [key], {});\n",
              "          if (!dataTable) return;\n",
              "\n",
              "          const docLinkHtml = 'Like what you see? Visit the ' +\n",
              "            '<a target=\"_blank\" href=https://colab.research.google.com/notebooks/data_table.ipynb>data table notebook</a>'\n",
              "            + ' to learn more about interactive tables.';\n",
              "          element.innerHTML = '';\n",
              "          dataTable['output_type'] = 'display_data';\n",
              "          await google.colab.output.renderOutput(dataTable, element);\n",
              "          const docLink = document.createElement('div');\n",
              "          docLink.innerHTML = docLinkHtml;\n",
              "          element.appendChild(docLink);\n",
              "        }\n",
              "      </script>\n",
              "    </div>\n",
              "  </div>\n",
              "  "
            ]
          },
          "metadata": {},
          "execution_count": 20
        }
      ],
      "source": [
        "dataset.corr()"
      ]
    },
    {
      "cell_type": "markdown",
      "metadata": {
        "id": "JS_OSa1NLxES"
      },
      "source": [
        "**Heatmap of Correlation between any two variables**"
      ]
    },
    {
      "cell_type": "code",
      "execution_count": 21,
      "metadata": {
        "colab": {
          "base_uri": "https://localhost:8080/",
          "height": 394
        },
        "id": "n3JQhkZULha6",
        "outputId": "04c3b06b-4a4a-4eaf-a2ab-2fcb31213016"
      },
      "outputs": [
        {
          "output_type": "execute_result",
          "data": {
            "text/plain": [
              "<matplotlib.axes._subplots.AxesSubplot at 0x7fb121890710>"
            ]
          },
          "metadata": {},
          "execution_count": 21
        },
        {
          "output_type": "display_data",
          "data": {
            "text/plain": [
              "<Figure size 432x288 with 2 Axes>"
            ],
            "image/png": "[encoded data removed]"
          },
          "metadata": {
            "needs_background": "light"
          }
        }
      ],
      "source": [
        "sns.heatmap(dataset.corr(), cmap=\"YlGnBu\", annot=True)"
      ]
    },
    {
      "cell_type": "markdown",
      "metadata": {
        "id": "_tCTlD25L9bN"
      },
      "source": [
        "**Task 3.3 - Multivariate Analysis**"
      ]
    },
    {
      "cell_type": "code",
      "execution_count": 22,
      "metadata": {
        "id": "ko5xPD5XNHNQ"
      },
      "outputs": [],
      "source": [
        "columns=list(dataset.columns)"
      ]
    },
    {
      "cell_type": "code",
      "execution_count": 23,
      "metadata": {
        "colab": {
          "base_uri": "https://localhost:8080/",
          "height": 0
        },
        "id": "p5g1qzb1NKRD",
        "outputId": "67a671e3-a811-45b3-c501-195e9bbde934"
      },
      "outputs": [
        {
          "output_type": "stream",
          "name": "stdout",
          "text": [
            "['CustomerID', 'Gender', 'Age', 'Annual Income (k$)', 'Spending Score (1-100)']\n"
          ]
        }
      ],
      "source": [
        "print(columns)"
      ]
    },
    {
      "cell_type": "code",
      "execution_count": 24,
      "metadata": {
        "colab": {
          "base_uri": "https://localhost:8080/",
          "height": 567
        },
        "id": "bfhdFm_OLqME",
        "outputId": "d43e59a1-df37-4838-9e3b-5a016e457b90"
      },
      "outputs": [
        {
          "output_type": "execute_result",
          "data": {
            "text/plain": [
              "<seaborn.axisgrid.PairGrid at 0x7fb11efe8550>"
            ]
          },
          "metadata": {},
          "execution_count": 24
        },
        {
          "output_type": "display_data",
          "data": {
            "text/plain": [
              "<Figure size 665.625x540 with 12 Axes>"
            ],
            "image/png": "[encoded data removed]"
          },
          "metadata": {
            "needs_background": "light"
          }
        }
      ],
      "source": [
        "sns.pairplot(data=dataset[columns],hue='Spending Score (1-100)')"
      ]
    },
    {
      "cell_type": "markdown",
      "metadata": {
        "id": "jVRYiEVpNzY6"
      },
      "source": [
        "**Task 4 - Descriptive Statistics**"
      ]
    },
    {
      "cell_type": "code",
      "execution_count": 25,
      "metadata": {
        "colab": {
          "base_uri": "https://localhost:8080/",
          "height": 300
        },
        "id": "8j2SG6VqNGm7",
        "outputId": "de117eb4-8598-4d8b-a719-962bf986618a"
      },
      "outputs": [
        {
          "output_type": "execute_result",
          "data": {
            "text/plain": [
              "       CustomerID         Age  Annual Income (k$)  Spending Score (1-100)\n",
              "count  200.000000  200.000000          200.000000              200.000000\n",
              "mean   100.500000   38.850000           60.560000               50.200000\n",
              "std     57.879185   13.969007           26.264721               25.823522\n",
              "min      1.000000   18.000000           15.000000                1.000000\n",
              "25%     50.750000   28.750000           41.500000               34.750000\n",
              "50%    100.500000   36.000000           61.500000               50.000000\n",
              "75%    150.250000   49.000000           78.000000               73.000000\n",
              "max    200.000000   70.000000          137.000000               99.000000"
            ],
            "text/html": [
              "\n",
              "  <div id=\"df-46ae23d9-2dda-48be-8dea-355af79a85e2\">\n",
              "    <div class=\"colab-df-container\">\n",
              "      <div>\n",
              "<style scoped>\n",
              "    .dataframe tbody tr th:only-of-type {\n",
              "        vertical-align: middle;\n",
              "    }\n",
              "\n",
              "    .dataframe tbody tr th {\n",
              "        vertical-align: top;\n",
              "    }\n",
              "\n",
              "    .dataframe thead th {\n",
              "        text-align: right;\n",
              "    }\n",
              "</style>\n",
              "<table border=\"1\" class=\"dataframe\">\n",
              "  <thead>\n",
              "    <tr style=\"text-align: right;\">\n",
              "      <th></th>\n",
              "      <th>CustomerID</th>\n",
              "      <th>Age</th>\n",
              "      <th>Annual Income (k$)</th>\n",
              "      <th>Spending Score (1-100)</th>\n",
              "    </tr>\n",
              "  </thead>\n",
              "  <tbody>\n",
              "    <tr>\n",
              "      <th>count</th>\n",
              "      <td>200.000000</td>\n",
              "      <td>200.000000</td>\n",
              "      <td>200.000000</td>\n",
              "      <td>200.000000</td>\n",
              "    </tr>\n",
              "    <tr>\n",
              "      <th>mean</th>\n",
              "      <td>100.500000</td>\n",
              "      <td>38.850000</td>\n",
              "      <td>60.560000</td>\n",
              "      <td>50.200000</td>\n",
              "    </tr>\n",
              "    <tr>\n",
              "      <th>std</th>\n",
              "      <td>57.879185</td>\n",
              "      <td>13.969007</td>\n",
              "      <td>26.264721</td>\n",
              "      <td>25.823522</td>\n",
              "    </tr>\n",
              "    <tr>\n",
              "      <th>min</th>\n",
              "      <td>1.000000</td>\n",
              "      <td>18.000000</td>\n",
              "      <td>15.000000</td>\n",
              "      <td>1.000000</td>\n",
              "    </tr>\n",
              "    <tr>\n",
              "      <th>25%</th>\n",
              "      <td>50.750000</td>\n",
              "      <td>28.750000</td>\n",
              "      <td>41.500000</td>\n",
              "      <td>34.750000</td>\n",
              "    </tr>\n",
              "    <tr>\n",
              "      <th>50%</th>\n",
              "      <td>100.500000</td>\n",
              "      <td>36.000000</td>\n",
              "      <td>61.500000</td>\n",
              "      <td>50.000000</td>\n",
              "    </tr>\n",
              "    <tr>\n",
              "      <th>75%</th>\n",
              "      <td>150.250000</td>\n",
              "      <td>49.000000</td>\n",
              "      <td>78.000000</td>\n",
              "      <td>73.000000</td>\n",
              "    </tr>\n",
              "    <tr>\n",
              "      <th>max</th>\n",
              "      <td>200.000000</td>\n",
              "      <td>70.000000</td>\n",
              "      <td>137.000000</td>\n",
              "      <td>99.000000</td>\n",
              "    </tr>\n",
              "  </tbody>\n",
              "</table>\n",
              "</div>\n",
              "      <button class=\"colab-df-convert\" onclick=\"convertToInteractive('df-46ae23d9-2dda-48be-8dea-355af79a85e2')\"\n",
              "              title=\"Convert this dataframe to an interactive table.\"\n",
              "              style=\"display:none;\">\n",
              "        \n",
              "  <svg xmlns=\"http://www.w3.org/2000/svg\" height=\"24px\"viewBox=\"0 0 24 24\"\n",
              "       width=\"24px\">\n",
              "    <path d=\"M0 0h24v24H0V0z\" fill=\"none\"/>\n",
              "    <path d=\"M18.56 5.44l.94 2.06.94-2.06 2.06-.94-2.06-.94-.94-2.06-.94 2.06-2.06.94zm-11 1L8.5 8.5l.94-2.06 2.06-.94-2.06-.94L8.5 2.5l-.94 2.06-2.06.94zm10 10l.94 2.06.94-2.06 2.06-.94-2.06-.94-.94-2.06-.94 2.06-2.06.94z\"/><path d=\"M17.41 7.96l-1.37-1.37c-.4-.4-.92-.59-1.43-.59-.52 0-1.04.2-1.43.59L10.3 9.45l-7.72 7.72c-.78.78-.78 2.05 0 2.83L4 21.41c.39.39.9.59 1.41.59.51 0 1.02-.2 1.41-.59l7.78-7.78 2.81-2.81c.8-.78.8-2.07 0-2.86zM5.41 20L4 18.59l7.72-7.72 1.47 1.35L5.41 20z\"/>\n",
              "  </svg>\n",
              "      </button>\n",
              "      \n",
              "  <style>\n",
              "    .colab-df-container {\n",
              "      display:flex;\n",
              "      flex-wrap:wrap;\n",
              "      gap: 12px;\n",
              "    }\n",
              "\n",
              "    .colab-df-convert {\n",
              "      background-color: #E8F0FE;\n",
              "      border: none;\n",
              "      border-radius: 50%;\n",
              "      cursor: pointer;\n",
              "      display: none;\n",
              "      fill: #1967D2;\n",
              "      height: 32px;\n",
              "      padding: 0 0 0 0;\n",
              "      width: 32px;\n",
              "    }\n",
              "\n",
              "    .colab-df-convert:hover {\n",
              "      background-color: #E2EBFA;\n",
              "      box-shadow: 0px 1px 2px rgba(60, 64, 67, 0.3), 0px 1px 3px 1px rgba(60, 64, 67, 0.15);\n",
              "      fill: #174EA6;\n",
              "    }\n",
              "\n",
              "    [theme=dark] .colab-df-convert {\n",
              "      background-color: #3B4455;\n",
              "      fill: #D2E3FC;\n",
              "    }\n",
              "\n",
              "    [theme=dark] .colab-df-convert:hover {\n",
              "      background-color: #434B5C;\n",
              "      box-shadow: 0px 1px 3px 1px rgba(0, 0, 0, 0.15);\n",
              "      filter: drop-shadow(0px 1px 2px rgba(0, 0, 0, 0.3));\n",
              "      fill: #FFFFFF;\n",
              "    }\n",
              "  </style>\n",
              "\n",
              "      <script>\n",
              "        const buttonEl =\n",
              "          document.querySelector('#df-46ae23d9-2dda-48be-8dea-355af79a85e2 button.colab-df-convert');\n",
              "        buttonEl.style.display =\n",
              "          google.colab.kernel.accessAllowed ? 'block' : 'none';\n",
              "\n",
              "        async function convertToInteractive(key) {\n",
              "          const element = document.querySelector('#df-46ae23d9-2dda-48be-8dea-355af79a85e2');\n",
              "          const dataTable =\n",
              "            await google.colab.kernel.invokeFunction('convertToInteractive',\n",
              "                                                     [key], {});\n",
              "          if (!dataTable) return;\n",
              "\n",
              "          const docLinkHtml = 'Like what you see? Visit the ' +\n",
              "            '<a target=\"_blank\" href=https://colab.research.google.com/notebooks/data_table.ipynb>data table notebook</a>'\n",
              "            + ' to learn more about interactive tables.';\n",
              "          element.innerHTML = '';\n",
              "          dataTable['output_type'] = 'display_data';\n",
              "          await google.colab.output.renderOutput(dataTable, element);\n",
              "          const docLink = document.createElement('div');\n",
              "          docLink.innerHTML = docLinkHtml;\n",
              "          element.appendChild(docLink);\n",
              "        }\n",
              "      </script>\n",
              "    </div>\n",
              "  </div>\n",
              "  "
            ]
          },
          "metadata": {},
          "execution_count": 25
        }
      ],
      "source": [
        "dataset.describe()"
      ]
    },
    {
      "cell_type": "code",
      "execution_count": 26,
      "metadata": {
        "colab": {
          "base_uri": "https://localhost:8080/",
          "height": 394
        },
        "id": "s4BrUeZMN_2y",
        "outputId": "675d2223-b33c-434e-e497-d6ecb8909cdc"
      },
      "outputs": [
        {
          "output_type": "execute_result",
          "data": {
            "text/plain": [
              "<matplotlib.axes._subplots.AxesSubplot at 0x7fb11e964ed0>"
            ]
          },
          "metadata": {},
          "execution_count": 26
        },
        {
          "output_type": "display_data",
          "data": {
            "text/plain": [
              "<Figure size 432x288 with 2 Axes>"
            ],
            "image/png": "[encoded data removed]"
          },
          "metadata": {
            "needs_background": "light"
          }
        }
      ],
      "source": [
        "sns.heatmap(dataset.describe(), cmap=\"YlGnBu\", annot=True)"
      ]
    },
    {
      "cell_type": "markdown",
      "metadata": {
        "id": "8vJIXhM10TfM"
      },
      "source": [
        "**Task 5 - Replacing the missing values**"
      ]
    },
    {
      "cell_type": "code",
      "execution_count": 27,
      "metadata": {
        "colab": {
          "base_uri": "https://localhost:8080/",
          "height": 423
        },
        "id": "HnCSsDk9OFfc",
        "outputId": "3c061c79-310c-4d2c-a314-7d75396ed2b5"
      },
      "outputs": [
        {
          "output_type": "execute_result",
          "data": {
            "text/plain": [
              "     CustomerID  Gender  Age  Annual Income (k$)  Spending Score (1-100)\n",
              "0             1    Male   19                  15                      39\n",
              "1             2    Male   21                  15                      81\n",
              "2             3  Female   20                  16                       6\n",
              "3             4  Female   23                  16                      77\n",
              "4             5  Female   31                  17                      40\n",
              "..          ...     ...  ...                 ...                     ...\n",
              "195         196  Female   35                 120                      79\n",
              "196         197  Female   45                 126                      28\n",
              "197         198    Male   32                 126                      74\n",
              "198         199    Male   32                 137                      18\n",
              "199         200    Male   30                 137                      83\n",
              "\n",
              "[200 rows x 5 columns]"
            ],
            "text/html": [
              "\n",
              "  <div id=\"df-07655e10-1ae1-4c8d-8761-674176199e87\">\n",
              "    <div class=\"colab-df-container\">\n",
              "      <div>\n",
              "<style scoped>\n",
              "    .dataframe tbody tr th:only-of-type {\n",
              "        vertical-align: middle;\n",
              "    }\n",
              "\n",
              "    .dataframe tbody tr th {\n",
              "        vertical-align: top;\n",
              "    }\n",
              "\n",
              "    .dataframe thead th {\n",
              "        text-align: right;\n",
              "    }\n",
              "</style>\n",
              "<table border=\"1\" class=\"dataframe\">\n",
              "  <thead>\n",
              "    <tr style=\"text-align: right;\">\n",
              "      <th></th>\n",
              "      <th>CustomerID</th>\n",
              "      <th>Gender</th>\n",
              "      <th>Age</th>\n",
              "      <th>Annual Income (k$)</th>\n",
              "      <th>Spending Score (1-100)</th>\n",
              "    </tr>\n",
              "  </thead>\n",
              "  <tbody>\n",
              "    <tr>\n",
              "      <th>0</th>\n",
              "      <td>1</td>\n",
              "      <td>Male</td>\n",
              "      <td>19</td>\n",
              "      <td>15</td>\n",
              "      <td>39</td>\n",
              "    </tr>\n",
              "    <tr>\n",
              "      <th>1</th>\n",
              "      <td>2</td>\n",
              "      <td>Male</td>\n",
              "      <td>21</td>\n",
              "      <td>15</td>\n",
              "      <td>81</td>\n",
              "    </tr>\n",
              "    <tr>\n",
              "      <th>2</th>\n",
              "      <td>3</td>\n",
              "      <td>Female</td>\n",
              "      <td>20</td>\n",
              "      <td>16</td>\n",
              "      <td>6</td>\n",
              "    </tr>\n",
              "    <tr>\n",
              "      <th>3</th>\n",
              "      <td>4</td>\n",
              "      <td>Female</td>\n",
              "      <td>23</td>\n",
              "      <td>16</td>\n",
              "      <td>77</td>\n",
              "    </tr>\n",
              "    <tr>\n",
              "      <th>4</th>\n",
              "      <td>5</td>\n",
              "      <td>Female</td>\n",
              "      <td>31</td>\n",
              "      <td>17</td>\n",
              "      <td>40</td>\n",
              "    </tr>\n",
              "    <tr>\n",
              "      <th>...</th>\n",
              "      <td>...</td>\n",
              "      <td>...</td>\n",
              "      <td>...</td>\n",
              "      <td>...</td>\n",
              "      <td>...</td>\n",
              "    </tr>\n",
              "    <tr>\n",
              "      <th>195</th>\n",
              "      <td>196</td>\n",
              "      <td>Female</td>\n",
              "      <td>35</td>\n",
              "      <td>120</td>\n",
              "      <td>79</td>\n",
              "    </tr>\n",
              "    <tr>\n",
              "      <th>196</th>\n",
              "      <td>197</td>\n",
              "      <td>Female</td>\n",
              "      <td>45</td>\n",
              "      <td>126</td>\n",
              "      <td>28</td>\n",
              "    </tr>\n",
              "    <tr>\n",
              "      <th>197</th>\n",
              "      <td>198</td>\n",
              "      <td>Male</td>\n",
              "      <td>32</td>\n",
              "      <td>126</td>\n",
              "      <td>74</td>\n",
              "    </tr>\n",
              "    <tr>\n",
              "      <th>198</th>\n",
              "      <td>199</td>\n",
              "      <td>Male</td>\n",
              "      <td>32</td>\n",
              "      <td>137</td>\n",
              "      <td>18</td>\n",
              "    </tr>\n",
              "    <tr>\n",
              "      <th>199</th>\n",
              "      <td>200</td>\n",
              "      <td>Male</td>\n",
              "      <td>30</td>\n",
              "      <td>137</td>\n",
              "      <td>83</td>\n",
              "    </tr>\n",
              "  </tbody>\n",
              "</table>\n",
              "<p>200 rows × 5 columns</p>\n",
              "</div>\n",
              "      <button class=\"colab-df-convert\" onclick=\"convertToInteractive('df-07655e10-1ae1-4c8d-8761-674176199e87')\"\n",
              "              title=\"Convert this dataframe to an interactive table.\"\n",
              "              style=\"display:none;\">\n",
              "        \n",
              "  <svg xmlns=\"http://www.w3.org/2000/svg\" height=\"24px\"viewBox=\"0 0 24 24\"\n",
              "       width=\"24px\">\n",
              "    <path d=\"M0 0h24v24H0V0z\" fill=\"none\"/>\n",
              "    <path d=\"M18.56 5.44l.94 2.06.94-2.06 2.06-.94-2.06-.94-.94-2.06-.94 2.06-2.06.94zm-11 1L8.5 8.5l.94-2.06 2.06-.94-2.06-.94L8.5 2.5l-.94 2.06-2.06.94zm10 10l.94 2.06.94-2.06 2.06-.94-2.06-.94-.94-2.06-.94 2.06-2.06.94z\"/><path d=\"M17.41 7.96l-1.37-1.37c-.4-.4-.92-.59-1.43-.59-.52 0-1.04.2-1.43.59L10.3 9.45l-7.72 7.72c-.78.78-.78 2.05 0 2.83L4 21.41c.39.39.9.59 1.41.59.51 0 1.02-.2 1.41-.59l7.78-7.78 2.81-2.81c.8-.78.8-2.07 0-2.86zM5.41 20L4 18.59l7.72-7.72 1.47 1.35L5.41 20z\"/>\n",
              "  </svg>\n",
              "      </button>\n",
              "      \n",
              "  <style>\n",
              "    .colab-df-container {\n",
              "      display:flex;\n",
              "      flex-wrap:wrap;\n",
              "      gap: 12px;\n",
              "    }\n",
              "\n",
              "    .colab-df-convert {\n",
              "      background-color: #E8F0FE;\n",
              "      border: none;\n",
              "      border-radius: 50%;\n",
              "      cursor: pointer;\n",
              "      display: none;\n",
              "      fill: #1967D2;\n",
              "      height: 32px;\n",
              "      padding: 0 0 0 0;\n",
              "      width: 32px;\n",
              "    }\n",
              "\n",
              "    .colab-df-convert:hover {\n",
              "      background-color: #E2EBFA;\n",
              "      box-shadow: 0px 1px 2px rgba(60, 64, 67, 0.3), 0px 1px 3px 1px rgba(60, 64, 67, 0.15);\n",
              "      fill: #174EA6;\n",
              "    }\n",
              "\n",
              "    [theme=dark] .colab-df-convert {\n",
              "      background-color: #3B4455;\n",
              "      fill: #D2E3FC;\n",
              "    }\n",
              "\n",
              "    [theme=dark] .colab-df-convert:hover {\n",
              "      background-color: #434B5C;\n",
              "      box-shadow: 0px 1px 3px 1px rgba(0, 0, 0, 0.15);\n",
              "      filter: drop-shadow(0px 1px 2px rgba(0, 0, 0, 0.3));\n",
              "      fill: #FFFFFF;\n",
              "    }\n",
              "  </style>\n",
              "\n",
              "      <script>\n",
              "        const buttonEl =\n",
              "          document.querySelector('#df-07655e10-1ae1-4c8d-8761-674176199e87 button.colab-df-convert');\n",
              "        buttonEl.style.display =\n",
              "          google.colab.kernel.accessAllowed ? 'block' : 'none';\n",
              "\n",
              "        async function convertToInteractive(key) {\n",
              "          const element = document.querySelector('#df-07655e10-1ae1-4c8d-8761-674176199e87');\n",
              "          const dataTable =\n",
              "            await google.colab.kernel.invokeFunction('convertToInteractive',\n",
              "                                                     [key], {});\n",
              "          if (!dataTable) return;\n",
              "\n",
              "          const docLinkHtml = 'Like what you see? Visit the ' +\n",
              "            '<a target=\"_blank\" href=https://colab.research.google.com/notebooks/data_table.ipynb>data table notebook</a>'\n",
              "            + ' to learn more about interactive tables.';\n",
              "          element.innerHTML = '';\n",
              "          dataTable['output_type'] = 'display_data';\n",
              "          await google.colab.output.renderOutput(dataTable, element);\n",
              "          const docLink = document.createElement('div');\n",
              "          docLink.innerHTML = docLinkHtml;\n",
              "          element.appendChild(docLink);\n",
              "        }\n",
              "      </script>\n",
              "    </div>\n",
              "  </div>\n",
              "  "
            ]
          },
          "metadata": {},
          "execution_count": 27
        }
      ],
      "source": [
        "dataset"
      ]
    },
    {
      "cell_type": "code",
      "execution_count": 28,
      "metadata": {
        "colab": {
          "base_uri": "https://localhost:8080/",
          "height": 423
        },
        "id": "5JbNQQ_IOXmY",
        "outputId": "66644ec0-91a6-4f03-a8fe-e340c49da252"
      },
      "outputs": [
        {
          "output_type": "execute_result",
          "data": {
            "text/plain": [
              "     CustomerID  Gender  Age  Annual Income (k$)  Spending Score (1-100)\n",
              "0             1    Male   19                  15                      39\n",
              "1             2    Male   21                  15                      81\n",
              "2             3  Female   20                  16                       6\n",
              "3             4  Female   23                  16                      77\n",
              "4             5  Female   31                  17                      40\n",
              "..          ...     ...  ...                 ...                     ...\n",
              "195         196  Female   35                 120                      79\n",
              "196         197  Female   45                 126                      28\n",
              "197         198    Male   32                 126                      74\n",
              "198         199    Male   32                 137                      18\n",
              "199         200    Male   30                 137                      83\n",
              "\n",
              "[200 rows x 5 columns]"
            ],
            "text/html": [
              "\n",
              "  <div id=\"df-f72dde8c-2af7-455a-afef-1fbbf08030d4\">\n",
              "    <div class=\"colab-df-container\">\n",
              "      <div>\n",
              "<style scoped>\n",
              "    .dataframe tbody tr th:only-of-type {\n",
              "        vertical-align: middle;\n",
              "    }\n",
              "\n",
              "    .dataframe tbody tr th {\n",
              "        vertical-align: top;\n",
              "    }\n",
              "\n",
              "    .dataframe thead th {\n",
              "        text-align: right;\n",
              "    }\n",
              "</style>\n",
              "<table border=\"1\" class=\"dataframe\">\n",
              "  <thead>\n",
              "    <tr style=\"text-align: right;\">\n",
              "      <th></th>\n",
              "      <th>CustomerID</th>\n",
              "      <th>Gender</th>\n",
              "      <th>Age</th>\n",
              "      <th>Annual Income (k$)</th>\n",
              "      <th>Spending Score (1-100)</th>\n",
              "    </tr>\n",
              "  </thead>\n",
              "  <tbody>\n",
              "    <tr>\n",
              "      <th>0</th>\n",
              "      <td>1</td>\n",
              "      <td>Male</td>\n",
              "      <td>19</td>\n",
              "      <td>15</td>\n",
              "      <td>39</td>\n",
              "    </tr>\n",
              "    <tr>\n",
              "      <th>1</th>\n",
              "      <td>2</td>\n",
              "      <td>Male</td>\n",
              "      <td>21</td>\n",
              "      <td>15</td>\n",
              "      <td>81</td>\n",
              "    </tr>\n",
              "    <tr>\n",
              "      <th>2</th>\n",
              "      <td>3</td>\n",
              "      <td>Female</td>\n",
              "      <td>20</td>\n",
              "      <td>16</td>\n",
              "      <td>6</td>\n",
              "    </tr>\n",
              "    <tr>\n",
              "      <th>3</th>\n",
              "      <td>4</td>\n",
              "      <td>Female</td>\n",
              "      <td>23</td>\n",
              "      <td>16</td>\n",
              "      <td>77</td>\n",
              "    </tr>\n",
              "    <tr>\n",
              "      <th>4</th>\n",
              "      <td>5</td>\n",
              "      <td>Female</td>\n",
              "      <td>31</td>\n",
              "      <td>17</td>\n",
              "      <td>40</td>\n",
              "    </tr>\n",
              "    <tr>\n",
              "      <th>...</th>\n",
              "      <td>...</td>\n",
              "      <td>...</td>\n",
              "      <td>...</td>\n",
              "      <td>...</td>\n",
              "      <td>...</td>\n",
              "    </tr>\n",
              "    <tr>\n",
              "      <th>195</th>\n",
              "      <td>196</td>\n",
              "      <td>Female</td>\n",
              "      <td>35</td>\n",
              "      <td>120</td>\n",
              "      <td>79</td>\n",
              "    </tr>\n",
              "    <tr>\n",
              "      <th>196</th>\n",
              "      <td>197</td>\n",
              "      <td>Female</td>\n",
              "      <td>45</td>\n",
              "      <td>126</td>\n",
              "      <td>28</td>\n",
              "    </tr>\n",
              "    <tr>\n",
              "      <th>197</th>\n",
              "      <td>198</td>\n",
              "      <td>Male</td>\n",
              "      <td>32</td>\n",
              "      <td>126</td>\n",
              "      <td>74</td>\n",
              "    </tr>\n",
              "    <tr>\n",
              "      <th>198</th>\n",
              "      <td>199</td>\n",
              "      <td>Male</td>\n",
              "      <td>32</td>\n",
              "      <td>137</td>\n",
              "      <td>18</td>\n",
              "    </tr>\n",
              "    <tr>\n",
              "      <th>199</th>\n",
              "      <td>200</td>\n",
              "      <td>Male</td>\n",
              "      <td>30</td>\n",
              "      <td>137</td>\n",
              "      <td>83</td>\n",
              "    </tr>\n",
              "  </tbody>\n",
              "</table>\n",
              "<p>200 rows × 5 columns</p>\n",
              "</div>\n",
              "      <button class=\"colab-df-convert\" onclick=\"convertToInteractive('df-f72dde8c-2af7-455a-afef-1fbbf08030d4')\"\n",
              "              title=\"Convert this dataframe to an interactive table.\"\n",
              "              style=\"display:none;\">\n",
              "        \n",
              "  <svg xmlns=\"http://www.w3.org/2000/svg\" height=\"24px\"viewBox=\"0 0 24 24\"\n",
              "       width=\"24px\">\n",
              "    <path d=\"M0 0h24v24H0V0z\" fill=\"none\"/>\n",
              "    <path d=\"M18.56 5.44l.94 2.06.94-2.06 2.06-.94-2.06-.94-.94-2.06-.94 2.06-2.06.94zm-11 1L8.5 8.5l.94-2.06 2.06-.94-2.06-.94L8.5 2.5l-.94 2.06-2.06.94zm10 10l.94 2.06.94-2.06 2.06-.94-2.06-.94-.94-2.06-.94 2.06-2.06.94z\"/><path d=\"M17.41 7.96l-1.37-1.37c-.4-.4-.92-.59-1.43-.59-.52 0-1.04.2-1.43.59L10.3 9.45l-7.72 7.72c-.78.78-.78 2.05 0 2.83L4 21.41c.39.39.9.59 1.41.59.51 0 1.02-.2 1.41-.59l7.78-7.78 2.81-2.81c.8-.78.8-2.07 0-2.86zM5.41 20L4 18.59l7.72-7.72 1.47 1.35L5.41 20z\"/>\n",
              "  </svg>\n",
              "      </button>\n",
              "      \n",
              "  <style>\n",
              "    .colab-df-container {\n",
              "      display:flex;\n",
              "      flex-wrap:wrap;\n",
              "      gap: 12px;\n",
              "    }\n",
              "\n",
              "    .colab-df-convert {\n",
              "      background-color: #E8F0FE;\n",
              "      border: none;\n",
              "      border-radius: 50%;\n",
              "      cursor: pointer;\n",
              "      display: none;\n",
              "      fill: #1967D2;\n",
              "      height: 32px;\n",
              "      padding: 0 0 0 0;\n",
              "      width: 32px;\n",
              "    }\n",
              "\n",
              "    .colab-df-convert:hover {\n",
              "      background-color: #E2EBFA;\n",
              "      box-shadow: 0px 1px 2px rgba(60, 64, 67, 0.3), 0px 1px 3px 1px rgba(60, 64, 67, 0.15);\n",
              "      fill: #174EA6;\n",
              "    }\n",
              "\n",
              "    [theme=dark] .colab-df-convert {\n",
              "      background-color: #3B4455;\n",
              "      fill: #D2E3FC;\n",
              "    }\n",
              "\n",
              "    [theme=dark] .colab-df-convert:hover {\n",
              "      background-color: #434B5C;\n",
              "      box-shadow: 0px 1px 3px 1px rgba(0, 0, 0, 0.15);\n",
              "      filter: drop-shadow(0px 1px 2px rgba(0, 0, 0, 0.3));\n",
              "      fill: #FFFFFF;\n",
              "    }\n",
              "  </style>\n",
              "\n",
              "      <script>\n",
              "        const buttonEl =\n",
              "          document.querySelector('#df-f72dde8c-2af7-455a-afef-1fbbf08030d4 button.colab-df-convert');\n",
              "        buttonEl.style.display =\n",
              "          google.colab.kernel.accessAllowed ? 'block' : 'none';\n",
              "\n",
              "        async function convertToInteractive(key) {\n",
              "          const element = document.querySelector('#df-f72dde8c-2af7-455a-afef-1fbbf08030d4');\n",
              "          const dataTable =\n",
              "            await google.colab.kernel.invokeFunction('convertToInteractive',\n",
              "                                                     [key], {});\n",
              "          if (!dataTable) return;\n",
              "\n",
              "          const docLinkHtml = 'Like what you see? Visit the ' +\n",
              "            '<a target=\"_blank\" href=https://colab.research.google.com/notebooks/data_table.ipynb>data table notebook</a>'\n",
              "            + ' to learn more about interactive tables.';\n",
              "          element.innerHTML = '';\n",
              "          dataTable['output_type'] = 'display_data';\n",
              "          await google.colab.output.renderOutput(dataTable, element);\n",
              "          const docLink = document.createElement('div');\n",
              "          docLink.innerHTML = docLinkHtml;\n",
              "          element.appendChild(docLink);\n",
              "        }\n",
              "      </script>\n",
              "    </div>\n",
              "  </div>\n",
              "  "
            ]
          },
          "metadata": {},
          "execution_count": 28
        }
      ],
      "source": [
        "dataset.fillna(0)"
      ]
    },
    {
      "cell_type": "markdown",
      "metadata": {
        "id": "OEycHXneOg4o"
      },
      "source": [
        "It has been identified that there are no missing values in the dataset"
      ]
    },
    {
      "cell_type": "markdown",
      "metadata": {
        "id": "C5d4d7ej1M4E"
      },
      "source": [
        "**Task 6 - Finding and replacing the outliers**"
      ]
    },
    {
      "cell_type": "code",
      "execution_count": 30,
      "metadata": {
        "colab": {
          "base_uri": "https://localhost:8080/",
          "height": 282
        },
        "id": "e5L-lP0A1LuQ",
        "outputId": "eb74a1ea-fc1d-4002-e04e-7a4aac6bd79a"
      },
      "outputs": [
        {
          "output_type": "execute_result",
          "data": {
            "text/plain": [
              "<matplotlib.axes._subplots.AxesSubplot at 0x7fb11d01e490>"
            ]
          },
          "metadata": {},
          "execution_count": 30
        },
        {
          "output_type": "display_data",
          "data": {
            "text/plain": [
              "<Figure size 432x288 with 1 Axes>"
            ],
            "image/png": "[encoded data removed]"
          },
          "metadata": {
            "needs_background": "light"
          }
        }
      ],
      "source": [
        "dataset['Age'].hist()"
      ]
    },
    {
      "cell_type": "code",
      "execution_count": 31,
      "metadata": {
        "colab": {
          "base_uri": "https://localhost:8080/",
          "height": 0
        },
        "id": "rz-JSIfSOfPN",
        "outputId": "3a529c0e-0d19-4386-cc1d-ae40efedd6ca"
      },
      "outputs": [
        {
          "output_type": "execute_result",
          "data": {
            "text/plain": [
              "0.48556885096681657"
            ]
          },
          "metadata": {},
          "execution_count": 31
        }
      ],
      "source": [
        "dataset['Age'].skew()"
      ]
    },
    {
      "cell_type": "code",
      "execution_count": 32,
      "metadata": {
        "colab": {
          "base_uri": "https://localhost:8080/",
          "height": 0
        },
        "id": "qHYDJz6v2VBD",
        "outputId": "1039fc57-482c-4a46-ad60-059559052da9"
      },
      "outputs": [
        {
          "output_type": "stream",
          "name": "stdout",
          "text": [
            "The skew of CustomerID is 0.0\n",
            "\n",
            "The skew of Age is 0.48556885096681657\n",
            "The skew of Annual Income (k$) is 0.3218425498619055\n",
            "The skew of Spending Score (1-100) is -0.047220201374263374\n"
          ]
        }
      ],
      "source": [
        "columns=dataset.columns\n",
        "for i in columns:\n",
        "    try:\n",
        "      skew1=dataset[i].skew()\n",
        "      print(\"The skew of {} is {}\".format(i,str(skew1)))\n",
        "      if skew1 > 3:\n",
        "        median = float(dataset[i].median())\n",
        "        dataset[i] = np.where(dataset[i] > 0.45, median, dataset[i])\n",
        "    except:\n",
        "      print()"
      ]
    },
    {
      "cell_type": "code",
      "execution_count": 33,
      "metadata": {
        "colab": {
          "base_uri": "https://localhost:8080/",
          "height": 300
        },
        "id": "2bBmRHmn2jYW",
        "outputId": "78af40c6-5ca5-47d8-95fd-f53d1fd6037c"
      },
      "outputs": [
        {
          "output_type": "execute_result",
          "data": {
            "text/plain": [
              "       CustomerID         Age  Annual Income (k$)  Spending Score (1-100)\n",
              "count  200.000000  200.000000          200.000000              200.000000\n",
              "mean   100.500000   38.850000           60.560000               50.200000\n",
              "std     57.879185   13.969007           26.264721               25.823522\n",
              "min      1.000000   18.000000           15.000000                1.000000\n",
              "25%     50.750000   28.750000           41.500000               34.750000\n",
              "50%    100.500000   36.000000           61.500000               50.000000\n",
              "75%    150.250000   49.000000           78.000000               73.000000\n",
              "max    200.000000   70.000000          137.000000               99.000000"
            ],
            "text/html": [
              "\n",
              "  <div id=\"df-93db234c-e7a8-4c3a-bc80-c67b2c30e70e\">\n",
              "    <div class=\"colab-df-container\">\n",
              "      <div>\n",
              "<style scoped>\n",
              "    .dataframe tbody tr th:only-of-type {\n",
              "        vertical-align: middle;\n",
              "    }\n",
              "\n",
              "    .dataframe tbody tr th {\n",
              "        vertical-align: top;\n",
              "    }\n",
              "\n",
              "    .dataframe thead th {\n",
              "        text-align: right;\n",
              "    }\n",
              "</style>\n",
              "<table border=\"1\" class=\"dataframe\">\n",
              "  <thead>\n",
              "    <tr style=\"text-align: right;\">\n",
              "      <th></th>\n",
              "      <th>CustomerID</th>\n",
              "      <th>Age</th>\n",
              "      <th>Annual Income (k$)</th>\n",
              "      <th>Spending Score (1-100)</th>\n",
              "    </tr>\n",
              "  </thead>\n",
              "  <tbody>\n",
              "    <tr>\n",
              "      <th>count</th>\n",
              "      <td>200.000000</td>\n",
              "      <td>200.000000</td>\n",
              "      <td>200.000000</td>\n",
              "      <td>200.000000</td>\n",
              "    </tr>\n",
              "    <tr>\n",
              "      <th>mean</th>\n",
              "      <td>100.500000</td>\n",
              "      <td>38.850000</td>\n",
              "      <td>60.560000</td>\n",
              "      <td>50.200000</td>\n",
              "    </tr>\n",
              "    <tr>\n",
              "      <th>std</th>\n",
              "      <td>57.879185</td>\n",
              "      <td>13.969007</td>\n",
              "      <td>26.264721</td>\n",
              "      <td>25.823522</td>\n",
              "    </tr>\n",
              "    <tr>\n",
              "      <th>min</th>\n",
              "      <td>1.000000</td>\n",
              "      <td>18.000000</td>\n",
              "      <td>15.000000</td>\n",
              "      <td>1.000000</td>\n",
              "    </tr>\n",
              "    <tr>\n",
              "      <th>25%</th>\n",
              "      <td>50.750000</td>\n",
              "      <td>28.750000</td>\n",
              "      <td>41.500000</td>\n",
              "      <td>34.750000</td>\n",
              "    </tr>\n",
              "    <tr>\n",
              "      <th>50%</th>\n",
              "      <td>100.500000</td>\n",
              "      <td>36.000000</td>\n",
              "      <td>61.500000</td>\n",
              "      <td>50.000000</td>\n",
              "    </tr>\n",
              "    <tr>\n",
              "      <th>75%</th>\n",
              "      <td>150.250000</td>\n",
              "      <td>49.000000</td>\n",
              "      <td>78.000000</td>\n",
              "      <td>73.000000</td>\n",
              "    </tr>\n",
              "    <tr>\n",
              "      <th>max</th>\n",
              "      <td>200.000000</td>\n",
              "      <td>70.000000</td>\n",
              "      <td>137.000000</td>\n",
              "      <td>99.000000</td>\n",
              "    </tr>\n",
              "  </tbody>\n",
              "</table>\n",
              "</div>\n",
              "      <button class=\"colab-df-convert\" onclick=\"convertToInteractive('df-93db234c-e7a8-4c3a-bc80-c67b2c30e70e')\"\n",
              "              title=\"Convert this dataframe to an interactive table.\"\n",
              "              style=\"display:none;\">\n",
              "        \n",
              "  <svg xmlns=\"http://www.w3.org/2000/svg\" height=\"24px\"viewBox=\"0 0 24 24\"\n",
              "       width=\"24px\">\n",
              "    <path d=\"M0 0h24v24H0V0z\" fill=\"none\"/>\n",
              "    <path d=\"M18.56 5.44l.94 2.06.94-2.06 2.06-.94-2.06-.94-.94-2.06-.94 2.06-2.06.94zm-11 1L8.5 8.5l.94-2.06 2.06-.94-2.06-.94L8.5 2.5l-.94 2.06-2.06.94zm10 10l.94 2.06.94-2.06 2.06-.94-2.06-.94-.94-2.06-.94 2.06-2.06.94z\"/><path d=\"M17.41 7.96l-1.37-1.37c-.4-.4-.92-.59-1.43-.59-.52 0-1.04.2-1.43.59L10.3 9.45l-7.72 7.72c-.78.78-.78 2.05 0 2.83L4 21.41c.39.39.9.59 1.41.59.51 0 1.02-.2 1.41-.59l7.78-7.78 2.81-2.81c.8-.78.8-2.07 0-2.86zM5.41 20L4 18.59l7.72-7.72 1.47 1.35L5.41 20z\"/>\n",
              "  </svg>\n",
              "      </button>\n",
              "      \n",
              "  <style>\n",
              "    .colab-df-container {\n",
              "      display:flex;\n",
              "      flex-wrap:wrap;\n",
              "      gap: 12px;\n",
              "    }\n",
              "\n",
              "    .colab-df-convert {\n",
              "      background-color: #E8F0FE;\n",
              "      border: none;\n",
              "      border-radius: 50%;\n",
              "      cursor: pointer;\n",
              "      display: none;\n",
              "      fill: #1967D2;\n",
              "      height: 32px;\n",
              "      padding: 0 0 0 0;\n",
              "      width: 32px;\n",
              "    }\n",
              "\n",
              "    .colab-df-convert:hover {\n",
              "      background-color: #E2EBFA;\n",
              "      box-shadow: 0px 1px 2px rgba(60, 64, 67, 0.3), 0px 1px 3px 1px rgba(60, 64, 67, 0.15);\n",
              "      fill: #174EA6;\n",
              "    }\n",
              "\n",
              "    [theme=dark] .colab-df-convert {\n",
              "      background-color: #3B4455;\n",
              "      fill: #D2E3FC;\n",
              "    }\n",
              "\n",
              "    [theme=dark] .colab-df-convert:hover {\n",
              "      background-color: #434B5C;\n",
              "      box-shadow: 0px 1px 3px 1px rgba(0, 0, 0, 0.15);\n",
              "      filter: drop-shadow(0px 1px 2px rgba(0, 0, 0, 0.3));\n",
              "      fill: #FFFFFF;\n",
              "    }\n",
              "  </style>\n",
              "\n",
              "      <script>\n",
              "        const buttonEl =\n",
              "          document.querySelector('#df-93db234c-e7a8-4c3a-bc80-c67b2c30e70e button.colab-df-convert');\n",
              "        buttonEl.style.display =\n",
              "          google.colab.kernel.accessAllowed ? 'block' : 'none';\n",
              "\n",
              "        async function convertToInteractive(key) {\n",
              "          const element = document.querySelector('#df-93db234c-e7a8-4c3a-bc80-c67b2c30e70e');\n",
              "          const dataTable =\n",
              "            await google.colab.kernel.invokeFunction('convertToInteractive',\n",
              "                                                     [key], {});\n",
              "          if (!dataTable) return;\n",
              "\n",
              "          const docLinkHtml = 'Like what you see? Visit the ' +\n",
              "            '<a target=\"_blank\" href=https://colab.research.google.com/notebooks/data_table.ipynb>data table notebook</a>'\n",
              "            + ' to learn more about interactive tables.';\n",
              "          element.innerHTML = '';\n",
              "          dataTable['output_type'] = 'display_data';\n",
              "          await google.colab.output.renderOutput(dataTable, element);\n",
              "          const docLink = document.createElement('div');\n",
              "          docLink.innerHTML = docLinkHtml;\n",
              "          element.appendChild(docLink);\n",
              "        }\n",
              "      </script>\n",
              "    </div>\n",
              "  </div>\n",
              "  "
            ]
          },
          "metadata": {},
          "execution_count": 33
        }
      ],
      "source": [
        "dataset.describe()"
      ]
    },
    {
      "cell_type": "code",
      "execution_count": 35,
      "metadata": {
        "colab": {
          "base_uri": "https://localhost:8080/",
          "height": 0
        },
        "id": "MHeZflLcDVoS",
        "outputId": "d69def0c-011d-4f42-99df-636a44b0ab67"
      },
      "outputs": [
        {
          "output_type": "execute_result",
          "data": {
            "text/plain": [
              "0.48556885096681657"
            ]
          },
          "metadata": {},
          "execution_count": 35
        }
      ],
      "source": [
        "dataset['Age'].skew()"
      ]
    },
    {
      "cell_type": "markdown",
      "metadata": {
        "id": "G7sWJqfLD4--"
      },
      "source": [
        "***The skew of the height is now reduced. i.e., the outliers are replaced***"
      ]
    },
    {
      "cell_type": "markdown",
      "metadata": {
        "id": "7jPWESaNEb08"
      },
      "source": [
        "**Task 7 - Check for Categorical columns and Perform Encoding**"
      ]
    },
    {
      "cell_type": "code",
      "execution_count": 36,
      "metadata": {
        "colab": {
          "base_uri": "https://localhost:8080/",
          "height": 0
        },
        "id": "QPzfv7uEDzVF",
        "outputId": "e08ca2b0-83ba-45a8-dbe3-42fcb08c289b"
      },
      "outputs": [
        {
          "output_type": "execute_result",
          "data": {
            "text/plain": [
              "array(['Male', 'Female'], dtype=object)"
            ]
          },
          "metadata": {},
          "execution_count": 36
        }
      ],
      "source": [
        "dataset['Gender'].unique()"
      ]
    },
    {
      "cell_type": "code",
      "execution_count": 39,
      "metadata": {
        "id": "6XSoszXiE6mC"
      },
      "outputs": [],
      "source": [
        "label_map={'Male':0,'Female':1} #Label Encoding for the Column - 'Gender'"
      ]
    },
    {
      "cell_type": "code",
      "execution_count": 40,
      "metadata": {
        "id": "XlYPhfHvFCQx"
      },
      "outputs": [],
      "source": [
        "def change(c):\n",
        "  if c=='Male':\n",
        "    return 0\n",
        "  elif c=='Female':\n",
        "    return 1\n",
        "  else:\n",
        "    return 2"
      ]
    },
    {
      "cell_type": "code",
      "execution_count": 41,
      "metadata": {
        "id": "jJDATQ7mhMuP"
      },
      "outputs": [],
      "source": [
        "dataset['Gender']=dataset['Gender'].apply(change)"
      ]
    },
    {
      "cell_type": "code",
      "execution_count": 42,
      "metadata": {
        "colab": {
          "base_uri": "https://localhost:8080/",
          "height": 423
        },
        "id": "MURmRJ0oFmkc",
        "outputId": "dfe5eef4-bffe-415b-be44-25818b965a19"
      },
      "outputs": [
        {
          "output_type": "execute_result",
          "data": {
            "text/plain": [
              "     CustomerID  Gender  Age  Annual Income (k$)  Spending Score (1-100)\n",
              "0             1       0   19                  15                      39\n",
              "1             2       0   21                  15                      81\n",
              "2             3       1   20                  16                       6\n",
              "3             4       1   23                  16                      77\n",
              "4             5       1   31                  17                      40\n",
              "..          ...     ...  ...                 ...                     ...\n",
              "195         196       1   35                 120                      79\n",
              "196         197       1   45                 126                      28\n",
              "197         198       0   32                 126                      74\n",
              "198         199       0   32                 137                      18\n",
              "199         200       0   30                 137                      83\n",
              "\n",
              "[200 rows x 5 columns]"
            ],
            "text/html": [
              "\n",
              "  <div id=\"df-413691fb-4e22-44b4-8482-bf4e2878db42\">\n",
              "    <div class=\"colab-df-container\">\n",
              "      <div>\n",
              "<style scoped>\n",
              "    .dataframe tbody tr th:only-of-type {\n",
              "        vertical-align: middle;\n",
              "    }\n",
              "\n",
              "    .dataframe tbody tr th {\n",
              "        vertical-align: top;\n",
              "    }\n",
              "\n",
              "    .dataframe thead th {\n",
              "        text-align: right;\n",
              "    }\n",
              "</style>\n",
              "<table border=\"1\" class=\"dataframe\">\n",
              "  <thead>\n",
              "    <tr style=\"text-align: right;\">\n",
              "      <th></th>\n",
              "      <th>CustomerID</th>\n",
              "      <th>Gender</th>\n",
              "      <th>Age</th>\n",
              "      <th>Annual Income (k$)</th>\n",
              "      <th>Spending Score (1-100)</th>\n",
              "    </tr>\n",
              "  </thead>\n",
              "  <tbody>\n",
              "    <tr>\n",
              "      <th>0</th>\n",
              "      <td>1</td>\n",
              "      <td>0</td>\n",
              "      <td>19</td>\n",
              "      <td>15</td>\n",
              "      <td>39</td>\n",
              "    </tr>\n",
              "    <tr>\n",
              "      <th>1</th>\n",
              "      <td>2</td>\n",
              "      <td>0</td>\n",
              "      <td>21</td>\n",
              "      <td>15</td>\n",
              "      <td>81</td>\n",
              "    </tr>\n",
              "    <tr>\n",
              "      <th>2</th>\n",
              "      <td>3</td>\n",
              "      <td>1</td>\n",
              "      <td>20</td>\n",
              "      <td>16</td>\n",
              "      <td>6</td>\n",
              "    </tr>\n",
              "    <tr>\n",
              "      <th>3</th>\n",
              "      <td>4</td>\n",
              "      <td>1</td>\n",
              "      <td>23</td>\n",
              "      <td>16</td>\n",
              "      <td>77</td>\n",
              "    </tr>\n",
              "    <tr>\n",
              "      <th>4</th>\n",
              "      <td>5</td>\n",
              "      <td>1</td>\n",
              "      <td>31</td>\n",
              "      <td>17</td>\n",
              "      <td>40</td>\n",
              "    </tr>\n",
              "    <tr>\n",
              "      <th>...</th>\n",
              "      <td>...</td>\n",
              "      <td>...</td>\n",
              "      <td>...</td>\n",
              "      <td>...</td>\n",
              "      <td>...</td>\n",
              "    </tr>\n",
              "    <tr>\n",
              "      <th>195</th>\n",
              "      <td>196</td>\n",
              "      <td>1</td>\n",
              "      <td>35</td>\n",
              "      <td>120</td>\n",
              "      <td>79</td>\n",
              "    </tr>\n",
              "    <tr>\n",
              "      <th>196</th>\n",
              "      <td>197</td>\n",
              "      <td>1</td>\n",
              "      <td>45</td>\n",
              "      <td>126</td>\n",
              "      <td>28</td>\n",
              "    </tr>\n",
              "    <tr>\n",
              "      <th>197</th>\n",
              "      <td>198</td>\n",
              "      <td>0</td>\n",
              "      <td>32</td>\n",
              "      <td>126</td>\n",
              "      <td>74</td>\n",
              "    </tr>\n",
              "    <tr>\n",
              "      <th>198</th>\n",
              "      <td>199</td>\n",
              "      <td>0</td>\n",
              "      <td>32</td>\n",
              "      <td>137</td>\n",
              "      <td>18</td>\n",
              "    </tr>\n",
              "    <tr>\n",
              "      <th>199</th>\n",
              "      <td>200</td>\n",
              "      <td>0</td>\n",
              "      <td>30</td>\n",
              "      <td>137</td>\n",
              "      <td>83</td>\n",
              "    </tr>\n",
              "  </tbody>\n",
              "</table>\n",
              "<p>200 rows × 5 columns</p>\n",
              "</div>\n",
              "      <button class=\"colab-df-convert\" onclick=\"convertToInteractive('df-413691fb-4e22-44b4-8482-bf4e2878db42')\"\n",
              "              title=\"Convert this dataframe to an interactive table.\"\n",
              "              style=\"display:none;\">\n",
              "        \n",
              "  <svg xmlns=\"http://www.w3.org/2000/svg\" height=\"24px\"viewBox=\"0 0 24 24\"\n",
              "       width=\"24px\">\n",
              "    <path d=\"M0 0h24v24H0V0z\" fill=\"none\"/>\n",
              "    <path d=\"M18.56 5.44l.94 2.06.94-2.06 2.06-.94-2.06-.94-.94-2.06-.94 2.06-2.06.94zm-11 1L8.5 8.5l.94-2.06 2.06-.94-2.06-.94L8.5 2.5l-.94 2.06-2.06.94zm10 10l.94 2.06.94-2.06 2.06-.94-2.06-.94-.94-2.06-.94 2.06-2.06.94z\"/><path d=\"M17.41 7.96l-1.37-1.37c-.4-.4-.92-.59-1.43-.59-.52 0-1.04.2-1.43.59L10.3 9.45l-7.72 7.72c-.78.78-.78 2.05 0 2.83L4 21.41c.39.39.9.59 1.41.59.51 0 1.02-.2 1.41-.59l7.78-7.78 2.81-2.81c.8-.78.8-2.07 0-2.86zM5.41 20L4 18.59l7.72-7.72 1.47 1.35L5.41 20z\"/>\n",
              "  </svg>\n",
              "      </button>\n",
              "      \n",
              "  <style>\n",
              "    .colab-df-container {\n",
              "      display:flex;\n",
              "      flex-wrap:wrap;\n",
              "      gap: 12px;\n",
              "    }\n",
              "\n",
              "    .colab-df-convert {\n",
              "      background-color: #E8F0FE;\n",
              "      border: none;\n",
              "      border-radius: 50%;\n",
              "      cursor: pointer;\n",
              "      display: none;\n",
              "      fill: #1967D2;\n",
              "      height: 32px;\n",
              "      padding: 0 0 0 0;\n",
              "      width: 32px;\n",
              "    }\n",
              "\n",
              "    .colab-df-convert:hover {\n",
              "      background-color: #E2EBFA;\n",
              "      box-shadow: 0px 1px 2px rgba(60, 64, 67, 0.3), 0px 1px 3px 1px rgba(60, 64, 67, 0.15);\n",
              "      fill: #174EA6;\n",
              "    }\n",
              "\n",
              "    [theme=dark] .colab-df-convert {\n",
              "      background-color: #3B4455;\n",
              "      fill: #D2E3FC;\n",
              "    }\n",
              "\n",
              "    [theme=dark] .colab-df-convert:hover {\n",
              "      background-color: #434B5C;\n",
              "      box-shadow: 0px 1px 3px 1px rgba(0, 0, 0, 0.15);\n",
              "      filter: drop-shadow(0px 1px 2px rgba(0, 0, 0, 0.3));\n",
              "      fill: #FFFFFF;\n",
              "    }\n",
              "  </style>\n",
              "\n",
              "      <script>\n",
              "        const buttonEl =\n",
              "          document.querySelector('#df-413691fb-4e22-44b4-8482-bf4e2878db42 button.colab-df-convert');\n",
              "        buttonEl.style.display =\n",
              "          google.colab.kernel.accessAllowed ? 'block' : 'none';\n",
              "\n",
              "        async function convertToInteractive(key) {\n",
              "          const element = document.querySelector('#df-413691fb-4e22-44b4-8482-bf4e2878db42');\n",
              "          const dataTable =\n",
              "            await google.colab.kernel.invokeFunction('convertToInteractive',\n",
              "                                                     [key], {});\n",
              "          if (!dataTable) return;\n",
              "\n",
              "          const docLinkHtml = 'Like what you see? Visit the ' +\n",
              "            '<a target=\"_blank\" href=https://colab.research.google.com/notebooks/data_table.ipynb>data table notebook</a>'\n",
              "            + ' to learn more about interactive tables.';\n",
              "          element.innerHTML = '';\n",
              "          dataTable['output_type'] = 'display_data';\n",
              "          await google.colab.output.renderOutput(dataTable, element);\n",
              "          const docLink = document.createElement('div');\n",
              "          docLink.innerHTML = docLinkHtml;\n",
              "          element.appendChild(docLink);\n",
              "        }\n",
              "      </script>\n",
              "    </div>\n",
              "  </div>\n",
              "  "
            ]
          },
          "metadata": {},
          "execution_count": 42
        }
      ],
      "source": [
        "dataset"
      ]
    },
    {
      "cell_type": "markdown",
      "metadata": {
        "id": "u0n67CuChxaL"
      },
      "source": [
        "**Task 8 - Split the data into dependent and independent variables**"
      ]
    },
    {
      "cell_type": "code",
      "execution_count": 43,
      "metadata": {
        "id": "wGhUUmBehw3p"
      },
      "outputs": [],
      "source": [
        "X=dataset[['Gender','Age','Annual Income (k$)','Spending Score (1-100)']].values"
      ]
    },
    {
      "cell_type": "code",
      "execution_count": 44,
      "metadata": {
        "colab": {
          "base_uri": "https://localhost:8080/",
          "height": 0
        },
        "id": "5rZIOJM4FojU",
        "outputId": "715665e5-ff52-40d0-e730-ffdbed401800"
      },
      "outputs": [
        {
          "output_type": "execute_result",
          "data": {
            "text/plain": [
              "array([[  0,  19,  15,  39],\n",
              "       [  0,  21,  15,  81],\n",
              "       [  1,  20,  16,   6],\n",
              "       [  1,  23,  16,  77],\n",
              "       [  1,  31,  17,  40],\n",
              "       [  1,  22,  17,  76],\n",
              "       [  1,  35,  18,   6],\n",
              "       [  1,  23,  18,  94],\n",
              "       [  0,  64,  19,   3],\n",
              "       [  1,  30,  19,  72],\n",
              "       [  0,  67,  19,  14],\n",
              "       [  1,  35,  19,  99],\n",
              "       [  1,  58,  20,  15],\n",
              "       [  1,  24,  20,  77],\n",
              "       [  0,  37,  20,  13],\n",
              "       [  0,  22,  20,  79],\n",
              "       [  1,  35,  21,  35],\n",
              "       [  0,  20,  21,  66],\n",
              "       [  0,  52,  23,  29],\n",
              "       [  1,  35,  23,  98],\n",
              "       [  0,  35,  24,  35],\n",
              "       [  0,  25,  24,  73],\n",
              "       [  1,  46,  25,   5],\n",
              "       [  0,  31,  25,  73],\n",
              "       [  1,  54,  28,  14],\n",
              "       [  0,  29,  28,  82],\n",
              "       [  1,  45,  28,  32],\n",
              "       [  0,  35,  28,  61],\n",
              "       [  1,  40,  29,  31],\n",
              "       [  1,  23,  29,  87],\n",
              "       [  0,  60,  30,   4],\n",
              "       [  1,  21,  30,  73],\n",
              "       [  0,  53,  33,   4],\n",
              "       [  0,  18,  33,  92],\n",
              "       [  1,  49,  33,  14],\n",
              "       [  1,  21,  33,  81],\n",
              "       [  1,  42,  34,  17],\n",
              "       [  1,  30,  34,  73],\n",
              "       [  1,  36,  37,  26],\n",
              "       [  1,  20,  37,  75],\n",
              "       [  1,  65,  38,  35],\n",
              "       [  0,  24,  38,  92],\n",
              "       [  0,  48,  39,  36],\n",
              "       [  1,  31,  39,  61],\n",
              "       [  1,  49,  39,  28],\n",
              "       [  1,  24,  39,  65],\n",
              "       [  1,  50,  40,  55],\n",
              "       [  1,  27,  40,  47],\n",
              "       [  1,  29,  40,  42],\n",
              "       [  1,  31,  40,  42],\n",
              "       [  1,  49,  42,  52],\n",
              "       [  0,  33,  42,  60],\n",
              "       [  1,  31,  43,  54],\n",
              "       [  0,  59,  43,  60],\n",
              "       [  1,  50,  43,  45],\n",
              "       [  0,  47,  43,  41],\n",
              "       [  1,  51,  44,  50],\n",
              "       [  0,  69,  44,  46],\n",
              "       [  1,  27,  46,  51],\n",
              "       [  0,  53,  46,  46],\n",
              "       [  0,  70,  46,  56],\n",
              "       [  0,  19,  46,  55],\n",
              "       [  1,  67,  47,  52],\n",
              "       [  1,  54,  47,  59],\n",
              "       [  0,  63,  48,  51],\n",
              "       [  0,  18,  48,  59],\n",
              "       [  1,  43,  48,  50],\n",
              "       [  1,  68,  48,  48],\n",
              "       [  0,  19,  48,  59],\n",
              "       [  1,  32,  48,  47],\n",
              "       [  0,  70,  49,  55],\n",
              "       [  1,  47,  49,  42],\n",
              "       [  1,  60,  50,  49],\n",
              "       [  1,  60,  50,  56],\n",
              "       [  0,  59,  54,  47],\n",
              "       [  0,  26,  54,  54],\n",
              "       [  1,  45,  54,  53],\n",
              "       [  0,  40,  54,  48],\n",
              "       [  1,  23,  54,  52],\n",
              "       [  1,  49,  54,  42],\n",
              "       [  0,  57,  54,  51],\n",
              "       [  0,  38,  54,  55],\n",
              "       [  0,  67,  54,  41],\n",
              "       [  1,  46,  54,  44],\n",
              "       [  1,  21,  54,  57],\n",
              "       [  0,  48,  54,  46],\n",
              "       [  1,  55,  57,  58],\n",
              "       [  1,  22,  57,  55],\n",
              "       [  1,  34,  58,  60],\n",
              "       [  1,  50,  58,  46],\n",
              "       [  1,  68,  59,  55],\n",
              "       [  0,  18,  59,  41],\n",
              "       [  0,  48,  60,  49],\n",
              "       [  1,  40,  60,  40],\n",
              "       [  1,  32,  60,  42],\n",
              "       [  0,  24,  60,  52],\n",
              "       [  1,  47,  60,  47],\n",
              "       [  1,  27,  60,  50],\n",
              "       [  0,  48,  61,  42],\n",
              "       [  0,  20,  61,  49],\n",
              "       [  1,  23,  62,  41],\n",
              "       [  1,  49,  62,  48],\n",
              "       [  0,  67,  62,  59],\n",
              "       [  0,  26,  62,  55],\n",
              "       [  0,  49,  62,  56],\n",
              "       [  1,  21,  62,  42],\n",
              "       [  1,  66,  63,  50],\n",
              "       [  0,  54,  63,  46],\n",
              "       [  0,  68,  63,  43],\n",
              "       [  0,  66,  63,  48],\n",
              "       [  0,  65,  63,  52],\n",
              "       [  1,  19,  63,  54],\n",
              "       [  1,  38,  64,  42],\n",
              "       [  0,  19,  64,  46],\n",
              "       [  1,  18,  65,  48],\n",
              "       [  1,  19,  65,  50],\n",
              "       [  1,  63,  65,  43],\n",
              "       [  1,  49,  65,  59],\n",
              "       [  1,  51,  67,  43],\n",
              "       [  1,  50,  67,  57],\n",
              "       [  0,  27,  67,  56],\n",
              "       [  1,  38,  67,  40],\n",
              "       [  1,  40,  69,  58],\n",
              "       [  0,  39,  69,  91],\n",
              "       [  1,  23,  70,  29],\n",
              "       [  1,  31,  70,  77],\n",
              "       [  0,  43,  71,  35],\n",
              "       [  0,  40,  71,  95],\n",
              "       [  0,  59,  71,  11],\n",
              "       [  0,  38,  71,  75],\n",
              "       [  0,  47,  71,   9],\n",
              "       [  0,  39,  71,  75],\n",
              "       [  1,  25,  72,  34],\n",
              "       [  1,  31,  72,  71],\n",
              "       [  0,  20,  73,   5],\n",
              "       [  1,  29,  73,  88],\n",
              "       [  1,  44,  73,   7],\n",
              "       [  0,  32,  73,  73],\n",
              "       [  0,  19,  74,  10],\n",
              "       [  1,  35,  74,  72],\n",
              "       [  1,  57,  75,   5],\n",
              "       [  0,  32,  75,  93],\n",
              "       [  1,  28,  76,  40],\n",
              "       [  1,  32,  76,  87],\n",
              "       [  0,  25,  77,  12],\n",
              "       [  0,  28,  77,  97],\n",
              "       [  0,  48,  77,  36],\n",
              "       [  1,  32,  77,  74],\n",
              "       [  1,  34,  78,  22],\n",
              "       [  0,  34,  78,  90],\n",
              "       [  0,  43,  78,  17],\n",
              "       [  0,  39,  78,  88],\n",
              "       [  1,  44,  78,  20],\n",
              "       [  1,  38,  78,  76],\n",
              "       [  1,  47,  78,  16],\n",
              "       [  1,  27,  78,  89],\n",
              "       [  0,  37,  78,   1],\n",
              "       [  1,  30,  78,  78],\n",
              "       [  0,  34,  78,   1],\n",
              "       [  1,  30,  78,  73],\n",
              "       [  1,  56,  79,  35],\n",
              "       [  1,  29,  79,  83],\n",
              "       [  0,  19,  81,   5],\n",
              "       [  1,  31,  81,  93],\n",
              "       [  0,  50,  85,  26],\n",
              "       [  1,  36,  85,  75],\n",
              "       [  0,  42,  86,  20],\n",
              "       [  1,  33,  86,  95],\n",
              "       [  1,  36,  87,  27],\n",
              "       [  0,  32,  87,  63],\n",
              "       [  0,  40,  87,  13],\n",
              "       [  0,  28,  87,  75],\n",
              "       [  0,  36,  87,  10],\n",
              "       [  0,  36,  87,  92],\n",
              "       [  1,  52,  88,  13],\n",
              "       [  1,  30,  88,  86],\n",
              "       [  0,  58,  88,  15],\n",
              "       [  0,  27,  88,  69],\n",
              "       [  0,  59,  93,  14],\n",
              "       [  0,  35,  93,  90],\n",
              "       [  1,  37,  97,  32],\n",
              "       [  1,  32,  97,  86],\n",
              "       [  0,  46,  98,  15],\n",
              "       [  1,  29,  98,  88],\n",
              "       [  1,  41,  99,  39],\n",
              "       [  0,  30,  99,  97],\n",
              "       [  1,  54, 101,  24],\n",
              "       [  0,  28, 101,  68],\n",
              "       [  1,  41, 103,  17],\n",
              "       [  1,  36, 103,  85],\n",
              "       [  1,  34, 103,  23],\n",
              "       [  1,  32, 103,  69],\n",
              "       [  0,  33, 113,   8],\n",
              "       [  1,  38, 113,  91],\n",
              "       [  1,  47, 120,  16],\n",
              "       [  1,  35, 120,  79],\n",
              "       [  1,  45, 126,  28],\n",
              "       [  0,  32, 126,  74],\n",
              "       [  0,  32, 137,  18],\n",
              "       [  0,  30, 137,  83]])"
            ]
          },
          "metadata": {},
          "execution_count": 44
        }
      ],
      "source": [
        "X"
      ]
    },
    {
      "cell_type": "code",
      "execution_count": 45,
      "metadata": {
        "colab": {
          "base_uri": "https://localhost:8080/",
          "height": 0
        },
        "id": "LXfUToE6jU9a",
        "outputId": "7debc70d-0413-4a1c-8399-1c55bf17a933"
      },
      "outputs": [
        {
          "output_type": "execute_result",
          "data": {
            "text/plain": [
              "Index(['CustomerID', 'Gender', 'Age', 'Annual Income (k$)',\n",
              "       'Spending Score (1-100)'],\n",
              "      dtype='object')"
            ]
          },
          "metadata": {},
          "execution_count": 45
        }
      ],
      "source": [
        "columns"
      ]
    },
    {
      "cell_type": "markdown",
      "metadata": {
        "id": "mtoEcrsdkBlE"
      },
      "source": [
        "**Task 8 - Scale the independent variables**\n"
      ]
    },
    {
      "cell_type": "code",
      "execution_count": 46,
      "metadata": {
        "id": "CZxjhLcqjr6E"
      },
      "outputs": [],
      "source": [
        "from sklearn.preprocessing import MinMaxScaler"
      ]
    },
    {
      "cell_type": "code",
      "execution_count": 53,
      "metadata": {
        "id": "BMXKv6chkKFv"
      },
      "outputs": [],
      "source": [
        "scaler = MinMaxScaler(feature_range=(0,1))"
      ]
    },
    {
      "cell_type": "code",
      "execution_count": 54,
      "metadata": {
        "id": "x8_ch_8PkNSg"
      },
      "outputs": [],
      "source": [
        "X_scaled=scaler.fit_transform(X)"
      ]
    },
    {
      "cell_type": "code",
      "execution_count": 55,
      "metadata": {
        "colab": {
          "base_uri": "https://localhost:8080/",
          "height": 0
        },
        "id": "ZBH-OQ57kbgp",
        "outputId": "449786d4-e2ee-475c-db45-6bc73fddf655"
      },
      "outputs": [
        {
          "output_type": "execute_result",
          "data": {
            "text/plain": [
              "array([[0.        , 0.01923077, 0.        , 0.3877551 ],\n",
              "       [0.        , 0.05769231, 0.        , 0.81632653],\n",
              "       [1.        , 0.03846154, 0.00819672, 0.05102041],\n",
              "       [1.        , 0.09615385, 0.00819672, 0.7755102 ],\n",
              "       [1.        , 0.25      , 0.01639344, 0.39795918],\n",
              "       [1.        , 0.07692308, 0.01639344, 0.76530612],\n",
              "       [1.        , 0.32692308, 0.02459016, 0.05102041],\n",
              "       [1.        , 0.09615385, 0.02459016, 0.94897959],\n",
              "       [0.        , 0.88461538, 0.03278689, 0.02040816],\n",
              "       [1.        , 0.23076923, 0.03278689, 0.7244898 ],\n",
              "       [0.        , 0.94230769, 0.03278689, 0.13265306],\n",
              "       [1.        , 0.32692308, 0.03278689, 1.        ],\n",
              "       [1.        , 0.76923077, 0.04098361, 0.14285714],\n",
              "       [1.        , 0.11538462, 0.04098361, 0.7755102 ],\n",
              "       [0.        , 0.36538462, 0.04098361, 0.12244898],\n",
              "       [0.        , 0.07692308, 0.04098361, 0.79591837],\n",
              "       [1.        , 0.32692308, 0.04918033, 0.34693878],\n",
              "       [0.        , 0.03846154, 0.04918033, 0.66326531],\n",
              "       [0.        , 0.65384615, 0.06557377, 0.28571429],\n",
              "       [1.        , 0.32692308, 0.06557377, 0.98979592],\n",
              "       [0.        , 0.32692308, 0.07377049, 0.34693878],\n",
              "       [0.        , 0.13461538, 0.07377049, 0.73469388],\n",
              "       [1.        , 0.53846154, 0.08196721, 0.04081633],\n",
              "       [0.        , 0.25      , 0.08196721, 0.73469388],\n",
              "       [1.        , 0.69230769, 0.10655738, 0.13265306],\n",
              "       [0.        , 0.21153846, 0.10655738, 0.82653061],\n",
              "       [1.        , 0.51923077, 0.10655738, 0.31632653],\n",
              "       [0.        , 0.32692308, 0.10655738, 0.6122449 ],\n",
              "       [1.        , 0.42307692, 0.1147541 , 0.30612245],\n",
              "       [1.        , 0.09615385, 0.1147541 , 0.87755102],\n",
              "       [0.        , 0.80769231, 0.12295082, 0.03061224],\n",
              "       [1.        , 0.05769231, 0.12295082, 0.73469388],\n",
              "       [0.        , 0.67307692, 0.14754098, 0.03061224],\n",
              "       [0.        , 0.        , 0.14754098, 0.92857143],\n",
              "       [1.        , 0.59615385, 0.14754098, 0.13265306],\n",
              "       [1.        , 0.05769231, 0.14754098, 0.81632653],\n",
              "       [1.        , 0.46153846, 0.1557377 , 0.16326531],\n",
              "       [1.        , 0.23076923, 0.1557377 , 0.73469388],\n",
              "       [1.        , 0.34615385, 0.18032787, 0.25510204],\n",
              "       [1.        , 0.03846154, 0.18032787, 0.75510204],\n",
              "       [1.        , 0.90384615, 0.18852459, 0.34693878],\n",
              "       [0.        , 0.11538462, 0.18852459, 0.92857143],\n",
              "       [0.        , 0.57692308, 0.19672131, 0.35714286],\n",
              "       [1.        , 0.25      , 0.19672131, 0.6122449 ],\n",
              "       [1.        , 0.59615385, 0.19672131, 0.2755102 ],\n",
              "       [1.        , 0.11538462, 0.19672131, 0.65306122],\n",
              "       [1.        , 0.61538462, 0.20491803, 0.55102041],\n",
              "       [1.        , 0.17307692, 0.20491803, 0.46938776],\n",
              "       [1.        , 0.21153846, 0.20491803, 0.41836735],\n",
              "       [1.        , 0.25      , 0.20491803, 0.41836735],\n",
              "       [1.        , 0.59615385, 0.22131148, 0.52040816],\n",
              "       [0.        , 0.28846154, 0.22131148, 0.60204082],\n",
              "       [1.        , 0.25      , 0.2295082 , 0.54081633],\n",
              "       [0.        , 0.78846154, 0.2295082 , 0.60204082],\n",
              "       [1.        , 0.61538462, 0.2295082 , 0.44897959],\n",
              "       [0.        , 0.55769231, 0.2295082 , 0.40816327],\n",
              "       [1.        , 0.63461538, 0.23770492, 0.5       ],\n",
              "       [0.        , 0.98076923, 0.23770492, 0.45918367],\n",
              "       [1.        , 0.17307692, 0.25409836, 0.51020408],\n",
              "       [0.        , 0.67307692, 0.25409836, 0.45918367],\n",
              "       [0.        , 1.        , 0.25409836, 0.56122449],\n",
              "       [0.        , 0.01923077, 0.25409836, 0.55102041],\n",
              "       [1.        , 0.94230769, 0.26229508, 0.52040816],\n",
              "       [1.        , 0.69230769, 0.26229508, 0.59183673],\n",
              "       [0.        , 0.86538462, 0.2704918 , 0.51020408],\n",
              "       [0.        , 0.        , 0.2704918 , 0.59183673],\n",
              "       [1.        , 0.48076923, 0.2704918 , 0.5       ],\n",
              "       [1.        , 0.96153846, 0.2704918 , 0.47959184],\n",
              "       [0.        , 0.01923077, 0.2704918 , 0.59183673],\n",
              "       [1.        , 0.26923077, 0.2704918 , 0.46938776],\n",
              "       [0.        , 1.        , 0.27868852, 0.55102041],\n",
              "       [1.        , 0.55769231, 0.27868852, 0.41836735],\n",
              "       [1.        , 0.80769231, 0.28688525, 0.48979592],\n",
              "       [1.        , 0.80769231, 0.28688525, 0.56122449],\n",
              "       [0.        , 0.78846154, 0.31967213, 0.46938776],\n",
              "       [0.        , 0.15384615, 0.31967213, 0.54081633],\n",
              "       [1.        , 0.51923077, 0.31967213, 0.53061224],\n",
              "       [0.        , 0.42307692, 0.31967213, 0.47959184],\n",
              "       [1.        , 0.09615385, 0.31967213, 0.52040816],\n",
              "       [1.        , 0.59615385, 0.31967213, 0.41836735],\n",
              "       [0.        , 0.75      , 0.31967213, 0.51020408],\n",
              "       [0.        , 0.38461538, 0.31967213, 0.55102041],\n",
              "       [0.        , 0.94230769, 0.31967213, 0.40816327],\n",
              "       [1.        , 0.53846154, 0.31967213, 0.43877551],\n",
              "       [1.        , 0.05769231, 0.31967213, 0.57142857],\n",
              "       [0.        , 0.57692308, 0.31967213, 0.45918367],\n",
              "       [1.        , 0.71153846, 0.3442623 , 0.58163265],\n",
              "       [1.        , 0.07692308, 0.3442623 , 0.55102041],\n",
              "       [1.        , 0.30769231, 0.35245902, 0.60204082],\n",
              "       [1.        , 0.61538462, 0.35245902, 0.45918367],\n",
              "       [1.        , 0.96153846, 0.36065574, 0.55102041],\n",
              "       [0.        , 0.        , 0.36065574, 0.40816327],\n",
              "       [0.        , 0.57692308, 0.36885246, 0.48979592],\n",
              "       [1.        , 0.42307692, 0.36885246, 0.39795918],\n",
              "       [1.        , 0.26923077, 0.36885246, 0.41836735],\n",
              "       [0.        , 0.11538462, 0.36885246, 0.52040816],\n",
              "       [1.        , 0.55769231, 0.36885246, 0.46938776],\n",
              "       [1.        , 0.17307692, 0.36885246, 0.5       ],\n",
              "       [0.        , 0.57692308, 0.37704918, 0.41836735],\n",
              "       [0.        , 0.03846154, 0.37704918, 0.48979592],\n",
              "       [1.        , 0.09615385, 0.3852459 , 0.40816327],\n",
              "       [1.        , 0.59615385, 0.3852459 , 0.47959184],\n",
              "       [0.        , 0.94230769, 0.3852459 , 0.59183673],\n",
              "       [0.        , 0.15384615, 0.3852459 , 0.55102041],\n",
              "       [0.        , 0.59615385, 0.3852459 , 0.56122449],\n",
              "       [1.        , 0.05769231, 0.3852459 , 0.41836735],\n",
              "       [1.        , 0.92307692, 0.39344262, 0.5       ],\n",
              "       [0.        , 0.69230769, 0.39344262, 0.45918367],\n",
              "       [0.        , 0.96153846, 0.39344262, 0.42857143],\n",
              "       [0.        , 0.92307692, 0.39344262, 0.47959184],\n",
              "       [0.        , 0.90384615, 0.39344262, 0.52040816],\n",
              "       [1.        , 0.01923077, 0.39344262, 0.54081633],\n",
              "       [1.        , 0.38461538, 0.40163934, 0.41836735],\n",
              "       [0.        , 0.01923077, 0.40163934, 0.45918367],\n",
              "       [1.        , 0.        , 0.40983607, 0.47959184],\n",
              "       [1.        , 0.01923077, 0.40983607, 0.5       ],\n",
              "       [1.        , 0.86538462, 0.40983607, 0.42857143],\n",
              "       [1.        , 0.59615385, 0.40983607, 0.59183673],\n",
              "       [1.        , 0.63461538, 0.42622951, 0.42857143],\n",
              "       [1.        , 0.61538462, 0.42622951, 0.57142857],\n",
              "       [0.        , 0.17307692, 0.42622951, 0.56122449],\n",
              "       [1.        , 0.38461538, 0.42622951, 0.39795918],\n",
              "       [1.        , 0.42307692, 0.44262295, 0.58163265],\n",
              "       [0.        , 0.40384615, 0.44262295, 0.91836735],\n",
              "       [1.        , 0.09615385, 0.45081967, 0.28571429],\n",
              "       [1.        , 0.25      , 0.45081967, 0.7755102 ],\n",
              "       [0.        , 0.48076923, 0.45901639, 0.34693878],\n",
              "       [0.        , 0.42307692, 0.45901639, 0.95918367],\n",
              "       [0.        , 0.78846154, 0.45901639, 0.10204082],\n",
              "       [0.        , 0.38461538, 0.45901639, 0.75510204],\n",
              "       [0.        , 0.55769231, 0.45901639, 0.08163265],\n",
              "       [0.        , 0.40384615, 0.45901639, 0.75510204],\n",
              "       [1.        , 0.13461538, 0.46721311, 0.33673469],\n",
              "       [1.        , 0.25      , 0.46721311, 0.71428571],\n",
              "       [0.        , 0.03846154, 0.47540984, 0.04081633],\n",
              "       [1.        , 0.21153846, 0.47540984, 0.8877551 ],\n",
              "       [1.        , 0.5       , 0.47540984, 0.06122449],\n",
              "       [0.        , 0.26923077, 0.47540984, 0.73469388],\n",
              "       [0.        , 0.01923077, 0.48360656, 0.09183673],\n",
              "       [1.        , 0.32692308, 0.48360656, 0.7244898 ],\n",
              "       [1.        , 0.75      , 0.49180328, 0.04081633],\n",
              "       [0.        , 0.26923077, 0.49180328, 0.93877551],\n",
              "       [1.        , 0.19230769, 0.5       , 0.39795918],\n",
              "       [1.        , 0.26923077, 0.5       , 0.87755102],\n",
              "       [0.        , 0.13461538, 0.50819672, 0.1122449 ],\n",
              "       [0.        , 0.19230769, 0.50819672, 0.97959184],\n",
              "       [0.        , 0.57692308, 0.50819672, 0.35714286],\n",
              "       [1.        , 0.26923077, 0.50819672, 0.74489796],\n",
              "       [1.        , 0.30769231, 0.51639344, 0.21428571],\n",
              "       [0.        , 0.30769231, 0.51639344, 0.90816327],\n",
              "       [0.        , 0.48076923, 0.51639344, 0.16326531],\n",
              "       [0.        , 0.40384615, 0.51639344, 0.8877551 ],\n",
              "       [1.        , 0.5       , 0.51639344, 0.19387755],\n",
              "       [1.        , 0.38461538, 0.51639344, 0.76530612],\n",
              "       [1.        , 0.55769231, 0.51639344, 0.15306122],\n",
              "       [1.        , 0.17307692, 0.51639344, 0.89795918],\n",
              "       [0.        , 0.36538462, 0.51639344, 0.        ],\n",
              "       [1.        , 0.23076923, 0.51639344, 0.78571429],\n",
              "       [0.        , 0.30769231, 0.51639344, 0.        ],\n",
              "       [1.        , 0.23076923, 0.51639344, 0.73469388],\n",
              "       [1.        , 0.73076923, 0.52459016, 0.34693878],\n",
              "       [1.        , 0.21153846, 0.52459016, 0.83673469],\n",
              "       [0.        , 0.01923077, 0.54098361, 0.04081633],\n",
              "       [1.        , 0.25      , 0.54098361, 0.93877551],\n",
              "       [0.        , 0.61538462, 0.57377049, 0.25510204],\n",
              "       [1.        , 0.34615385, 0.57377049, 0.75510204],\n",
              "       [0.        , 0.46153846, 0.58196721, 0.19387755],\n",
              "       [1.        , 0.28846154, 0.58196721, 0.95918367],\n",
              "       [1.        , 0.34615385, 0.59016393, 0.26530612],\n",
              "       [0.        , 0.26923077, 0.59016393, 0.63265306],\n",
              "       [0.        , 0.42307692, 0.59016393, 0.12244898],\n",
              "       [0.        , 0.19230769, 0.59016393, 0.75510204],\n",
              "       [0.        , 0.34615385, 0.59016393, 0.09183673],\n",
              "       [0.        , 0.34615385, 0.59016393, 0.92857143],\n",
              "       [1.        , 0.65384615, 0.59836066, 0.12244898],\n",
              "       [1.        , 0.23076923, 0.59836066, 0.86734694],\n",
              "       [0.        , 0.76923077, 0.59836066, 0.14285714],\n",
              "       [0.        , 0.17307692, 0.59836066, 0.69387755],\n",
              "       [0.        , 0.78846154, 0.63934426, 0.13265306],\n",
              "       [0.        , 0.32692308, 0.63934426, 0.90816327],\n",
              "       [1.        , 0.36538462, 0.67213115, 0.31632653],\n",
              "       [1.        , 0.26923077, 0.67213115, 0.86734694],\n",
              "       [0.        , 0.53846154, 0.68032787, 0.14285714],\n",
              "       [1.        , 0.21153846, 0.68032787, 0.8877551 ],\n",
              "       [1.        , 0.44230769, 0.68852459, 0.3877551 ],\n",
              "       [0.        , 0.23076923, 0.68852459, 0.97959184],\n",
              "       [1.        , 0.69230769, 0.70491803, 0.23469388],\n",
              "       [0.        , 0.19230769, 0.70491803, 0.68367347],\n",
              "       [1.        , 0.44230769, 0.72131148, 0.16326531],\n",
              "       [1.        , 0.34615385, 0.72131148, 0.85714286],\n",
              "       [1.        , 0.30769231, 0.72131148, 0.2244898 ],\n",
              "       [1.        , 0.26923077, 0.72131148, 0.69387755],\n",
              "       [0.        , 0.28846154, 0.80327869, 0.07142857],\n",
              "       [1.        , 0.38461538, 0.80327869, 0.91836735],\n",
              "       [1.        , 0.55769231, 0.86065574, 0.15306122],\n",
              "       [1.        , 0.32692308, 0.86065574, 0.79591837],\n",
              "       [1.        , 0.51923077, 0.90983607, 0.2755102 ],\n",
              "       [0.        , 0.26923077, 0.90983607, 0.74489796],\n",
              "       [0.        , 0.26923077, 1.        , 0.17346939],\n",
              "       [0.        , 0.23076923, 1.        , 0.83673469]])"
            ]
          },
          "metadata": {},
          "execution_count": 55
        }
      ],
      "source": [
        "X_scaled"
      ]
    },
    {
      "cell_type": "markdown",
      "source": [],
      "metadata": {
        "id": "OCqwc8_2Hd9r"
      }
    },
    {
      "cell_type": "markdown",
      "source": [
        "**Task 9 - K Means Clustering**"
      ],
      "metadata": {
        "id": "kXw3BL0PIDs2"
      }
    },
    {
      "cell_type": "code",
      "source": [
        "from sklearn.cluster import KMeans"
      ],
      "metadata": {
        "id": "osdUiRLQHc_-"
      },
      "execution_count": 59,
      "outputs": []
    },
    {
      "cell_type": "code",
      "source": [
        "kmeans = KMeans(3)\n",
        "kmeans.fit(X)"
      ],
      "metadata": {
        "colab": {
          "base_uri": "https://localhost:8080/",
          "height": 0
        },
        "id": "pyGT-bYRIYWh",
        "outputId": "89901bfb-bed4-4a9b-c79f-1869dc24b52b"
      },
      "execution_count": 61,
      "outputs": [
        {
          "output_type": "execute_result",
          "data": {
            "text/plain": [
              "KMeans(n_clusters=3)"
            ]
          },
          "metadata": {},
          "execution_count": 61
        }
      ]
    },
    {
      "cell_type": "code",
      "source": [
        "identified_clusters = kmeans.fit_predict(X)\n",
        "identified_clusters"
      ],
      "metadata": {
        "colab": {
          "base_uri": "https://localhost:8080/",
          "height": 0
        },
        "id": "pD-RNgjAIcHR",
        "outputId": "8ab03cbf-18b6-4c85-ac27-5c15c5a31719"
      },
      "execution_count": 63,
      "outputs": [
        {
          "output_type": "execute_result",
          "data": {
            "text/plain": [
              "array([0, 0, 0, 0, 0, 0, 0, 0, 0, 0, 0, 0, 0, 0, 0, 0, 0, 0, 0, 0, 0, 0,\n",
              "       0, 0, 0, 0, 0, 0, 0, 0, 0, 0, 0, 0, 0, 0, 0, 0, 0, 0, 0, 0, 0, 0,\n",
              "       0, 0, 0, 0, 0, 0, 0, 0, 0, 0, 0, 0, 0, 0, 0, 0, 0, 0, 0, 0, 0, 0,\n",
              "       0, 0, 0, 0, 0, 0, 0, 0, 0, 0, 0, 0, 0, 0, 0, 0, 0, 0, 0, 0, 0, 0,\n",
              "       0, 0, 0, 0, 0, 0, 0, 0, 0, 0, 0, 0, 0, 0, 0, 0, 0, 0, 0, 0, 0, 0,\n",
              "       0, 0, 0, 0, 0, 0, 0, 0, 0, 0, 0, 0, 0, 2, 1, 2, 1, 2, 1, 2, 1, 2,\n",
              "       1, 2, 1, 2, 1, 2, 1, 2, 1, 2, 1, 2, 1, 2, 1, 2, 1, 2, 1, 2, 1, 2,\n",
              "       1, 2, 1, 2, 1, 2, 1, 2, 1, 2, 1, 2, 1, 2, 1, 2, 1, 2, 1, 2, 1, 2,\n",
              "       1, 2, 1, 2, 1, 2, 1, 2, 1, 2, 1, 2, 1, 2, 1, 2, 1, 2, 1, 2, 1, 2,\n",
              "       1, 2], dtype=int32)"
            ]
          },
          "metadata": {},
          "execution_count": 63
        }
      ]
    },
    {
      "cell_type": "code",
      "source": [],
      "metadata": {
        "id": "0hysPBxlJHGr"
      },
      "execution_count": null,
      "outputs": []
    },
    {
      "cell_type": "markdown",
      "source": [
        "**Task 10 - Add the Cluster Data with the Primary Dataset**"
      ],
      "metadata": {
        "id": "5RxkiKGPJKzr"
      }
    },
    {
      "cell_type": "code",
      "source": [
        "data_with_clusters = dataset.copy()\n",
        "data_with_clusters['Clusters'] = identified_clusters \n",
        "plt.scatter(data_with_clusters['Annual Income (k$)'],data_with_clusters['Spending Score (1-100)'],c=data_with_clusters['Clusters'],cmap='rainbow')\n",
        "plt.xlabel('Annual Income')\n",
        "plt.ylabel('Spending Score (1-100)')"
      ],
      "metadata": {
        "colab": {
          "base_uri": "https://localhost:8080/",
          "height": 296
        },
        "id": "tH5xEZF3IikU",
        "outputId": "0527ee2e-6c86-492c-e7e9-5e937d37baf7"
      },
      "execution_count": 67,
      "outputs": [
        {
          "output_type": "execute_result",
          "data": {
            "text/plain": [
              "Text(0, 0.5, 'Spending Score (1-100)')"
            ]
          },
          "metadata": {},
          "execution_count": 67
        },
        {
          "output_type": "display_data",
          "data": {
            "text/plain": [
              "<Figure size 432x288 with 1 Axes>"
            ],
            "image/png": "[encoded data removed]"
          },
          "metadata": {
            "needs_background": "light"
          }
        }
      ]
    },
    {
      "cell_type": "code",
      "source": [
        "data_with_clusters"
      ],
      "metadata": {
        "colab": {
          "base_uri": "https://localhost:8080/",
          "height": 423
        },
        "id": "uiMcb5LkJSTw",
        "outputId": "71064a0b-4994-4ded-e4af-30815b969605"
      },
      "execution_count": 74,
      "outputs": [
        {
          "output_type": "execute_result",
          "data": {
            "text/plain": [
              "     CustomerID  Gender  Age  Annual Income (k$)  Spending Score (1-100)  \\\n",
              "0             1       0   19                  15                      39   \n",
              "1             2       0   21                  15                      81   \n",
              "2             3       1   20                  16                       6   \n",
              "3             4       1   23                  16                      77   \n",
              "4             5       1   31                  17                      40   \n",
              "..          ...     ...  ...                 ...                     ...   \n",
              "195         196       1   35                 120                      79   \n",
              "196         197       1   45                 126                      28   \n",
              "197         198       0   32                 126                      74   \n",
              "198         199       0   32                 137                      18   \n",
              "199         200       0   30                 137                      83   \n",
              "\n",
              "     Clusters  \n",
              "0           0  \n",
              "1           0  \n",
              "2           0  \n",
              "3           0  \n",
              "4           0  \n",
              "..        ...  \n",
              "195         2  \n",
              "196         1  \n",
              "197         2  \n",
              "198         1  \n",
              "199         2  \n",
              "\n",
              "[200 rows x 6 columns]"
            ],
            "text/html": [
              "\n",
              "  <div id=\"df-39016083-d350-4dc7-9f50-4dde305df8a4\">\n",
              "    <div class=\"colab-df-container\">\n",
              "      <div>\n",
              "<style scoped>\n",
              "    .dataframe tbody tr th:only-of-type {\n",
              "        vertical-align: middle;\n",
              "    }\n",
              "\n",
              "    .dataframe tbody tr th {\n",
              "        vertical-align: top;\n",
              "    }\n",
              "\n",
              "    .dataframe thead th {\n",
              "        text-align: right;\n",
              "    }\n",
              "</style>\n",
              "<table border=\"1\" class=\"dataframe\">\n",
              "  <thead>\n",
              "    <tr style=\"text-align: right;\">\n",
              "      <th></th>\n",
              "      <th>CustomerID</th>\n",
              "      <th>Gender</th>\n",
              "      <th>Age</th>\n",
              "      <th>Annual Income (k$)</th>\n",
              "      <th>Spending Score (1-100)</th>\n",
              "      <th>Clusters</th>\n",
              "    </tr>\n",
              "  </thead>\n",
              "  <tbody>\n",
              "    <tr>\n",
              "      <th>0</th>\n",
              "      <td>1</td>\n",
              "      <td>0</td>\n",
              "      <td>19</td>\n",
              "      <td>15</td>\n",
              "      <td>39</td>\n",
              "      <td>0</td>\n",
              "    </tr>\n",
              "    <tr>\n",
              "      <th>1</th>\n",
              "      <td>2</td>\n",
              "      <td>0</td>\n",
              "      <td>21</td>\n",
              "      <td>15</td>\n",
              "      <td>81</td>\n",
              "      <td>0</td>\n",
              "    </tr>\n",
              "    <tr>\n",
              "      <th>2</th>\n",
              "      <td>3</td>\n",
              "      <td>1</td>\n",
              "      <td>20</td>\n",
              "      <td>16</td>\n",
              "      <td>6</td>\n",
              "      <td>0</td>\n",
              "    </tr>\n",
              "    <tr>\n",
              "      <th>3</th>\n",
              "      <td>4</td>\n",
              "      <td>1</td>\n",
              "      <td>23</td>\n",
              "      <td>16</td>\n",
              "      <td>77</td>\n",
              "      <td>0</td>\n",
              "    </tr>\n",
              "    <tr>\n",
              "      <th>4</th>\n",
              "      <td>5</td>\n",
              "      <td>1</td>\n",
              "      <td>31</td>\n",
              "      <td>17</td>\n",
              "      <td>40</td>\n",
              "      <td>0</td>\n",
              "    </tr>\n",
              "    <tr>\n",
              "      <th>...</th>\n",
              "      <td>...</td>\n",
              "      <td>...</td>\n",
              "      <td>...</td>\n",
              "      <td>...</td>\n",
              "      <td>...</td>\n",
              "      <td>...</td>\n",
              "    </tr>\n",
              "    <tr>\n",
              "      <th>195</th>\n",
              "      <td>196</td>\n",
              "      <td>1</td>\n",
              "      <td>35</td>\n",
              "      <td>120</td>\n",
              "      <td>79</td>\n",
              "      <td>2</td>\n",
              "    </tr>\n",
              "    <tr>\n",
              "      <th>196</th>\n",
              "      <td>197</td>\n",
              "      <td>1</td>\n",
              "      <td>45</td>\n",
              "      <td>126</td>\n",
              "      <td>28</td>\n",
              "      <td>1</td>\n",
              "    </tr>\n",
              "    <tr>\n",
              "      <th>197</th>\n",
              "      <td>198</td>\n",
              "      <td>0</td>\n",
              "      <td>32</td>\n",
              "      <td>126</td>\n",
              "      <td>74</td>\n",
              "      <td>2</td>\n",
              "    </tr>\n",
              "    <tr>\n",
              "      <th>198</th>\n",
              "      <td>199</td>\n",
              "      <td>0</td>\n",
              "      <td>32</td>\n",
              "      <td>137</td>\n",
              "      <td>18</td>\n",
              "      <td>1</td>\n",
              "    </tr>\n",
              "    <tr>\n",
              "      <th>199</th>\n",
              "      <td>200</td>\n",
              "      <td>0</td>\n",
              "      <td>30</td>\n",
              "      <td>137</td>\n",
              "      <td>83</td>\n",
              "      <td>2</td>\n",
              "    </tr>\n",
              "  </tbody>\n",
              "</table>\n",
              "<p>200 rows × 6 columns</p>\n",
              "</div>\n",
              "      <button class=\"colab-df-convert\" onclick=\"convertToInteractive('df-39016083-d350-4dc7-9f50-4dde305df8a4')\"\n",
              "              title=\"Convert this dataframe to an interactive table.\"\n",
              "              style=\"display:none;\">\n",
              "        \n",
              "  <svg xmlns=\"http://www.w3.org/2000/svg\" height=\"24px\"viewBox=\"0 0 24 24\"\n",
              "       width=\"24px\">\n",
              "    <path d=\"M0 0h24v24H0V0z\" fill=\"none\"/>\n",
              "    <path d=\"M18.56 5.44l.94 2.06.94-2.06 2.06-.94-2.06-.94-.94-2.06-.94 2.06-2.06.94zm-11 1L8.5 8.5l.94-2.06 2.06-.94-2.06-.94L8.5 2.5l-.94 2.06-2.06.94zm10 10l.94 2.06.94-2.06 2.06-.94-2.06-.94-.94-2.06-.94 2.06-2.06.94z\"/><path d=\"M17.41 7.96l-1.37-1.37c-.4-.4-.92-.59-1.43-.59-.52 0-1.04.2-1.43.59L10.3 9.45l-7.72 7.72c-.78.78-.78 2.05 0 2.83L4 21.41c.39.39.9.59 1.41.59.51 0 1.02-.2 1.41-.59l7.78-7.78 2.81-2.81c.8-.78.8-2.07 0-2.86zM5.41 20L4 18.59l7.72-7.72 1.47 1.35L5.41 20z\"/>\n",
              "  </svg>\n",
              "      </button>\n",
              "      \n",
              "  <style>\n",
              "    .colab-df-container {\n",
              "      display:flex;\n",
              "      flex-wrap:wrap;\n",
              "      gap: 12px;\n",
              "    }\n",
              "\n",
              "    .colab-df-convert {\n",
              "      background-color: #E8F0FE;\n",
              "      border: none;\n",
              "      border-radius: 50%;\n",
              "      cursor: pointer;\n",
              "      display: none;\n",
              "      fill: #1967D2;\n",
              "      height: 32px;\n",
              "      padding: 0 0 0 0;\n",
              "      width: 32px;\n",
              "    }\n",
              "\n",
              "    .colab-df-convert:hover {\n",
              "      background-color: #E2EBFA;\n",
              "      box-shadow: 0px 1px 2px rgba(60, 64, 67, 0.3), 0px 1px 3px 1px rgba(60, 64, 67, 0.15);\n",
              "      fill: #174EA6;\n",
              "    }\n",
              "\n",
              "    [theme=dark] .colab-df-convert {\n",
              "      background-color: #3B4455;\n",
              "      fill: #D2E3FC;\n",
              "    }\n",
              "\n",
              "    [theme=dark] .colab-df-convert:hover {\n",
              "      background-color: #434B5C;\n",
              "      box-shadow: 0px 1px 3px 1px rgba(0, 0, 0, 0.15);\n",
              "      filter: drop-shadow(0px 1px 2px rgba(0, 0, 0, 0.3));\n",
              "      fill: #FFFFFF;\n",
              "    }\n",
              "  </style>\n",
              "\n",
              "      <script>\n",
              "        const buttonEl =\n",
              "          document.querySelector('#df-39016083-d350-4dc7-9f50-4dde305df8a4 button.colab-df-convert');\n",
              "        buttonEl.style.display =\n",
              "          google.colab.kernel.accessAllowed ? 'block' : 'none';\n",
              "\n",
              "        async function convertToInteractive(key) {\n",
              "          const element = document.querySelector('#df-39016083-d350-4dc7-9f50-4dde305df8a4');\n",
              "          const dataTable =\n",
              "            await google.colab.kernel.invokeFunction('convertToInteractive',\n",
              "                                                     [key], {});\n",
              "          if (!dataTable) return;\n",
              "\n",
              "          const docLinkHtml = 'Like what you see? Visit the ' +\n",
              "            '<a target=\"_blank\" href=https://colab.research.google.com/notebooks/data_table.ipynb>data table notebook</a>'\n",
              "            + ' to learn more about interactive tables.';\n",
              "          element.innerHTML = '';\n",
              "          dataTable['output_type'] = 'display_data';\n",
              "          await google.colab.output.renderOutput(dataTable, element);\n",
              "          const docLink = document.createElement('div');\n",
              "          docLink.innerHTML = docLinkHtml;\n",
              "          element.appendChild(docLink);\n",
              "        }\n",
              "      </script>\n",
              "    </div>\n",
              "  </div>\n",
              "  "
            ]
          },
          "metadata": {},
          "execution_count": 74
        }
      ]
    },
    {
      "cell_type": "markdown",
      "metadata": {
        "id": "x-7ySR0fJozQ"
      },
      "source": [
        "**Task 11 - Split the data into dependent and independent variables**"
      ]
    },
    {
      "cell_type": "code",
      "execution_count": 70,
      "metadata": {
        "id": "6GtkDP2sJozR"
      },
      "outputs": [],
      "source": [
        "X=data_with_clusters[['Gender','Age','Annual Income (k$)','Spending Score (1-100)']].values"
      ]
    },
    {
      "cell_type": "code",
      "execution_count": 71,
      "metadata": {
        "colab": {
          "base_uri": "https://localhost:8080/",
          "height": 0
        },
        "outputId": "ae90a042-5aa3-4999-d3c9-8d808bb70f03",
        "id": "Fx3ZUEBbJozR"
      },
      "outputs": [
        {
          "output_type": "execute_result",
          "data": {
            "text/plain": [
              "array([[  0,  19,  15,  39],\n",
              "       [  0,  21,  15,  81],\n",
              "       [  1,  20,  16,   6],\n",
              "       [  1,  23,  16,  77],\n",
              "       [  1,  31,  17,  40],\n",
              "       [  1,  22,  17,  76],\n",
              "       [  1,  35,  18,   6],\n",
              "       [  1,  23,  18,  94],\n",
              "       [  0,  64,  19,   3],\n",
              "       [  1,  30,  19,  72],\n",
              "       [  0,  67,  19,  14],\n",
              "       [  1,  35,  19,  99],\n",
              "       [  1,  58,  20,  15],\n",
              "       [  1,  24,  20,  77],\n",
              "       [  0,  37,  20,  13],\n",
              "       [  0,  22,  20,  79],\n",
              "       [  1,  35,  21,  35],\n",
              "       [  0,  20,  21,  66],\n",
              "       [  0,  52,  23,  29],\n",
              "       [  1,  35,  23,  98],\n",
              "       [  0,  35,  24,  35],\n",
              "       [  0,  25,  24,  73],\n",
              "       [  1,  46,  25,   5],\n",
              "       [  0,  31,  25,  73],\n",
              "       [  1,  54,  28,  14],\n",
              "       [  0,  29,  28,  82],\n",
              "       [  1,  45,  28,  32],\n",
              "       [  0,  35,  28,  61],\n",
              "       [  1,  40,  29,  31],\n",
              "       [  1,  23,  29,  87],\n",
              "       [  0,  60,  30,   4],\n",
              "       [  1,  21,  30,  73],\n",
              "       [  0,  53,  33,   4],\n",
              "       [  0,  18,  33,  92],\n",
              "       [  1,  49,  33,  14],\n",
              "       [  1,  21,  33,  81],\n",
              "       [  1,  42,  34,  17],\n",
              "       [  1,  30,  34,  73],\n",
              "       [  1,  36,  37,  26],\n",
              "       [  1,  20,  37,  75],\n",
              "       [  1,  65,  38,  35],\n",
              "       [  0,  24,  38,  92],\n",
              "       [  0,  48,  39,  36],\n",
              "       [  1,  31,  39,  61],\n",
              "       [  1,  49,  39,  28],\n",
              "       [  1,  24,  39,  65],\n",
              "       [  1,  50,  40,  55],\n",
              "       [  1,  27,  40,  47],\n",
              "       [  1,  29,  40,  42],\n",
              "       [  1,  31,  40,  42],\n",
              "       [  1,  49,  42,  52],\n",
              "       [  0,  33,  42,  60],\n",
              "       [  1,  31,  43,  54],\n",
              "       [  0,  59,  43,  60],\n",
              "       [  1,  50,  43,  45],\n",
              "       [  0,  47,  43,  41],\n",
              "       [  1,  51,  44,  50],\n",
              "       [  0,  69,  44,  46],\n",
              "       [  1,  27,  46,  51],\n",
              "       [  0,  53,  46,  46],\n",
              "       [  0,  70,  46,  56],\n",
              "       [  0,  19,  46,  55],\n",
              "       [  1,  67,  47,  52],\n",
              "       [  1,  54,  47,  59],\n",
              "       [  0,  63,  48,  51],\n",
              "       [  0,  18,  48,  59],\n",
              "       [  1,  43,  48,  50],\n",
              "       [  1,  68,  48,  48],\n",
              "       [  0,  19,  48,  59],\n",
              "       [  1,  32,  48,  47],\n",
              "       [  0,  70,  49,  55],\n",
              "       [  1,  47,  49,  42],\n",
              "       [  1,  60,  50,  49],\n",
              "       [  1,  60,  50,  56],\n",
              "       [  0,  59,  54,  47],\n",
              "       [  0,  26,  54,  54],\n",
              "       [  1,  45,  54,  53],\n",
              "       [  0,  40,  54,  48],\n",
              "       [  1,  23,  54,  52],\n",
              "       [  1,  49,  54,  42],\n",
              "       [  0,  57,  54,  51],\n",
              "       [  0,  38,  54,  55],\n",
              "       [  0,  67,  54,  41],\n",
              "       [  1,  46,  54,  44],\n",
              "       [  1,  21,  54,  57],\n",
              "       [  0,  48,  54,  46],\n",
              "       [  1,  55,  57,  58],\n",
              "       [  1,  22,  57,  55],\n",
              "       [  1,  34,  58,  60],\n",
              "       [  1,  50,  58,  46],\n",
              "       [  1,  68,  59,  55],\n",
              "       [  0,  18,  59,  41],\n",
              "       [  0,  48,  60,  49],\n",
              "       [  1,  40,  60,  40],\n",
              "       [  1,  32,  60,  42],\n",
              "       [  0,  24,  60,  52],\n",
              "       [  1,  47,  60,  47],\n",
              "       [  1,  27,  60,  50],\n",
              "       [  0,  48,  61,  42],\n",
              "       [  0,  20,  61,  49],\n",
              "       [  1,  23,  62,  41],\n",
              "       [  1,  49,  62,  48],\n",
              "       [  0,  67,  62,  59],\n",
              "       [  0,  26,  62,  55],\n",
              "       [  0,  49,  62,  56],\n",
              "       [  1,  21,  62,  42],\n",
              "       [  1,  66,  63,  50],\n",
              "       [  0,  54,  63,  46],\n",
              "       [  0,  68,  63,  43],\n",
              "       [  0,  66,  63,  48],\n",
              "       [  0,  65,  63,  52],\n",
              "       [  1,  19,  63,  54],\n",
              "       [  1,  38,  64,  42],\n",
              "       [  0,  19,  64,  46],\n",
              "       [  1,  18,  65,  48],\n",
              "       [  1,  19,  65,  50],\n",
              "       [  1,  63,  65,  43],\n",
              "       [  1,  49,  65,  59],\n",
              "       [  1,  51,  67,  43],\n",
              "       [  1,  50,  67,  57],\n",
              "       [  0,  27,  67,  56],\n",
              "       [  1,  38,  67,  40],\n",
              "       [  1,  40,  69,  58],\n",
              "       [  0,  39,  69,  91],\n",
              "       [  1,  23,  70,  29],\n",
              "       [  1,  31,  70,  77],\n",
              "       [  0,  43,  71,  35],\n",
              "       [  0,  40,  71,  95],\n",
              "       [  0,  59,  71,  11],\n",
              "       [  0,  38,  71,  75],\n",
              "       [  0,  47,  71,   9],\n",
              "       [  0,  39,  71,  75],\n",
              "       [  1,  25,  72,  34],\n",
              "       [  1,  31,  72,  71],\n",
              "       [  0,  20,  73,   5],\n",
              "       [  1,  29,  73,  88],\n",
              "       [  1,  44,  73,   7],\n",
              "       [  0,  32,  73,  73],\n",
              "       [  0,  19,  74,  10],\n",
              "       [  1,  35,  74,  72],\n",
              "       [  1,  57,  75,   5],\n",
              "       [  0,  32,  75,  93],\n",
              "       [  1,  28,  76,  40],\n",
              "       [  1,  32,  76,  87],\n",
              "       [  0,  25,  77,  12],\n",
              "       [  0,  28,  77,  97],\n",
              "       [  0,  48,  77,  36],\n",
              "       [  1,  32,  77,  74],\n",
              "       [  1,  34,  78,  22],\n",
              "       [  0,  34,  78,  90],\n",
              "       [  0,  43,  78,  17],\n",
              "       [  0,  39,  78,  88],\n",
              "       [  1,  44,  78,  20],\n",
              "       [  1,  38,  78,  76],\n",
              "       [  1,  47,  78,  16],\n",
              "       [  1,  27,  78,  89],\n",
              "       [  0,  37,  78,   1],\n",
              "       [  1,  30,  78,  78],\n",
              "       [  0,  34,  78,   1],\n",
              "       [  1,  30,  78,  73],\n",
              "       [  1,  56,  79,  35],\n",
              "       [  1,  29,  79,  83],\n",
              "       [  0,  19,  81,   5],\n",
              "       [  1,  31,  81,  93],\n",
              "       [  0,  50,  85,  26],\n",
              "       [  1,  36,  85,  75],\n",
              "       [  0,  42,  86,  20],\n",
              "       [  1,  33,  86,  95],\n",
              "       [  1,  36,  87,  27],\n",
              "       [  0,  32,  87,  63],\n",
              "       [  0,  40,  87,  13],\n",
              "       [  0,  28,  87,  75],\n",
              "       [  0,  36,  87,  10],\n",
              "       [  0,  36,  87,  92],\n",
              "       [  1,  52,  88,  13],\n",
              "       [  1,  30,  88,  86],\n",
              "       [  0,  58,  88,  15],\n",
              "       [  0,  27,  88,  69],\n",
              "       [  0,  59,  93,  14],\n",
              "       [  0,  35,  93,  90],\n",
              "       [  1,  37,  97,  32],\n",
              "       [  1,  32,  97,  86],\n",
              "       [  0,  46,  98,  15],\n",
              "       [  1,  29,  98,  88],\n",
              "       [  1,  41,  99,  39],\n",
              "       [  0,  30,  99,  97],\n",
              "       [  1,  54, 101,  24],\n",
              "       [  0,  28, 101,  68],\n",
              "       [  1,  41, 103,  17],\n",
              "       [  1,  36, 103,  85],\n",
              "       [  1,  34, 103,  23],\n",
              "       [  1,  32, 103,  69],\n",
              "       [  0,  33, 113,   8],\n",
              "       [  1,  38, 113,  91],\n",
              "       [  1,  47, 120,  16],\n",
              "       [  1,  35, 120,  79],\n",
              "       [  1,  45, 126,  28],\n",
              "       [  0,  32, 126,  74],\n",
              "       [  0,  32, 137,  18],\n",
              "       [  0,  30, 137,  83]])"
            ]
          },
          "metadata": {},
          "execution_count": 71
        }
      ],
      "source": [
        "X"
      ]
    },
    {
      "cell_type": "code",
      "source": [
        "Y=data_with_clusters['Clusters'].values"
      ],
      "metadata": {
        "id": "SZKiYkE_JtsF"
      },
      "execution_count": 72,
      "outputs": []
    },
    {
      "cell_type": "code",
      "source": [
        "Y"
      ],
      "metadata": {
        "colab": {
          "base_uri": "https://localhost:8080/",
          "height": 0
        },
        "id": "_HBcO2XqJ5KC",
        "outputId": "506d7111-9cd1-442c-e83d-d325741cf7e2"
      },
      "execution_count": 73,
      "outputs": [
        {
          "output_type": "execute_result",
          "data": {
            "text/plain": [
              "array([0, 0, 0, 0, 0, 0, 0, 0, 0, 0, 0, 0, 0, 0, 0, 0, 0, 0, 0, 0, 0, 0,\n",
              "       0, 0, 0, 0, 0, 0, 0, 0, 0, 0, 0, 0, 0, 0, 0, 0, 0, 0, 0, 0, 0, 0,\n",
              "       0, 0, 0, 0, 0, 0, 0, 0, 0, 0, 0, 0, 0, 0, 0, 0, 0, 0, 0, 0, 0, 0,\n",
              "       0, 0, 0, 0, 0, 0, 0, 0, 0, 0, 0, 0, 0, 0, 0, 0, 0, 0, 0, 0, 0, 0,\n",
              "       0, 0, 0, 0, 0, 0, 0, 0, 0, 0, 0, 0, 0, 0, 0, 0, 0, 0, 0, 0, 0, 0,\n",
              "       0, 0, 0, 0, 0, 0, 0, 0, 0, 0, 0, 0, 0, 2, 1, 2, 1, 2, 1, 2, 1, 2,\n",
              "       1, 2, 1, 2, 1, 2, 1, 2, 1, 2, 1, 2, 1, 2, 1, 2, 1, 2, 1, 2, 1, 2,\n",
              "       1, 2, 1, 2, 1, 2, 1, 2, 1, 2, 1, 2, 1, 2, 1, 2, 1, 2, 1, 2, 1, 2,\n",
              "       1, 2, 1, 2, 1, 2, 1, 2, 1, 2, 1, 2, 1, 2, 1, 2, 1, 2, 1, 2, 1, 2,\n",
              "       1, 2], dtype=int32)"
            ]
          },
          "metadata": {},
          "execution_count": 73
        }
      ]
    },
    {
      "cell_type": "markdown",
      "metadata": {
        "id": "GaxQVkY9kizV"
      },
      "source": [
        "**Task 12 - Train - Test Split**"
      ]
    },
    {
      "cell_type": "code",
      "execution_count": 50,
      "metadata": {
        "id": "lLhKKMXplIc8"
      },
      "outputs": [],
      "source": [
        "from sklearn.model_selection import train_test_split"
      ]
    },
    {
      "cell_type": "code",
      "execution_count": 75,
      "metadata": {
        "id": "KmZi4lVekcpQ"
      },
      "outputs": [],
      "source": [
        "x_train,x_test,y_train,y_test=train_test_split(X,Y)"
      ]
    },
    {
      "cell_type": "code",
      "execution_count": 76,
      "metadata": {
        "colab": {
          "base_uri": "https://localhost:8080/",
          "height": 0
        },
        "id": "RGWd-slslGo0",
        "outputId": "fd9741e8-4674-4aee-bde8-77e2e82f4fcd"
      },
      "outputs": [
        {
          "output_type": "execute_result",
          "data": {
            "text/plain": [
              "(150, 4)"
            ]
          },
          "metadata": {},
          "execution_count": 76
        }
      ],
      "source": [
        "x_train.shape"
      ]
    },
    {
      "cell_type": "code",
      "execution_count": 77,
      "metadata": {
        "colab": {
          "base_uri": "https://localhost:8080/",
          "height": 0
        },
        "id": "6uxlwX0YlTRV",
        "outputId": "ea6a910b-5b85-4d72-9f07-82f3902d2691"
      },
      "outputs": [
        {
          "output_type": "execute_result",
          "data": {
            "text/plain": [
              "(50, 4)"
            ]
          },
          "metadata": {},
          "execution_count": 77
        }
      ],
      "source": [
        "x_test.shape"
      ]
    },
    {
      "cell_type": "markdown",
      "metadata": {
        "id": "iW8ebuAjlWKW"
      },
      "source": [
        "**Task 13 - Building the Model**"
      ]
    },
    {
      "cell_type": "code",
      "execution_count": 80,
      "metadata": {
        "id": "gQqwSTmglVNn"
      },
      "outputs": [],
      "source": [
        "from sklearn.linear_model import LogisticRegression"
      ]
    },
    {
      "cell_type": "code",
      "execution_count": 82,
      "metadata": {
        "id": "JebmC_kFlhEs"
      },
      "outputs": [],
      "source": [
        "model=LogisticRegression()"
      ]
    },
    {
      "cell_type": "markdown",
      "metadata": {
        "id": "kvg5xc4Yllv3"
      },
      "source": [
        "**Task 14 - Train the Model**"
      ]
    },
    {
      "cell_type": "code",
      "execution_count": 83,
      "metadata": {
        "colab": {
          "base_uri": "https://localhost:8080/",
          "height": 0
        },
        "id": "BgpYtAOSlkuh",
        "outputId": "0e6a5615-7299-4607-e638-2afc661a5647"
      },
      "outputs": [
        {
          "output_type": "stream",
          "name": "stderr",
          "text": [
            "/usr/local/lib/python3.7/dist-packages/sklearn/linear_model/_logistic.py:818: ConvergenceWarning: lbfgs failed to converge (status=1):\n",
            "STOP: TOTAL NO. of ITERATIONS REACHED LIMIT.\n",
            "\n",
            "Increase the number of iterations (max_iter) or scale the data as shown in:\n",
            "    https://scikit-learn.org/stable/modules/preprocessing.html\n",
            "Please also refer to the documentation for alternative solver options:\n",
            "    https://scikit-learn.org/stable/modules/linear_model.html#logistic-regression\n",
            "  extra_warning_msg=_LOGISTIC_SOLVER_CONVERGENCE_MSG,\n"
          ]
        },
        {
          "output_type": "execute_result",
          "data": {
            "text/plain": [
              "LogisticRegression()"
            ]
          },
          "metadata": {},
          "execution_count": 83
        }
      ],
      "source": [
        "model.fit(x_train,y_train)"
      ]
    },
    {
      "cell_type": "markdown",
      "metadata": {
        "id": "M3ue6f5elusn"
      },
      "source": [
        "**Task 15 - Test the Model**"
      ]
    },
    {
      "cell_type": "code",
      "execution_count": 84,
      "metadata": {
        "id": "ZZJtGV9Clr_q"
      },
      "outputs": [],
      "source": [
        "predicted=model.predict(x_test)"
      ]
    },
    {
      "cell_type": "code",
      "execution_count": 85,
      "metadata": {
        "colab": {
          "base_uri": "https://localhost:8080/",
          "height": 0
        },
        "id": "tguqwQuqmNx8",
        "outputId": "2b306b84-b6c9-42b2-e950-1a0249df94bc"
      },
      "outputs": [
        {
          "output_type": "execute_result",
          "data": {
            "text/plain": [
              "array([0, 0, 2, 0, 0, 2, 0, 0, 0, 0, 0, 1, 1, 1, 0, 0, 0, 0, 1, 0, 0, 0,\n",
              "       0, 0, 1, 0, 1, 2, 2, 0, 0, 2, 0, 2, 1, 2, 0, 1, 0, 0, 0, 0, 1, 1,\n",
              "       0, 1, 1, 2, 0, 0], dtype=int32)"
            ]
          },
          "metadata": {},
          "execution_count": 85
        }
      ],
      "source": [
        "predicted"
      ]
    },
    {
      "cell_type": "code",
      "execution_count": 86,
      "metadata": {
        "colab": {
          "base_uri": "https://localhost:8080/",
          "height": 0
        },
        "id": "_LTUtcP5l0h7",
        "outputId": "422693f1-a7bc-41ae-b56e-1d3315af15db"
      },
      "outputs": [
        {
          "output_type": "execute_result",
          "data": {
            "text/plain": [
              "array([0, 0, 2, 0, 0, 2, 0, 0, 0, 0, 0, 1, 1, 1, 0, 0, 0, 0, 1, 0, 0, 0,\n",
              "       0, 0, 1, 0, 1, 2, 2, 0, 0, 2, 0, 2, 1, 2, 0, 1, 0, 0, 0, 0, 1, 1,\n",
              "       0, 1, 1, 2, 0, 0], dtype=int32)"
            ]
          },
          "metadata": {},
          "execution_count": 86
        }
      ],
      "source": [
        "y_test"
      ]
    },
    {
      "cell_type": "markdown",
      "source": [
        "**Task 16 - Measure the performance using Evaluation Metrics**"
      ],
      "metadata": {
        "id": "aMV31UYwK75T"
      }
    },
    {
      "cell_type": "code",
      "execution_count": 87,
      "metadata": {
        "id": "bDjxLSoWId4F"
      },
      "outputs": [],
      "source": [
        "from sklearn.metrics import classification_report"
      ]
    },
    {
      "cell_type": "code",
      "source": [
        "target_names = ['class 0', 'class 1', 'class 2']\n",
        "print(classification_report(y_test, predicted, target_names=target_names))"
      ],
      "metadata": {
        "colab": {
          "base_uri": "https://localhost:8080/",
          "height": 0
        },
        "id": "GGtlxZ5TLKuU",
        "outputId": "dedc84e0-7fd9-4dfb-ac22-d77a9094b984"
      },
      "execution_count": 88,
      "outputs": [
        {
          "output_type": "stream",
          "name": "stdout",
          "text": [
            "              precision    recall  f1-score   support\n",
            "\n",
            "     class 0       1.00      1.00      1.00        30\n",
            "     class 1       1.00      1.00      1.00        12\n",
            "     class 2       1.00      1.00      1.00         8\n",
            "\n",
            "    accuracy                           1.00        50\n",
            "   macro avg       1.00      1.00      1.00        50\n",
            "weighted avg       1.00      1.00      1.00        50\n",
            "\n"
          ]
        }
      ]
    },
    {
      "cell_type": "code",
      "source": [],
      "metadata": {
        "id": "FV59j8hYLRyd"
      },
      "execution_count": null,
      "outputs": []
    }
  ],
  "metadata": {
    "colab": {
      "collapsed_sections": [],
      "provenance": []
    },
    "kernelspec": {
      "display_name": "Python 3",
      "name": "python3"
    },
    "language_info": {
      "name": "python"
    }
  },
  "nbformat": 4,
  "nbformat_minor": 0
}
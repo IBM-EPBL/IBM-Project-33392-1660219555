{
 "cells": [
  {
   "cell_type": "markdown",
   "metadata": {
    "id": "WR3IkLYZFm54"
   },
   "source": [
    "![image.png](data:image/png;base64,iVBORw0KGgoAAAANSUhEUgAAAgsAAAB8CAYAAADn5/OeAAAgAElEQVR4nO3dT2gbZ/4/8Ld+7KFSKaErUQcEqhxKLbLwlfHq4CL54kKkZS/bGpwGWd2jTLxLCNS9BOsg4ZOXNSmbYvewB0vqNgGnh4XFWqhhsYbqoBp7D1npkgi3WuJl1BJapGUv8zuY58nMaDSS/Cd2pPcLTBtpZvQ8M8/MfJ4/M49D0zQNRERERB38v/NOABEREV1sDBaIiIjIFoMFIiIissVggYiIiGwxWCAiIiJbDBaIiIjIFoMFIiIissVggYiIiGwxWCAiIiJbDBaIiIjIFoMFIiIissVggYiIiGwxWCAieol88803WF5ePu9k0JBhsEBE9JL58ssvzzsJNGQYLBAREZEtBgsDLp/Pw+FwtP3FYjE0Go1T2XY+nz+VtDYaDczPz3dMVyaTscxLJpM5ld/vhUiDoigv7DfPQj6f73jcqtUqxsfHLfe1yHej0UAsFjuVcvQimc+H0yi7xzkPupV1/XKxWAzz8/NotVonTSrRsTFYGFKFQgHxePxEF/p4PA5N0xCPx0+cnkajgXg8jlqt1ve6qVSKF9M+5PN5zM3NHWvdSCTy0gZKiqK05Xtubu7EAUO/50GvZV1RFHg8HhQKhROlj+g0MFgYErlcDpqmQdM0NJtNJJNJPH36FKqqyprkjRs3cOPGDUMtSVGUjjUxqxqVvuY2Pj6OarUqv2u1Wpifn5ffixu8uHgWCgUUCgV4PB7bG1KxWJR5UVUV0WgU6+vrePjwoVxG3wohar/i9/W1YfGZPq12ebCi/y3z8mJbq6uriMVibcuIfT8/P4+PP/7Y8L2+hm9uPbHKX6ft6Y+RPlCYm5uzDbKSySSazabc17lcDgDabnKVSsUynaJWbNUyAbSXLXNazC0cJ72pb29vA3heforFIgBgZ2cHrVar674Dnu938d9YLIb19fW2fdzpmPda1vP5PCKRCK5du4ZgMHiifBOdCo0GWi6X0wBouVxOftZsNrVkMqkFg0GtUqlolUpFCwaDGgANgPy8WCzKz/R/6XTactvi3/q/aDSqqaoqf9P8fTKZ1L777jstGo0aPi8Wi215SafTlt+JdIp0ieXMv9NsNmUaxTZE3s3fW+XBKg1Wv6X/3mp7+m2a9734u3btWtvndr8p0t9pe+KYmtMj1tMz7xOrsqSqatsx06ez0/Hulm9xDDt9b1UueiXSrz+eVvm2O57mfZ9Op3s6D/ot67lczrCf9ceiXC5rv/zlL4+9H4iOgy0LQ2Jubk7WlFwuF9bX1zE5OQmfzyeXCQaDqFQq2Nvbg8/nQzabBfC8JiZq8Zubm2217VarhZ2dHUSjUaiqKmtuhUIBW1tb2N3dxfr6uqytitaNUqmEn376Cfl8HtFoVK4fDod7zpvH40EwGES9Xke9XoeiKIZacS6Xw/r6OnZ3dxEKhRAMBmUts1wuY39/H1NTUwBgmwezarWKzc3NtuUBIJvNGmrJ5nwXCgVUKpW2fS/28d///ncsLi5C0zSk02kARzX6RqNhmz/z9sTv7e/vQ1VVxONx2UKQy+WwtrYGp9NpuV/X19fhcrlkuZmbm0MwGEQoFDIsJ8qHvuXB6XRibW2tY2uWkE6n5TKapmFpaclwXMxlz7xf+yGOvajRdxrvIvadPk+ivJjTLdJrRRyjSqWCYDCIWq2GV155paeyHo/HT6V7j+i0MFgYUslkEqurq4YbhT54ODg4QKlUQjKZxMTEBADA7XYjkUjIG49es9lErVYzXIgjkQgA4PHjx7LpempqCk6nU95M9vb2MDY2dmr5UlUVT58+NdzoRLN7rVaDz+fD5OQkFEXBd999J4ODWCzWNQ9m4oaWSCTgdrsBABMTE0gmk6jVamg2m3LZRCIh851IJGR6BLHvXS4X/H6/4aZ85cqVnvNn3p7T6ZSB0EkFg0Hcv3/fcLyi0SgCgQAAwO/3W66XyWRkgCqI45BKpSyb+8X+jkQicDgcsu/evF+Bzt1bZmNjY/jqq68QjUblZ1bjXWZmZmQeY7EYotEo6vW6YZnp6emu+0uUdZFXopcZg4UhoR+zoGmabY0SOKqtX758+VR+u16v43//+9+pbMuKqqrY39+H1+vFK6+80nG5x48fy5tnoVDA3/72N5RKJYTDYXmz78R8swA63xytHGfgZr+sApqTMI9Z6Cew048FmZ2dlS0LgggWRYsB0H0MBYC2lol+ud1ubG1tGVqBSqUSDg4O5DJWx5po2DFYIEuihqtv3m40GshmswgGg/B4PJbL65vk9YHJ22+/DeCoeV4MxjuNxxBbrZbsLpmenpZBjvlGp28yFs3Ronle1BK75cEcXInuD32eRHeL3++Hy+WSy4pBdPr09hNs6H+zW/4uAtEyJVo4RKuNmbh567ulDg4OZGuKfjBrp4DF3OVhdaysBrKKViAzffCwtbWFQqEAr9drG1wTDToGC2RJ31xubgrWN9Pqlxc1dtGErx8BLy7M+u9TqZShmwOA/N5u5LtIj378hdiO2+1GOBxu62/X3yTGxsYwMzMDwNiM3i0PZmI7Vt0WottBEOkR6dX/bj96yV+v5ubmzvw9CSKd5kcAzU9CmMfRiIBOf6xP8k4NcWz39/cRCARsx+7olxFdPL10O/Srl7JOdFEwWKCOwuGwbKoVcrlcxxqsfvCcfvlwOAyn04nV1VVDTS4ajWJ5eRlOp1OOhziOdDptqE0uLS3JQYHCvXv3DAGOuPibuyDs8mDF/FticJx5+T/+8Y+yuT0YDOLu3btduz466SV/dkQ//FkaGxvD4uKi/Hc6nUaxWMT+/j7K5bJl2dKXh7GxMdy/f9/w2GAymcRHH3107DRZHVursTvJZNKQdrvjfxwnKetE58WhaZp23omgl5N4Zr9YLJ7qxXSQiH2Uy+U4uv2Cq1aruH79OiYnJ9sCiIvkm2++QTKZRLlcPu+k0BD52XkngF4++hfLEBHR4GM3BPVNPL4HoG3MARERDR52QxARvUS++eYbHBwc4L333jvvpNAQYbBAREREttgNQURERLYYLBAREZEtBgtERERki8ECERER2WKwQERERLYYLBAREZEtBgtERERki8ECERER2WKwQERERLYYLBAREZEtBgtERERki8ECERER2WKwQERERLZ+dt4JOA0Oh+O8k0BERENs0CdwHohgARj8AzWIHA4HjxsRvfSGocLKbggiIiKyxWCBiIiIbA18sFCtVjE+Pg6Hw2H4y2Qy55006iKfz8vjlc/nO37ncDgQi8XQaDTatiGOv3n9RqOBGzduoFqtnmkeeqUoSsc8nJT5HDCXff338/PzaLVa8jvzflYURX7XaDQQi8Xkd+Z1iWhwDHywAAAjIyOoVCrQNA2apkFVVSiK0nPAkM/neSF8warVKjY2NlCpVFCpVLCxsWG4sT9+/Bi5XE4e062tLbjd7o7by2azZ3IjvugajQZu3bqFe/fuGcq+CJ5arRZWV1exuLiIZrMJAHj48CGAowAmm81CVVVomoZisYiFhQVUq1W0Wi3cuXMHiUQCmqbJdf/whz+cT0aJ6EwNRbBg5na7cffuXRSLxQtTsySjcrmM0dFR+Hw+jI2NIRKJoFwuAzi6wdXrdfj9/p62NTIyAk3T8Omnn55lki8kt9uNra0thMNh+e9wOIzHjx8DAA4ODvDkyROEQiE4nU4kEgns7Oyg1WohHA4bgrBAIIDLly9DVVU4nU6sra0hHo8DAJxOJ6amplCv1xlUEw2goQwWAMDj8cDhcEBVVQBHN6D5+fm2Zm1FUTA3N4f19XXcvn1bXggzmQy7NM7Q48eP4fV64XQ6DZ8BQLPZxLNnz+DxeHre3s2bN7G5uWloRjezOqaiXOi7McxdBp3KglhudXXV0IyvX96cno2NjZ6a/MV3In1im/2WRVVV4XA4DPuyVqvJlgIiImCIgwWXywW/349arQbgqOnV6/XKJlW/3y9rZLlcDslkEqurq3A6ncjn86jX62g2m2g2m6jX62194nRyV65csfx/VVXxr3/9C4FAoONN1ywQCGBxcRHZbNay5qs/pvqmelFjFrVtANje3kY4HIbb7e5aFgqFAt544w1omoZcLodIJILp6WlomoZ0Om1IT6FQwE8//dS1yb9SqSCdThtaxUQalpaWbPdDtVrF5uYmpqen5Wd+vx8ulwvAURD9+uuvW667tbUl96VZo9FANpvF1NSUIcAjosEwtMGCWTwelxfaZrMpgwizVquFnZ0dJBIJOJ3OtqZbOnuiNUiMQ9HfWO28//77AJ73yQvimIobndvtNhzTUCiEJ0+e4ODgAK1WCz/++CNmZ2d7KgvRaBSxWAzA0U05Go3Km60+AAKAYDCI2dlZAMDExAQmJydRLpdxcHCAZ8+eye2Yu2UA9HSTFuMXZmZmZLdEr0QL29LSUtvYEBHM+P1+uY+JaLAMbbAgAgLR760oiqylvvvuux1fFiTWi0QicvlIJMKm2zMguh3M/x8Oh7G3t4exsTEAxhurHXEzX1lZQaVSkZ+by4KZ/uZ8cHAAAPD5fKdeFi5fviy7A5xOJ7xeL4Cj4OiLL76QXWcOhwOpVMqwT7ppNBqIx+MIh8NtrQ/69Kqqih9++MHwvaIoiEQiKBaLbUFGq9XC7du3AUC2vBHR4BnaYKFSqeDp06fweDxotVrIZrNydP3XX3+N0dFRy/VE90WxWJQj8XsZjU/9Mde6O32m18uAx3A4jJmZGWSzWfmZuUvKyvT0NHZ2dvCPf/wDwWAQTqfzTMuCGMQJHHUNfPDBB/KpBPHXrctBEIFCIpFoW8eq20HfLaEoChYWFlCpVDoGCl6vF2trawwUiAbYUAYLjUYDmUwGMzMzsnYKPK+97u7uYn193XJd0Yet72vOZDJ8tPKUhUIh+bRKtVpFsVhEKBQC0P4o68OHD1Gr1Sz70q3cvHkTtVoN//rXvwCgbVyCVf97IBBArVbDw4cPZXfAaZeFQqEgxwXs7u6iVCohFArB5/Ph0qVL8jsx2LGXcTKiiyAcDssnF/T02xZBs8h3tVrFwsIC7t27ZzhPBPGY5EcffdR3Xono5TIUwcLh4aFhMJzH4zHUskTzdCqVgsPhwPb2NtLptAweQqEQSqUS3nvvPVlL83q9cLlccnDd8vIya1anaGxsDB9++CECgQACgQA+/PBDecOKx+OYmpqS+39lZQV3797tuTYvxiTo6Y+px+Npu7mKRw7FwEar9U5aFqLRKP7zn//I7gxxk3Y6nVheXkY2m5Xlt9PN3+zg4AClUkmWbfMLlJxOJ27fvo2VlRXZmiDGHZTLZezv7xu6WcQLssSTQuvr6zLvdi/HIqKXm0MbgJl8OCHRy4nHjYgGwTBcy4aiZYGIiIiOb2CmqB6GKUIHEY8bEdHFNzDBwqA3AQ2iYWi6I6LBNwyVHnZDEBERkS0GC0RERGRroIMF8+RQ5r/zmM9BPCMv5jLQTyok/sbHx4d+Nsx8Pm95zPRzQGQyGctH9fL5PDKZTM/H3/xb5nkmOk38ZJ7cyfx+hU7b1b8t1Pwn8iN+05wW8Zv6MqJ/74Q5TZ3SZs6f+VzQ59mqPNpNpKbPd6dzTFEUvpuE6CUy0MGCmEZXTA6VTCblWxo1TevpOfUXIZ1OG97Mt7i4iOvXrw99wJBMJtFsNuV+sZoDQv8iI7Nejr+iKMhms/LtiObfUBQFiqJAVVUUi0VkMhk0Go22yZ3E65LFi4rsthsOhw15ikajcjn92x+vX7+O7e1tQ54qlQoKhULXfad/q6RIm37WVCGTySCVShk+00+OJcrjrVu3ZFDWadIt4Giiqo2NDVQqFVQqFWxsbLSVY/H6aCJ6eQx0sPCyisfjmJmZwYMHD847KReK1RwQ165ds7wh9SocDhtu0IFAAJcvX5aTVelnmJyYmIDf70elUpGBiAg4xdsc6/U6Wq1W1+32wufz4dGjR4aWk1qthsXFRYyMjPS8HfFSp1qtht3dXQDPWygePXqEDz74wLB8PB43vL45FApB0zSZdv304eJlVeIFZuVyGaOjo/D5fJYTXmUyGSwsLGBxcbHn9BPR+Rv6YMGuOdXcXKyvPUWjUXz22WeG73ppfu3VlStX5I2HOotEIohEIlhdXT31fSXmZzDPSWE3h8Rpeuutt3Dp0iU56VWr1cL+/n7fM0YC1vNffPLJJ/jzn/+MS5cu9bUtfdkUb3IUU17rAwlBP+HV9PQ09vb2EAwG+84DEZ2foQ4W9M2pzWYT9Xpd3uQbjQb+9Kc/GaZBzmazspZ3eHiIw8ND+d3c3ByAo0c4c7mcYdnjEBd2zmT5nH6+BD0x14OoNZ+E6NLQzzMhJqjSzwRpZjWfRLftdvPqq69iampKdkWIGS/ffPPNnrchiLSLG7fb7cbbb7/d07oPHjyQrQUA5KRULpcL7777Lu7evWsIYPTBlTnQOk6gQ0Tnb2Des9CvVquFnZ0dJBIJeXFPJBLIZrN4//334Xa78Ze//EUub65NjoyMYHZ2FsDRzH3Xrl2TN7FeZj+k7tbX19sm9CoWi22TGrndbiwtLVkO1OuHoiiYm5tDsViE2+3uuaVCjF/w+/1yXgW77fYjFAphf38frVYL5XIZr7322gudgySfz2NzcxP379+Xv5vJZGSQDRyNhZiamrowY4CI6PQNbctCs9lErVYzTJITiURkbd48kv6vf/3rC01frVYzTBU8jMwDHDVN61gzFeMJPv3002P9lhh0VywW235DBIr6aaMFMU0zAKyurrbdyO222wuPx4Nvv/0W1WoVOzs7srm/X526VOzk83msrKzg/v37MkAT3Q4iyBaTsOlb0vTdDvr/J6KX19AGC6IPVz9qXD8afXd3F7VaTY5S//3vf//C0iZaPcx9v9SZmD2xWCxif3+/r3UVRcHCwgIqlYrhht6p20G0HIlAwev1GgYEdttuP9xuN65evYrPP/8cz54966sbQ0/MPtlrq1c+n0c2m8VXX31lOT11J1bBSD8BChFdTEMbLIjR69lsVjY3ZzIZw7PfT58+haqqaLVayGazLyxtDx8+RKlUkt0c1BsxrfXKykrP61SrVSwsLMjpoM2mp6dlrVkEkOKGLR6T/Oijj/rebj+mp6exsrKCq1ev9t2NARwFNaurq5icnMTExETX5RVF6Tjtt3j6QZw34twQT4yEQiEUi0VUq1VUq1UUi8W2MSZE9PIZ2mABOBqo5fV64XK55AtwlpeX4XQ65WN6gUAA77zzDn71q18ZHh87TalUyvDUxXFqdHQkFoshGo32vHy5XMb+/r6hO0r/NEs4HEY4HIbH40EkEsHS0hLcbrdsjl9fX5flR/9SpW7b7UcgEEA0Gu2rC0L/uy6Xq2Prh5Xt7W3s7+8jEAhYvlRKBEcul0tue2lpCcDzgC0QCCAQCODDDz9kOSYaAA5tAGby4YRELyceNyIaBMNwLRvqlgUiIiLqjsECERER2WKwQERERLYYLBAREZGtgXmDo8PhOO8k0DHwuBERXXwDEywM+kjUQTQMI4iJaPANQ6WH3RBERERki8ECERER2Rr4YKFarWJ8fNzwJjqHw4FMJnOs7YkJpk4yu2E3+Xwe4+PjqFarhs8VRTG8jnqQ5fP5tmOmf4vgWXkRx/eiaDQaiMVix36zpNDpWImyqiiKfLNlJpPp6dzTr3Na6em17JxFGdDva6t9dBr0++w4+69arSIajbZdd04qk8lY7n+xT6yudb3oNY/DdE6fpYEPFoCj6aQrlYqcLEpVVSiKcm6FR5wkdhev/f19PHjw4AWm6uIxzzpZLBYRiUTOPGB4meTz+WPfcLa2tuD3+9FsNk88vbTVDKG9vl76OLoFHRe17OgnrhNTfIs5Rs5Dr8HbSV2/fh3b29uGzyqVCgqFwpn/Np2OoQgWzNxuNxKJBHZ2dvq+yDqdTqytrZ344trNtWvXsLm5ee4Xt4skHA4jl8sZJv+ik3nRM5suLS3JeSRepItYdsT03oqiHKsFxU44HJYz6PZqbGwMhULhTOby8Pl8ePTokSGftVoNi4uLGBkZOfXfo9M3lMGCWSaTwccff4zx8XFZSzM3G4qbtlWTlmhms+re0DeJzs/P4/vvv8edO3dQKBRsazqjo6O4efMmMplMxwuJuYtF/LZI4+rqqszD/Pw89vb25PLm2qhdHi4Sv9+PWq0ma2WdjpO5idJ83DqtZ6XTvhHlZn5+3jCJFPC8Sfezzz4zTCKlLw/6MtStvInyqf8dRVEwNzeH9fV13L592/Im2Gm7+Xwec3NzSKVSHZty9fk+blOx1TbN+1C/b81p2djYaNtf+XweqVQKqVSqr7Laa9kxE8fAPFmY+Fy/Xj6fP/b5oygKbty4gRs3bsj93S2N+v2nr7mby7/+WiG2bd6P5m6I45TJTt566y1cunQJlUpFbmN/f99y6na7a1Gn/Nqll07HUAYLjUYD2WwWU1NTslb1z3/+E1999RXW1tYAAHfu3EEikZBNmAsLC5YXy3w+j3q9jmaziWaziXq9Li9qiqIgm81CVVVomgav14t79+5heXkZ0WgUxWLR8mQRZmZm4Pf7sbW11fadmHb43r170DQNlUpFTg0sFAoF5PN5qKqKWq2GtbU1fP3116hUKiiVStjd3e2ah4vG4/HIrqRWq2U4TpVKBel0GtVqVU4jLS5OBwcHePLkCUKhkO16Zvp9Y9V9tbKyIrcTDodx584dedM+PDzE4eGhLENzc3MAjh7zFbVccdPplh5RPpvNJvx+Pz799FNZW04mk1hdXW1rITBvV1+O4/G4XPfLL79sq4EqiiLzrWkaZmZmbLvFOs2+aUdRFCiKAlVVZbnTKxQKeOONN2TaV1ZWZNrT6TTS6XRfrRS9lh2zhw8fwuv1yq4DcU6Kae7FTavVamFnZ6fn2UHN03sDwBdffIHf/e532Nvbg8/ns01jt/0nNBoN3Lp1S14r7t27h1u3biEWi3Xcj3ZlR7Aqk528+uqrhn11cHAAAHjzzTcNy9mdb3b57ed40vEMRbBweHhomG7X4/EgHA4buhL0J6z+xgJATlddLpcN2xUXh0QiAafTKZsVRffG9va2Ybv9NsG6XC7cvn0bGxsbbYVedIeIYENVVRweHhqWSSQScLvdcLlc8Pv9MjjyeDy4fPlyT3m4yA4ODvDs2TPEYjEAR82okUgE5XIZbrcb4XBYXpxUVUUkEsHY2Jjtenpi34j9ZtV9lUwmMTExAQCYnZ3FkydP5IVwZGQEs7OzAI5uVNeuXZNlyu/395QPQRxLp9MJr9fb8/7ppRxbCYfDcsxBq9XqeCMSzGMEemkC158fotzpRaNRuU88Hs+pNlf3WgaAo6nsxXnbbDZRq9Xkd6FQSDavi22KQNWKeepw4PmU38BRnsX63dLYbf8JImAW2+2li6KXstNvmQyFQvjxxx/RarVQLpfx2muvGQLcbuebXX77OZ50PEMRLJgHOGqaZnvTVlVVBhV2xIVDfwGIRCKo1Wr4/vvvUa/XceXKlROlXRT61dVV2Xwq6Jvk0un0sS6mdnkw/95FoD82qqriiy++gMfjkWlPpVJ4/PgxgKObt7iQb29vyxpft/UEsW/0N3YzfZ+/x+PBz3/+82PlqZf0HGe7vZRjK/pm63feeQdPnjw5UVrMRABy0vOjH/2UHT1FUeQy7777ruFFYj6fTzavq6qKq1ev2t6E9QMcuw0CtUuj1f7zeDx4/fXX27YjyrAITvrdV6fF4/Hg22+/RbVatWyBsTvfuuX3rM4hem4ogoV+6Zsr7Ygau/kCsLW1Ba/XC6/XeyqF9ebNm6jVaiiVSvKzarWKYrEog6BPPvnkWNu2y0M/g6NelO3tbXnh83g8+OCDD2Q3jzkQFBfyYrGIer0ua1bd1hPEvtHXJM3q9bpsZVBVFd9//33feeo1PcfZbi/l2MqDBw8wMzMDTdOwt7eHSCRyorSYidroi7yY91N2BNFVkMvloGkavv76a4yOjhryIZrX9QHpabBLo9X+U1UVP/zwQ9t2zGM1ev3t45adTtxuN65evYrPP//csgXG7nzrlt+zOofoOQYLFnw+H0ZHR2UT1u7uLkqlkmySE8SFQj/COpPJyMGD09PThpHO4jG3//73v32lx+12Y2lpCalUyvD54eGhPJkfPHjQ1g3Ri255uEgURUEqlZJdJiIYEGM6xAAn0ccp8vab3/wGU1NTMvjptp4g1hfNoFZjXUqlkux2ePDgAUZHR+Hz+frKV6/p6Vev5bgTEQhVq1Vsbm6eKC1W9OeHuCmflX7Ljpm4Se3u7mJ9fd3wXSgUwubmJjY3N0+1Jt4tjdPT09jc3JRdlOYBf4J5/E4v71M4adnpZHp6GisrK5YtMN3ON7v8ntU5RM8xWLDgdDqxvLyMbDYrm+Xv3btn+UhRPB6H1+uVg7sURcHy8jKcTifC4TASiYRsGstms1heXobX60U4HEYkEum5ME9MTCCZTMp/j42NYWZmRnYf/N///R8uX758rJqAXR7Ok3nQ3MLCAiqVihynYT5OVmNRQqGQYaxAr+sJ+n1jtdzk5CRu3bp1ov3WT3rMQqEQSqUS3nvvvbYBhf2UY7PZ2VmUSiW4XC6srq7i5s2bhlaU0xAOhxEOh+HxePDOO+/IsR+9mJ6eRiqV6hjUnkbZEcslEgmkUik5Aj+dThtquD6fD5OTk5icnOw7ULTTLY3hcBiLi4tyPNaPP/5o2Q3hdrtx9+5dLCwswOFwIBAIIJVKYWxszLAf9ZWYk5QdO4FAANFotGMLjN35Zpffk5xD1BuHNgAz+TgcL25Colarhdu3b2NqaooF8YRe5HE7C+KxLjZ1ng7x9JDVkx0XXSaTwZUrV3hNGFIv+7WsF2xZOCa7QW9E1J3+nQSiG+JFvyTqNDQaDTx69OjETfREFxmDhT7UajX89re/hcPhwC9+8YvzTg6ds5GREb597gR+/etf49///jeCwSAmJyfh9Xrx8ccfn3ey+l+xzbMAAADsSURBVLK3t4fp6WnMzc2dyZsPiS4KdkPQueFxI6JBMAzXMrYsEBERkS0GC0RERGSLwQIRERHZYrBAREREthgsEBERkS0GC0RERGTrZ+edgNPicDjOOwl0DDxuREQX30AEC4P+fCsREdF5YjcEERER2WKwQERERLYYLBAREZEtBgtERERki8ECERER2WKwQERERLYYLBAREZEtBgtERERki8ECERER2WKwQERERLYYLBAREZEtBgtERERki8ECERER2WKwQERERLYYLBAREZEtBgtERERki8ECERER2WKwQERERLYYLBAREZGt/w/cqZdZ78U0ugAAAABJRU5ErkJggg==)"
   ]
  },
  {
   "cell_type": "markdown",
   "metadata": {
    "id": "jqx1L6mcj0Pw"
   },
   "source": [
    "**Importing all the libraries**"
   ]
  },
  {
   "cell_type": "code",
   "execution_count": 1,
   "metadata": {
    "id": "l0p7DMk4jV3r"
   },
   "outputs": [],
   "source": [
    "import numpy as np\n",
    "import pandas as pd\n",
    "import matplotlib.pyplot as plt\n",
    "import seaborn as sns\n",
    "import pickle\n",
    "%matplotlib inline\n",
    "from sklearn.preprocessing import LabelEncoder\n",
    "from sklearn.preprocessing import OneHotEncoder\n",
    "from sklearn.model_selection import train_test_split\n",
    "from sklearn.preprocessing import StandardScaler\n",
    "from sklearn.tree import DecisionTreeClassifier\n",
    "from sklearn.metrics import accuracy_score\n",
    "import sklearn.metrics as metrics"
   ]
  },
  {
   "cell_type": "markdown",
   "metadata": {
    "id": "YThn7gb0lXHG"
   },
   "source": [
    "**Importing the dataset**"
   ]
  },
  {
   "cell_type": "code",
   "execution_count": 2,
   "metadata": {
    "id": "HQ6I1WERjzf5"
   },
   "outputs": [],
   "source": [
    "data=pd.read_csv(\"flightdata.csv\")"
   ]
  },
  {
   "cell_type": "code",
   "execution_count": 3,
   "metadata": {
    "colab": {
     "base_uri": "https://localhost:8080/",
     "height": 317
    },
    "id": "zy-9QZQBldsU",
    "outputId": "26c66b8a-dd8c-4701-d0ec-da6d4053954c"
   },
   "outputs": [
    {
     "data": {
      "text/html": [
       "<div>\n",
       "<style scoped>\n",
       "    .dataframe tbody tr th:only-of-type {\n",
       "        vertical-align: middle;\n",
       "    }\n",
       "\n",
       "    .dataframe tbody tr th {\n",
       "        vertical-align: top;\n",
       "    }\n",
       "\n",
       "    .dataframe thead th {\n",
       "        text-align: right;\n",
       "    }\n",
       "</style>\n",
       "<table border=\"1\" class=\"dataframe\">\n",
       "  <thead>\n",
       "    <tr style=\"text-align: right;\">\n",
       "      <th></th>\n",
       "      <th>YEAR</th>\n",
       "      <th>QUARTER</th>\n",
       "      <th>MONTH</th>\n",
       "      <th>DAY_OF_MONTH</th>\n",
       "      <th>DAY_OF_WEEK</th>\n",
       "      <th>UNIQUE_CARRIER</th>\n",
       "      <th>TAIL_NUM</th>\n",
       "      <th>FL_NUM</th>\n",
       "      <th>ORIGIN_AIRPORT_ID</th>\n",
       "      <th>ORIGIN</th>\n",
       "      <th>...</th>\n",
       "      <th>CRS_ARR_TIME</th>\n",
       "      <th>ARR_TIME</th>\n",
       "      <th>ARR_DELAY</th>\n",
       "      <th>ARR_DEL15</th>\n",
       "      <th>CANCELLED</th>\n",
       "      <th>DIVERTED</th>\n",
       "      <th>CRS_ELAPSED_TIME</th>\n",
       "      <th>ACTUAL_ELAPSED_TIME</th>\n",
       "      <th>DISTANCE</th>\n",
       "      <th>Unnamed: 25</th>\n",
       "    </tr>\n",
       "  </thead>\n",
       "  <tbody>\n",
       "    <tr>\n",
       "      <th>0</th>\n",
       "      <td>2016</td>\n",
       "      <td>1</td>\n",
       "      <td>1</td>\n",
       "      <td>1</td>\n",
       "      <td>5</td>\n",
       "      <td>DL</td>\n",
       "      <td>N836DN</td>\n",
       "      <td>1399</td>\n",
       "      <td>10397</td>\n",
       "      <td>ATL</td>\n",
       "      <td>...</td>\n",
       "      <td>2143</td>\n",
       "      <td>2102.0</td>\n",
       "      <td>-41.0</td>\n",
       "      <td>0.0</td>\n",
       "      <td>0.0</td>\n",
       "      <td>0.0</td>\n",
       "      <td>338.0</td>\n",
       "      <td>295.0</td>\n",
       "      <td>2182.0</td>\n",
       "      <td>NaN</td>\n",
       "    </tr>\n",
       "    <tr>\n",
       "      <th>1</th>\n",
       "      <td>2016</td>\n",
       "      <td>1</td>\n",
       "      <td>1</td>\n",
       "      <td>1</td>\n",
       "      <td>5</td>\n",
       "      <td>DL</td>\n",
       "      <td>N964DN</td>\n",
       "      <td>1476</td>\n",
       "      <td>11433</td>\n",
       "      <td>DTW</td>\n",
       "      <td>...</td>\n",
       "      <td>1435</td>\n",
       "      <td>1439.0</td>\n",
       "      <td>4.0</td>\n",
       "      <td>0.0</td>\n",
       "      <td>0.0</td>\n",
       "      <td>0.0</td>\n",
       "      <td>110.0</td>\n",
       "      <td>115.0</td>\n",
       "      <td>528.0</td>\n",
       "      <td>NaN</td>\n",
       "    </tr>\n",
       "    <tr>\n",
       "      <th>2</th>\n",
       "      <td>2016</td>\n",
       "      <td>1</td>\n",
       "      <td>1</td>\n",
       "      <td>1</td>\n",
       "      <td>5</td>\n",
       "      <td>DL</td>\n",
       "      <td>N813DN</td>\n",
       "      <td>1597</td>\n",
       "      <td>10397</td>\n",
       "      <td>ATL</td>\n",
       "      <td>...</td>\n",
       "      <td>1215</td>\n",
       "      <td>1142.0</td>\n",
       "      <td>-33.0</td>\n",
       "      <td>0.0</td>\n",
       "      <td>0.0</td>\n",
       "      <td>0.0</td>\n",
       "      <td>335.0</td>\n",
       "      <td>300.0</td>\n",
       "      <td>2182.0</td>\n",
       "      <td>NaN</td>\n",
       "    </tr>\n",
       "    <tr>\n",
       "      <th>3</th>\n",
       "      <td>2016</td>\n",
       "      <td>1</td>\n",
       "      <td>1</td>\n",
       "      <td>1</td>\n",
       "      <td>5</td>\n",
       "      <td>DL</td>\n",
       "      <td>N587NW</td>\n",
       "      <td>1768</td>\n",
       "      <td>14747</td>\n",
       "      <td>SEA</td>\n",
       "      <td>...</td>\n",
       "      <td>1335</td>\n",
       "      <td>1345.0</td>\n",
       "      <td>10.0</td>\n",
       "      <td>0.0</td>\n",
       "      <td>0.0</td>\n",
       "      <td>0.0</td>\n",
       "      <td>196.0</td>\n",
       "      <td>205.0</td>\n",
       "      <td>1399.0</td>\n",
       "      <td>NaN</td>\n",
       "    </tr>\n",
       "    <tr>\n",
       "      <th>4</th>\n",
       "      <td>2016</td>\n",
       "      <td>1</td>\n",
       "      <td>1</td>\n",
       "      <td>1</td>\n",
       "      <td>5</td>\n",
       "      <td>DL</td>\n",
       "      <td>N836DN</td>\n",
       "      <td>1823</td>\n",
       "      <td>14747</td>\n",
       "      <td>SEA</td>\n",
       "      <td>...</td>\n",
       "      <td>607</td>\n",
       "      <td>615.0</td>\n",
       "      <td>8.0</td>\n",
       "      <td>0.0</td>\n",
       "      <td>0.0</td>\n",
       "      <td>0.0</td>\n",
       "      <td>247.0</td>\n",
       "      <td>259.0</td>\n",
       "      <td>1927.0</td>\n",
       "      <td>NaN</td>\n",
       "    </tr>\n",
       "  </tbody>\n",
       "</table>\n",
       "<p>5 rows × 26 columns</p>\n",
       "</div>"
      ],
      "text/plain": [
       "   YEAR  QUARTER  MONTH  DAY_OF_MONTH  DAY_OF_WEEK UNIQUE_CARRIER TAIL_NUM  \\\n",
       "0  2016        1      1             1            5             DL   N836DN   \n",
       "1  2016        1      1             1            5             DL   N964DN   \n",
       "2  2016        1      1             1            5             DL   N813DN   \n",
       "3  2016        1      1             1            5             DL   N587NW   \n",
       "4  2016        1      1             1            5             DL   N836DN   \n",
       "\n",
       "   FL_NUM  ORIGIN_AIRPORT_ID ORIGIN  ...  CRS_ARR_TIME ARR_TIME  ARR_DELAY  \\\n",
       "0    1399              10397    ATL  ...          2143   2102.0      -41.0   \n",
       "1    1476              11433    DTW  ...          1435   1439.0        4.0   \n",
       "2    1597              10397    ATL  ...          1215   1142.0      -33.0   \n",
       "3    1768              14747    SEA  ...          1335   1345.0       10.0   \n",
       "4    1823              14747    SEA  ...           607    615.0        8.0   \n",
       "\n",
       "   ARR_DEL15  CANCELLED  DIVERTED  CRS_ELAPSED_TIME  ACTUAL_ELAPSED_TIME  \\\n",
       "0        0.0        0.0       0.0             338.0                295.0   \n",
       "1        0.0        0.0       0.0             110.0                115.0   \n",
       "2        0.0        0.0       0.0             335.0                300.0   \n",
       "3        0.0        0.0       0.0             196.0                205.0   \n",
       "4        0.0        0.0       0.0             247.0                259.0   \n",
       "\n",
       "   DISTANCE  Unnamed: 25  \n",
       "0    2182.0          NaN  \n",
       "1     528.0          NaN  \n",
       "2    2182.0          NaN  \n",
       "3    1399.0          NaN  \n",
       "4    1927.0          NaN  \n",
       "\n",
       "[5 rows x 26 columns]"
      ]
     },
     "execution_count": 3,
     "metadata": {},
     "output_type": "execute_result"
    }
   ],
   "source": [
    "data.head()"
   ]
  },
  {
   "cell_type": "code",
   "execution_count": 4,
   "metadata": {
    "colab": {
     "base_uri": "https://localhost:8080/"
    },
    "id": "bKyoX91-lezL",
    "outputId": "fe8f1d5e-45b5-4a19-d80e-3295296de17a"
   },
   "outputs": [
    {
     "name": "stdout",
     "output_type": "stream",
     "text": [
      "<class 'pandas.core.frame.DataFrame'>\n",
      "RangeIndex: 11231 entries, 0 to 11230\n",
      "Data columns (total 26 columns):\n",
      " #   Column               Non-Null Count  Dtype  \n",
      "---  ------               --------------  -----  \n",
      " 0   YEAR                 11231 non-null  int64  \n",
      " 1   QUARTER              11231 non-null  int64  \n",
      " 2   MONTH                11231 non-null  int64  \n",
      " 3   DAY_OF_MONTH         11231 non-null  int64  \n",
      " 4   DAY_OF_WEEK          11231 non-null  int64  \n",
      " 5   UNIQUE_CARRIER       11231 non-null  object \n",
      " 6   TAIL_NUM             11231 non-null  object \n",
      " 7   FL_NUM               11231 non-null  int64  \n",
      " 8   ORIGIN_AIRPORT_ID    11231 non-null  int64  \n",
      " 9   ORIGIN               11231 non-null  object \n",
      " 10  DEST_AIRPORT_ID      11231 non-null  int64  \n",
      " 11  DEST                 11231 non-null  object \n",
      " 12  CRS_DEP_TIME         11231 non-null  int64  \n",
      " 13  DEP_TIME             11124 non-null  float64\n",
      " 14  DEP_DELAY            11124 non-null  float64\n",
      " 15  DEP_DEL15            11124 non-null  float64\n",
      " 16  CRS_ARR_TIME         11231 non-null  int64  \n",
      " 17  ARR_TIME             11116 non-null  float64\n",
      " 18  ARR_DELAY            11043 non-null  float64\n",
      " 19  ARR_DEL15            11043 non-null  float64\n",
      " 20  CANCELLED            11231 non-null  float64\n",
      " 21  DIVERTED             11231 non-null  float64\n",
      " 22  CRS_ELAPSED_TIME     11231 non-null  float64\n",
      " 23  ACTUAL_ELAPSED_TIME  11043 non-null  float64\n",
      " 24  DISTANCE             11231 non-null  float64\n",
      " 25  Unnamed: 25          0 non-null      float64\n",
      "dtypes: float64(12), int64(10), object(4)\n",
      "memory usage: 2.2+ MB\n"
     ]
    }
   ],
   "source": [
    "data.info()"
   ]
  },
  {
   "cell_type": "code",
   "execution_count": 5,
   "metadata": {
    "id": "eZ2gYfSJmUR9"
   },
   "outputs": [],
   "source": [
    "data=data.drop('Unnamed: 25',axis=1)"
   ]
  },
  {
   "cell_type": "code",
   "execution_count": 6,
   "metadata": {
    "colab": {
     "base_uri": "https://localhost:8080/"
    },
    "id": "FD8frcdMmdJf",
    "outputId": "9336fb6e-17a0-4279-956e-39aa27e7d947"
   },
   "outputs": [
    {
     "name": "stdout",
     "output_type": "stream",
     "text": [
      "<class 'pandas.core.frame.DataFrame'>\n",
      "RangeIndex: 11231 entries, 0 to 11230\n",
      "Data columns (total 25 columns):\n",
      " #   Column               Non-Null Count  Dtype  \n",
      "---  ------               --------------  -----  \n",
      " 0   YEAR                 11231 non-null  int64  \n",
      " 1   QUARTER              11231 non-null  int64  \n",
      " 2   MONTH                11231 non-null  int64  \n",
      " 3   DAY_OF_MONTH         11231 non-null  int64  \n",
      " 4   DAY_OF_WEEK          11231 non-null  int64  \n",
      " 5   UNIQUE_CARRIER       11231 non-null  object \n",
      " 6   TAIL_NUM             11231 non-null  object \n",
      " 7   FL_NUM               11231 non-null  int64  \n",
      " 8   ORIGIN_AIRPORT_ID    11231 non-null  int64  \n",
      " 9   ORIGIN               11231 non-null  object \n",
      " 10  DEST_AIRPORT_ID      11231 non-null  int64  \n",
      " 11  DEST                 11231 non-null  object \n",
      " 12  CRS_DEP_TIME         11231 non-null  int64  \n",
      " 13  DEP_TIME             11124 non-null  float64\n",
      " 14  DEP_DELAY            11124 non-null  float64\n",
      " 15  DEP_DEL15            11124 non-null  float64\n",
      " 16  CRS_ARR_TIME         11231 non-null  int64  \n",
      " 17  ARR_TIME             11116 non-null  float64\n",
      " 18  ARR_DELAY            11043 non-null  float64\n",
      " 19  ARR_DEL15            11043 non-null  float64\n",
      " 20  CANCELLED            11231 non-null  float64\n",
      " 21  DIVERTED             11231 non-null  float64\n",
      " 22  CRS_ELAPSED_TIME     11231 non-null  float64\n",
      " 23  ACTUAL_ELAPSED_TIME  11043 non-null  float64\n",
      " 24  DISTANCE             11231 non-null  float64\n",
      "dtypes: float64(11), int64(10), object(4)\n",
      "memory usage: 2.1+ MB\n"
     ]
    }
   ],
   "source": [
    "data.info()"
   ]
  },
  {
   "cell_type": "code",
   "execution_count": 7,
   "metadata": {
    "colab": {
     "base_uri": "https://localhost:8080/",
     "height": 393
    },
    "id": "LVxbOlmp_7V-",
    "outputId": "ee0e4ae8-3230-47a4-a462-06e4b9d6a84d"
   },
   "outputs": [
    {
     "data": {
      "text/html": [
       "<div>\n",
       "<style scoped>\n",
       "    .dataframe tbody tr th:only-of-type {\n",
       "        vertical-align: middle;\n",
       "    }\n",
       "\n",
       "    .dataframe tbody tr th {\n",
       "        vertical-align: top;\n",
       "    }\n",
       "\n",
       "    .dataframe thead th {\n",
       "        text-align: right;\n",
       "    }\n",
       "</style>\n",
       "<table border=\"1\" class=\"dataframe\">\n",
       "  <thead>\n",
       "    <tr style=\"text-align: right;\">\n",
       "      <th></th>\n",
       "      <th>YEAR</th>\n",
       "      <th>QUARTER</th>\n",
       "      <th>MONTH</th>\n",
       "      <th>DAY_OF_MONTH</th>\n",
       "      <th>DAY_OF_WEEK</th>\n",
       "      <th>FL_NUM</th>\n",
       "      <th>ORIGIN_AIRPORT_ID</th>\n",
       "      <th>DEST_AIRPORT_ID</th>\n",
       "      <th>CRS_DEP_TIME</th>\n",
       "      <th>DEP_TIME</th>\n",
       "      <th>...</th>\n",
       "      <th>DEP_DEL15</th>\n",
       "      <th>CRS_ARR_TIME</th>\n",
       "      <th>ARR_TIME</th>\n",
       "      <th>ARR_DELAY</th>\n",
       "      <th>ARR_DEL15</th>\n",
       "      <th>CANCELLED</th>\n",
       "      <th>DIVERTED</th>\n",
       "      <th>CRS_ELAPSED_TIME</th>\n",
       "      <th>ACTUAL_ELAPSED_TIME</th>\n",
       "      <th>DISTANCE</th>\n",
       "    </tr>\n",
       "  </thead>\n",
       "  <tbody>\n",
       "    <tr>\n",
       "      <th>count</th>\n",
       "      <td>11231.0</td>\n",
       "      <td>11231.000000</td>\n",
       "      <td>11231.000000</td>\n",
       "      <td>11231.000000</td>\n",
       "      <td>11231.000000</td>\n",
       "      <td>11231.000000</td>\n",
       "      <td>11231.000000</td>\n",
       "      <td>11231.000000</td>\n",
       "      <td>11231.000000</td>\n",
       "      <td>11124.000000</td>\n",
       "      <td>...</td>\n",
       "      <td>11124.000000</td>\n",
       "      <td>11231.000000</td>\n",
       "      <td>11116.000000</td>\n",
       "      <td>11043.000000</td>\n",
       "      <td>11043.000000</td>\n",
       "      <td>11231.000000</td>\n",
       "      <td>11231.000000</td>\n",
       "      <td>11231.000000</td>\n",
       "      <td>11043.000000</td>\n",
       "      <td>11231.000000</td>\n",
       "    </tr>\n",
       "    <tr>\n",
       "      <th>mean</th>\n",
       "      <td>2016.0</td>\n",
       "      <td>2.544475</td>\n",
       "      <td>6.628973</td>\n",
       "      <td>15.790758</td>\n",
       "      <td>3.960199</td>\n",
       "      <td>1334.325617</td>\n",
       "      <td>12334.516695</td>\n",
       "      <td>12302.274508</td>\n",
       "      <td>1320.798326</td>\n",
       "      <td>1327.189410</td>\n",
       "      <td>...</td>\n",
       "      <td>0.142844</td>\n",
       "      <td>1537.312795</td>\n",
       "      <td>1523.978499</td>\n",
       "      <td>-2.573123</td>\n",
       "      <td>0.124513</td>\n",
       "      <td>0.010150</td>\n",
       "      <td>0.006589</td>\n",
       "      <td>190.652124</td>\n",
       "      <td>179.661233</td>\n",
       "      <td>1161.031965</td>\n",
       "    </tr>\n",
       "    <tr>\n",
       "      <th>std</th>\n",
       "      <td>0.0</td>\n",
       "      <td>1.090701</td>\n",
       "      <td>3.354678</td>\n",
       "      <td>8.782056</td>\n",
       "      <td>1.995257</td>\n",
       "      <td>811.875227</td>\n",
       "      <td>1595.026510</td>\n",
       "      <td>1601.988550</td>\n",
       "      <td>490.737845</td>\n",
       "      <td>500.306462</td>\n",
       "      <td>...</td>\n",
       "      <td>0.349930</td>\n",
       "      <td>502.512494</td>\n",
       "      <td>512.536041</td>\n",
       "      <td>39.232521</td>\n",
       "      <td>0.330181</td>\n",
       "      <td>0.100241</td>\n",
       "      <td>0.080908</td>\n",
       "      <td>78.386317</td>\n",
       "      <td>77.940399</td>\n",
       "      <td>643.683379</td>\n",
       "    </tr>\n",
       "    <tr>\n",
       "      <th>min</th>\n",
       "      <td>2016.0</td>\n",
       "      <td>1.000000</td>\n",
       "      <td>1.000000</td>\n",
       "      <td>1.000000</td>\n",
       "      <td>1.000000</td>\n",
       "      <td>7.000000</td>\n",
       "      <td>10397.000000</td>\n",
       "      <td>10397.000000</td>\n",
       "      <td>10.000000</td>\n",
       "      <td>1.000000</td>\n",
       "      <td>...</td>\n",
       "      <td>0.000000</td>\n",
       "      <td>2.000000</td>\n",
       "      <td>1.000000</td>\n",
       "      <td>-67.000000</td>\n",
       "      <td>0.000000</td>\n",
       "      <td>0.000000</td>\n",
       "      <td>0.000000</td>\n",
       "      <td>93.000000</td>\n",
       "      <td>75.000000</td>\n",
       "      <td>509.000000</td>\n",
       "    </tr>\n",
       "    <tr>\n",
       "      <th>25%</th>\n",
       "      <td>2016.0</td>\n",
       "      <td>2.000000</td>\n",
       "      <td>4.000000</td>\n",
       "      <td>8.000000</td>\n",
       "      <td>2.000000</td>\n",
       "      <td>624.000000</td>\n",
       "      <td>10397.000000</td>\n",
       "      <td>10397.000000</td>\n",
       "      <td>905.000000</td>\n",
       "      <td>905.000000</td>\n",
       "      <td>...</td>\n",
       "      <td>0.000000</td>\n",
       "      <td>1130.000000</td>\n",
       "      <td>1135.000000</td>\n",
       "      <td>-19.000000</td>\n",
       "      <td>0.000000</td>\n",
       "      <td>0.000000</td>\n",
       "      <td>0.000000</td>\n",
       "      <td>127.000000</td>\n",
       "      <td>117.000000</td>\n",
       "      <td>594.000000</td>\n",
       "    </tr>\n",
       "    <tr>\n",
       "      <th>50%</th>\n",
       "      <td>2016.0</td>\n",
       "      <td>3.000000</td>\n",
       "      <td>7.000000</td>\n",
       "      <td>16.000000</td>\n",
       "      <td>4.000000</td>\n",
       "      <td>1267.000000</td>\n",
       "      <td>12478.000000</td>\n",
       "      <td>12478.000000</td>\n",
       "      <td>1320.000000</td>\n",
       "      <td>1324.000000</td>\n",
       "      <td>...</td>\n",
       "      <td>0.000000</td>\n",
       "      <td>1559.000000</td>\n",
       "      <td>1547.000000</td>\n",
       "      <td>-10.000000</td>\n",
       "      <td>0.000000</td>\n",
       "      <td>0.000000</td>\n",
       "      <td>0.000000</td>\n",
       "      <td>159.000000</td>\n",
       "      <td>149.000000</td>\n",
       "      <td>907.000000</td>\n",
       "    </tr>\n",
       "    <tr>\n",
       "      <th>75%</th>\n",
       "      <td>2016.0</td>\n",
       "      <td>3.000000</td>\n",
       "      <td>9.000000</td>\n",
       "      <td>23.000000</td>\n",
       "      <td>6.000000</td>\n",
       "      <td>2032.000000</td>\n",
       "      <td>13487.000000</td>\n",
       "      <td>13487.000000</td>\n",
       "      <td>1735.000000</td>\n",
       "      <td>1739.000000</td>\n",
       "      <td>...</td>\n",
       "      <td>0.000000</td>\n",
       "      <td>1952.000000</td>\n",
       "      <td>1945.000000</td>\n",
       "      <td>1.000000</td>\n",
       "      <td>0.000000</td>\n",
       "      <td>0.000000</td>\n",
       "      <td>0.000000</td>\n",
       "      <td>255.000000</td>\n",
       "      <td>236.000000</td>\n",
       "      <td>1927.000000</td>\n",
       "    </tr>\n",
       "    <tr>\n",
       "      <th>max</th>\n",
       "      <td>2016.0</td>\n",
       "      <td>4.000000</td>\n",
       "      <td>12.000000</td>\n",
       "      <td>31.000000</td>\n",
       "      <td>7.000000</td>\n",
       "      <td>2853.000000</td>\n",
       "      <td>14747.000000</td>\n",
       "      <td>14747.000000</td>\n",
       "      <td>2359.000000</td>\n",
       "      <td>2400.000000</td>\n",
       "      <td>...</td>\n",
       "      <td>1.000000</td>\n",
       "      <td>2359.000000</td>\n",
       "      <td>2400.000000</td>\n",
       "      <td>615.000000</td>\n",
       "      <td>1.000000</td>\n",
       "      <td>1.000000</td>\n",
       "      <td>1.000000</td>\n",
       "      <td>397.000000</td>\n",
       "      <td>428.000000</td>\n",
       "      <td>2422.000000</td>\n",
       "    </tr>\n",
       "  </tbody>\n",
       "</table>\n",
       "<p>8 rows × 21 columns</p>\n",
       "</div>"
      ],
      "text/plain": [
       "          YEAR       QUARTER         MONTH  DAY_OF_MONTH   DAY_OF_WEEK  \\\n",
       "count  11231.0  11231.000000  11231.000000  11231.000000  11231.000000   \n",
       "mean    2016.0      2.544475      6.628973     15.790758      3.960199   \n",
       "std        0.0      1.090701      3.354678      8.782056      1.995257   \n",
       "min     2016.0      1.000000      1.000000      1.000000      1.000000   \n",
       "25%     2016.0      2.000000      4.000000      8.000000      2.000000   \n",
       "50%     2016.0      3.000000      7.000000     16.000000      4.000000   \n",
       "75%     2016.0      3.000000      9.000000     23.000000      6.000000   \n",
       "max     2016.0      4.000000     12.000000     31.000000      7.000000   \n",
       "\n",
       "             FL_NUM  ORIGIN_AIRPORT_ID  DEST_AIRPORT_ID  CRS_DEP_TIME  \\\n",
       "count  11231.000000       11231.000000     11231.000000  11231.000000   \n",
       "mean    1334.325617       12334.516695     12302.274508   1320.798326   \n",
       "std      811.875227        1595.026510      1601.988550    490.737845   \n",
       "min        7.000000       10397.000000     10397.000000     10.000000   \n",
       "25%      624.000000       10397.000000     10397.000000    905.000000   \n",
       "50%     1267.000000       12478.000000     12478.000000   1320.000000   \n",
       "75%     2032.000000       13487.000000     13487.000000   1735.000000   \n",
       "max     2853.000000       14747.000000     14747.000000   2359.000000   \n",
       "\n",
       "           DEP_TIME  ...     DEP_DEL15  CRS_ARR_TIME      ARR_TIME  \\\n",
       "count  11124.000000  ...  11124.000000  11231.000000  11116.000000   \n",
       "mean    1327.189410  ...      0.142844   1537.312795   1523.978499   \n",
       "std      500.306462  ...      0.349930    502.512494    512.536041   \n",
       "min        1.000000  ...      0.000000      2.000000      1.000000   \n",
       "25%      905.000000  ...      0.000000   1130.000000   1135.000000   \n",
       "50%     1324.000000  ...      0.000000   1559.000000   1547.000000   \n",
       "75%     1739.000000  ...      0.000000   1952.000000   1945.000000   \n",
       "max     2400.000000  ...      1.000000   2359.000000   2400.000000   \n",
       "\n",
       "          ARR_DELAY     ARR_DEL15     CANCELLED      DIVERTED  \\\n",
       "count  11043.000000  11043.000000  11231.000000  11231.000000   \n",
       "mean      -2.573123      0.124513      0.010150      0.006589   \n",
       "std       39.232521      0.330181      0.100241      0.080908   \n",
       "min      -67.000000      0.000000      0.000000      0.000000   \n",
       "25%      -19.000000      0.000000      0.000000      0.000000   \n",
       "50%      -10.000000      0.000000      0.000000      0.000000   \n",
       "75%        1.000000      0.000000      0.000000      0.000000   \n",
       "max      615.000000      1.000000      1.000000      1.000000   \n",
       "\n",
       "       CRS_ELAPSED_TIME  ACTUAL_ELAPSED_TIME      DISTANCE  \n",
       "count      11231.000000         11043.000000  11231.000000  \n",
       "mean         190.652124           179.661233   1161.031965  \n",
       "std           78.386317            77.940399    643.683379  \n",
       "min           93.000000            75.000000    509.000000  \n",
       "25%          127.000000           117.000000    594.000000  \n",
       "50%          159.000000           149.000000    907.000000  \n",
       "75%          255.000000           236.000000   1927.000000  \n",
       "max          397.000000           428.000000   2422.000000  \n",
       "\n",
       "[8 rows x 21 columns]"
      ]
     },
     "execution_count": 7,
     "metadata": {},
     "output_type": "execute_result"
    }
   ],
   "source": [
    "data.describe()"
   ]
  },
  {
   "cell_type": "code",
   "execution_count": null,
   "metadata": {
    "id": "CZjVRNAxAACa"
   },
   "outputs": [],
   "source": []
  },
  {
   "cell_type": "markdown",
   "metadata": {
    "id": "eQ0SsMAymESc"
   },
   "source": [
    "**Handling Missing Values**"
   ]
  },
  {
   "cell_type": "code",
   "execution_count": 8,
   "metadata": {
    "id": "1BIxOSi5lx5O"
   },
   "outputs": [],
   "source": [
    "data=data.dropna()"
   ]
  },
  {
   "cell_type": "code",
   "execution_count": 9,
   "metadata": {
    "colab": {
     "base_uri": "https://localhost:8080/"
    },
    "id": "iTwoByHLmJq5",
    "outputId": "beac5f19-7a81-4bf6-eee7-72d5095e5467"
   },
   "outputs": [
    {
     "name": "stdout",
     "output_type": "stream",
     "text": [
      "<class 'pandas.core.frame.DataFrame'>\n",
      "Int64Index: 11043 entries, 0 to 11230\n",
      "Data columns (total 25 columns):\n",
      " #   Column               Non-Null Count  Dtype  \n",
      "---  ------               --------------  -----  \n",
      " 0   YEAR                 11043 non-null  int64  \n",
      " 1   QUARTER              11043 non-null  int64  \n",
      " 2   MONTH                11043 non-null  int64  \n",
      " 3   DAY_OF_MONTH         11043 non-null  int64  \n",
      " 4   DAY_OF_WEEK          11043 non-null  int64  \n",
      " 5   UNIQUE_CARRIER       11043 non-null  object \n",
      " 6   TAIL_NUM             11043 non-null  object \n",
      " 7   FL_NUM               11043 non-null  int64  \n",
      " 8   ORIGIN_AIRPORT_ID    11043 non-null  int64  \n",
      " 9   ORIGIN               11043 non-null  object \n",
      " 10  DEST_AIRPORT_ID      11043 non-null  int64  \n",
      " 11  DEST                 11043 non-null  object \n",
      " 12  CRS_DEP_TIME         11043 non-null  int64  \n",
      " 13  DEP_TIME             11043 non-null  float64\n",
      " 14  DEP_DELAY            11043 non-null  float64\n",
      " 15  DEP_DEL15            11043 non-null  float64\n",
      " 16  CRS_ARR_TIME         11043 non-null  int64  \n",
      " 17  ARR_TIME             11043 non-null  float64\n",
      " 18  ARR_DELAY            11043 non-null  float64\n",
      " 19  ARR_DEL15            11043 non-null  float64\n",
      " 20  CANCELLED            11043 non-null  float64\n",
      " 21  DIVERTED             11043 non-null  float64\n",
      " 22  CRS_ELAPSED_TIME     11043 non-null  float64\n",
      " 23  ACTUAL_ELAPSED_TIME  11043 non-null  float64\n",
      " 24  DISTANCE             11043 non-null  float64\n",
      "dtypes: float64(11), int64(10), object(4)\n",
      "memory usage: 2.2+ MB\n"
     ]
    }
   ],
   "source": [
    "data.info()"
   ]
  },
  {
   "cell_type": "markdown",
   "metadata": {
    "id": "V7vJSkDeml7w"
   },
   "source": [
    "**Analysis**"
   ]
  },
  {
   "cell_type": "code",
   "execution_count": 10,
   "metadata": {
    "colab": {
     "base_uri": "https://localhost:8080/",
     "height": 298
    },
    "id": "2aIs4yWwmlUV",
    "outputId": "cb5151cc-d9af-4d78-a0df-3b9ecb317be0"
   },
   "outputs": [
    {
     "data": {
      "text/plain": [
       "Text(0.5, 1.0, 'Distribution of the Arrival Time')"
      ]
     },
     "execution_count": 10,
     "metadata": {},
     "output_type": "execute_result"
    },
    {
     "data": {
      "image/png": "[encoded data removed]",
      "text/plain": [
       "<Figure size 432x288 with 1 Axes>"
      ]
     },
     "metadata": {
      "needs_background": "light"
     },
     "output_type": "display_data"
    }
   ],
   "source": [
    "plt.scatter(data.index,data['ARR_TIME'])\n",
    "plt.ylabel('Arrival Time')\n",
    "plt.title('Distribution of the Arrival Time')"
   ]
  },
  {
   "cell_type": "code",
   "execution_count": 11,
   "metadata": {
    "colab": {
     "base_uri": "https://localhost:8080/",
     "height": 352
    },
    "id": "0RO320_-mKQy",
    "outputId": "d9c00072-e25f-40f2-8b94-341e4b91fee5"
   },
   "outputs": [
    {
     "data": {
      "text/plain": [
       "(array([ 989., 1487., 1340., 1382.,  924.,  957., 1058., 1111.,  987.,\n",
       "         808.]),\n",
       " array([   7. ,  291.6,  576.2,  860.8, 1145.4, 1430. , 1714.6, 1999.2,\n",
       "        2283.8, 2568.4, 2853. ]),\n",
       " <BarContainer object of 10 artists>)"
      ]
     },
     "execution_count": 11,
     "metadata": {},
     "output_type": "execute_result"
    },
    {
     "data": {
      "image/png": "[encoded data removed]",
      "text/plain": [
       "<Figure size 432x288 with 1 Axes>"
      ]
     },
     "metadata": {
      "needs_background": "light"
     },
     "output_type": "display_data"
    }
   ],
   "source": [
    "plt.hist(data['FL_NUM'])"
   ]
  },
  {
   "cell_type": "code",
   "execution_count": 12,
   "metadata": {
    "id": "wPPYeGrNnim_"
   },
   "outputs": [],
   "source": [
    "columns=list(data.columns)"
   ]
  },
  {
   "cell_type": "code",
   "execution_count": 13,
   "metadata": {
    "colab": {
     "base_uri": "https://localhost:8080/",
     "height": 297
    },
    "id": "rH6pl9D9nLfV",
    "outputId": "428a460a-f91c-4f32-82a5-0f8f8cc090b6"
   },
   "outputs": [
    {
     "data": {
      "text/plain": [
       "<AxesSubplot:xlabel='ARR_DELAY', ylabel='ARR_DEL15'>"
      ]
     },
     "execution_count": 13,
     "metadata": {},
     "output_type": "execute_result"
    },
    {
     "data": {
      "image/png": "[encoded data removed]",
      "text/plain": [
       "<Figure size 432x288 with 1 Axes>"
      ]
     },
     "metadata": {
      "needs_background": "light"
     },
     "output_type": "display_data"
    }
   ],
   "source": [
    "sns.scatterplot(x='ARR_DELAY',y='ARR_DEL15',data=data)"
   ]
  },
  {
   "cell_type": "code",
   "execution_count": 14,
   "metadata": {
    "colab": {
     "base_uri": "https://localhost:8080/",
     "height": 386
    },
    "id": "2UNMGd6uAVU0",
    "outputId": "35b76fc3-bf6d-4f43-ca26-c3a59c94bfe9"
   },
   "outputs": [
    {
     "data": {
      "text/plain": [
       "<seaborn.axisgrid.FacetGrid at 0x1e19078f2b0>"
      ]
     },
     "execution_count": 14,
     "metadata": {},
     "output_type": "execute_result"
    },
    {
     "data": {
      "image/png": "[encoded data removed]",
      "text/plain": [
       "<Figure size 360x360 with 1 Axes>"
      ]
     },
     "metadata": {
      "needs_background": "light"
     },
     "output_type": "display_data"
    }
   ],
   "source": [
    "sns.catplot(x='ARR_DELAY',y='ARR_DEL15',data=data,kind='bar')"
   ]
  },
  {
   "cell_type": "code",
   "execution_count": 15,
   "metadata": {
    "colab": {
     "base_uri": "https://localhost:8080/"
    },
    "id": "qCSXZMrZnoqh",
    "outputId": "e8ad519a-b754-46ab-a7b8-a026265e5c7a"
   },
   "outputs": [
    {
     "data": {
      "text/plain": [
       "2"
      ]
     },
     "execution_count": 15,
     "metadata": {},
     "output_type": "execute_result"
    }
   ],
   "source": [
    "data['ARR_DEL15'].nunique()"
   ]
  },
  {
   "cell_type": "code",
   "execution_count": 16,
   "metadata": {
    "colab": {
     "base_uri": "https://localhost:8080/"
    },
    "id": "1tg8rffzoEKB",
    "outputId": "77988c18-b0f3-46ff-8b0d-bdfc032eb1c5"
   },
   "outputs": [
    {
     "ename": "IndentationError",
     "evalue": "expected an indented block (<ipython-input-16-8b05b129647f>, line 3)",
     "output_type": "error",
     "traceback": [
      "\u001b[1;36m  File \u001b[1;32m\"<ipython-input-16-8b05b129647f>\"\u001b[1;36m, line \u001b[1;32m3\u001b[0m\n\u001b[1;33m    skew1=data[i].skew()\u001b[0m\n\u001b[1;37m    ^\u001b[0m\n\u001b[1;31mIndentationError\u001b[0m\u001b[1;31m:\u001b[0m expected an indented block\n"
     ]
    }
   ],
   "source": []
  },
  {
   "cell_type": "code",
   "execution_count": 17,
   "metadata": {
    "colab": {
     "base_uri": "https://localhost:8080/",
     "height": 393
    },
    "id": "Lma1Kiw-oXXi",
    "outputId": "a2ba6e3d-b732-4e61-9bbe-bbb2e405c0ff"
   },
   "outputs": [
    {
     "data": {
      "text/html": [
       "<div>\n",
       "<style scoped>\n",
       "    .dataframe tbody tr th:only-of-type {\n",
       "        vertical-align: middle;\n",
       "    }\n",
       "\n",
       "    .dataframe tbody tr th {\n",
       "        vertical-align: top;\n",
       "    }\n",
       "\n",
       "    .dataframe thead th {\n",
       "        text-align: right;\n",
       "    }\n",
       "</style>\n",
       "<table border=\"1\" class=\"dataframe\">\n",
       "  <thead>\n",
       "    <tr style=\"text-align: right;\">\n",
       "      <th></th>\n",
       "      <th>YEAR</th>\n",
       "      <th>QUARTER</th>\n",
       "      <th>MONTH</th>\n",
       "      <th>DAY_OF_MONTH</th>\n",
       "      <th>DAY_OF_WEEK</th>\n",
       "      <th>FL_NUM</th>\n",
       "      <th>ORIGIN_AIRPORT_ID</th>\n",
       "      <th>DEST_AIRPORT_ID</th>\n",
       "      <th>CRS_DEP_TIME</th>\n",
       "      <th>DEP_TIME</th>\n",
       "      <th>...</th>\n",
       "      <th>DEP_DEL15</th>\n",
       "      <th>CRS_ARR_TIME</th>\n",
       "      <th>ARR_TIME</th>\n",
       "      <th>ARR_DELAY</th>\n",
       "      <th>ARR_DEL15</th>\n",
       "      <th>CANCELLED</th>\n",
       "      <th>DIVERTED</th>\n",
       "      <th>CRS_ELAPSED_TIME</th>\n",
       "      <th>ACTUAL_ELAPSED_TIME</th>\n",
       "      <th>DISTANCE</th>\n",
       "    </tr>\n",
       "  </thead>\n",
       "  <tbody>\n",
       "    <tr>\n",
       "      <th>count</th>\n",
       "      <td>11043.0</td>\n",
       "      <td>11043.000000</td>\n",
       "      <td>11043.000000</td>\n",
       "      <td>11043.000000</td>\n",
       "      <td>11043.000000</td>\n",
       "      <td>11043.000000</td>\n",
       "      <td>11043.000000</td>\n",
       "      <td>11043.000000</td>\n",
       "      <td>11043.000000</td>\n",
       "      <td>11043.000000</td>\n",
       "      <td>...</td>\n",
       "      <td>11043.000000</td>\n",
       "      <td>11043.000000</td>\n",
       "      <td>11043.000000</td>\n",
       "      <td>11043.000000</td>\n",
       "      <td>11043.000000</td>\n",
       "      <td>11043.0</td>\n",
       "      <td>11043.0</td>\n",
       "      <td>11043.000000</td>\n",
       "      <td>11043.000000</td>\n",
       "      <td>11043.000000</td>\n",
       "    </tr>\n",
       "    <tr>\n",
       "      <th>mean</th>\n",
       "      <td>2016.0</td>\n",
       "      <td>2.548402</td>\n",
       "      <td>6.643847</td>\n",
       "      <td>15.813185</td>\n",
       "      <td>3.964774</td>\n",
       "      <td>1337.185276</td>\n",
       "      <td>12332.628271</td>\n",
       "      <td>12302.496785</td>\n",
       "      <td>1321.007154</td>\n",
       "      <td>1327.140723</td>\n",
       "      <td>...</td>\n",
       "      <td>0.142443</td>\n",
       "      <td>1537.425428</td>\n",
       "      <td>1524.224758</td>\n",
       "      <td>-2.573123</td>\n",
       "      <td>0.124513</td>\n",
       "      <td>0.0</td>\n",
       "      <td>0.0</td>\n",
       "      <td>190.595581</td>\n",
       "      <td>179.661233</td>\n",
       "      <td>1160.944490</td>\n",
       "    </tr>\n",
       "    <tr>\n",
       "      <th>std</th>\n",
       "      <td>0.0</td>\n",
       "      <td>1.091655</td>\n",
       "      <td>3.353072</td>\n",
       "      <td>8.789698</td>\n",
       "      <td>1.990953</td>\n",
       "      <td>810.832998</td>\n",
       "      <td>1596.321443</td>\n",
       "      <td>1602.485742</td>\n",
       "      <td>490.705288</td>\n",
       "      <td>500.631611</td>\n",
       "      <td>...</td>\n",
       "      <td>0.349520</td>\n",
       "      <td>502.495992</td>\n",
       "      <td>510.861392</td>\n",
       "      <td>39.232521</td>\n",
       "      <td>0.330181</td>\n",
       "      <td>0.0</td>\n",
       "      <td>0.0</td>\n",
       "      <td>78.425024</td>\n",
       "      <td>77.940399</td>\n",
       "      <td>643.830437</td>\n",
       "    </tr>\n",
       "    <tr>\n",
       "      <th>min</th>\n",
       "      <td>2016.0</td>\n",
       "      <td>1.000000</td>\n",
       "      <td>1.000000</td>\n",
       "      <td>1.000000</td>\n",
       "      <td>1.000000</td>\n",
       "      <td>7.000000</td>\n",
       "      <td>10397.000000</td>\n",
       "      <td>10397.000000</td>\n",
       "      <td>10.000000</td>\n",
       "      <td>1.000000</td>\n",
       "      <td>...</td>\n",
       "      <td>0.000000</td>\n",
       "      <td>2.000000</td>\n",
       "      <td>1.000000</td>\n",
       "      <td>-67.000000</td>\n",
       "      <td>0.000000</td>\n",
       "      <td>0.0</td>\n",
       "      <td>0.0</td>\n",
       "      <td>93.000000</td>\n",
       "      <td>75.000000</td>\n",
       "      <td>509.000000</td>\n",
       "    </tr>\n",
       "    <tr>\n",
       "      <th>25%</th>\n",
       "      <td>2016.0</td>\n",
       "      <td>2.000000</td>\n",
       "      <td>4.000000</td>\n",
       "      <td>8.000000</td>\n",
       "      <td>2.000000</td>\n",
       "      <td>629.000000</td>\n",
       "      <td>10397.000000</td>\n",
       "      <td>10397.000000</td>\n",
       "      <td>905.000000</td>\n",
       "      <td>905.000000</td>\n",
       "      <td>...</td>\n",
       "      <td>0.000000</td>\n",
       "      <td>1130.000000</td>\n",
       "      <td>1135.000000</td>\n",
       "      <td>-19.000000</td>\n",
       "      <td>0.000000</td>\n",
       "      <td>0.0</td>\n",
       "      <td>0.0</td>\n",
       "      <td>126.000000</td>\n",
       "      <td>117.000000</td>\n",
       "      <td>594.000000</td>\n",
       "    </tr>\n",
       "    <tr>\n",
       "      <th>50%</th>\n",
       "      <td>2016.0</td>\n",
       "      <td>3.000000</td>\n",
       "      <td>7.000000</td>\n",
       "      <td>16.000000</td>\n",
       "      <td>4.000000</td>\n",
       "      <td>1287.000000</td>\n",
       "      <td>12478.000000</td>\n",
       "      <td>12478.000000</td>\n",
       "      <td>1320.000000</td>\n",
       "      <td>1324.000000</td>\n",
       "      <td>...</td>\n",
       "      <td>0.000000</td>\n",
       "      <td>1559.000000</td>\n",
       "      <td>1546.000000</td>\n",
       "      <td>-10.000000</td>\n",
       "      <td>0.000000</td>\n",
       "      <td>0.0</td>\n",
       "      <td>0.0</td>\n",
       "      <td>159.000000</td>\n",
       "      <td>149.000000</td>\n",
       "      <td>907.000000</td>\n",
       "    </tr>\n",
       "    <tr>\n",
       "      <th>75%</th>\n",
       "      <td>2016.0</td>\n",
       "      <td>3.000000</td>\n",
       "      <td>9.000000</td>\n",
       "      <td>23.000000</td>\n",
       "      <td>6.000000</td>\n",
       "      <td>2032.000000</td>\n",
       "      <td>13487.000000</td>\n",
       "      <td>13487.000000</td>\n",
       "      <td>1735.000000</td>\n",
       "      <td>1739.000000</td>\n",
       "      <td>...</td>\n",
       "      <td>0.000000</td>\n",
       "      <td>1952.000000</td>\n",
       "      <td>1944.000000</td>\n",
       "      <td>1.000000</td>\n",
       "      <td>0.000000</td>\n",
       "      <td>0.0</td>\n",
       "      <td>0.0</td>\n",
       "      <td>255.000000</td>\n",
       "      <td>236.000000</td>\n",
       "      <td>1927.000000</td>\n",
       "    </tr>\n",
       "    <tr>\n",
       "      <th>max</th>\n",
       "      <td>2016.0</td>\n",
       "      <td>4.000000</td>\n",
       "      <td>12.000000</td>\n",
       "      <td>31.000000</td>\n",
       "      <td>7.000000</td>\n",
       "      <td>2853.000000</td>\n",
       "      <td>14747.000000</td>\n",
       "      <td>14747.000000</td>\n",
       "      <td>2359.000000</td>\n",
       "      <td>2400.000000</td>\n",
       "      <td>...</td>\n",
       "      <td>1.000000</td>\n",
       "      <td>2359.000000</td>\n",
       "      <td>2400.000000</td>\n",
       "      <td>615.000000</td>\n",
       "      <td>1.000000</td>\n",
       "      <td>0.0</td>\n",
       "      <td>0.0</td>\n",
       "      <td>397.000000</td>\n",
       "      <td>428.000000</td>\n",
       "      <td>2422.000000</td>\n",
       "    </tr>\n",
       "  </tbody>\n",
       "</table>\n",
       "<p>8 rows × 21 columns</p>\n",
       "</div>"
      ],
      "text/plain": [
       "          YEAR       QUARTER         MONTH  DAY_OF_MONTH   DAY_OF_WEEK  \\\n",
       "count  11043.0  11043.000000  11043.000000  11043.000000  11043.000000   \n",
       "mean    2016.0      2.548402      6.643847     15.813185      3.964774   \n",
       "std        0.0      1.091655      3.353072      8.789698      1.990953   \n",
       "min     2016.0      1.000000      1.000000      1.000000      1.000000   \n",
       "25%     2016.0      2.000000      4.000000      8.000000      2.000000   \n",
       "50%     2016.0      3.000000      7.000000     16.000000      4.000000   \n",
       "75%     2016.0      3.000000      9.000000     23.000000      6.000000   \n",
       "max     2016.0      4.000000     12.000000     31.000000      7.000000   \n",
       "\n",
       "             FL_NUM  ORIGIN_AIRPORT_ID  DEST_AIRPORT_ID  CRS_DEP_TIME  \\\n",
       "count  11043.000000       11043.000000     11043.000000  11043.000000   \n",
       "mean    1337.185276       12332.628271     12302.496785   1321.007154   \n",
       "std      810.832998        1596.321443      1602.485742    490.705288   \n",
       "min        7.000000       10397.000000     10397.000000     10.000000   \n",
       "25%      629.000000       10397.000000     10397.000000    905.000000   \n",
       "50%     1287.000000       12478.000000     12478.000000   1320.000000   \n",
       "75%     2032.000000       13487.000000     13487.000000   1735.000000   \n",
       "max     2853.000000       14747.000000     14747.000000   2359.000000   \n",
       "\n",
       "           DEP_TIME  ...     DEP_DEL15  CRS_ARR_TIME      ARR_TIME  \\\n",
       "count  11043.000000  ...  11043.000000  11043.000000  11043.000000   \n",
       "mean    1327.140723  ...      0.142443   1537.425428   1524.224758   \n",
       "std      500.631611  ...      0.349520    502.495992    510.861392   \n",
       "min        1.000000  ...      0.000000      2.000000      1.000000   \n",
       "25%      905.000000  ...      0.000000   1130.000000   1135.000000   \n",
       "50%     1324.000000  ...      0.000000   1559.000000   1546.000000   \n",
       "75%     1739.000000  ...      0.000000   1952.000000   1944.000000   \n",
       "max     2400.000000  ...      1.000000   2359.000000   2400.000000   \n",
       "\n",
       "          ARR_DELAY     ARR_DEL15  CANCELLED  DIVERTED  CRS_ELAPSED_TIME  \\\n",
       "count  11043.000000  11043.000000    11043.0   11043.0      11043.000000   \n",
       "mean      -2.573123      0.124513        0.0       0.0        190.595581   \n",
       "std       39.232521      0.330181        0.0       0.0         78.425024   \n",
       "min      -67.000000      0.000000        0.0       0.0         93.000000   \n",
       "25%      -19.000000      0.000000        0.0       0.0        126.000000   \n",
       "50%      -10.000000      0.000000        0.0       0.0        159.000000   \n",
       "75%        1.000000      0.000000        0.0       0.0        255.000000   \n",
       "max      615.000000      1.000000        0.0       0.0        397.000000   \n",
       "\n",
       "       ACTUAL_ELAPSED_TIME      DISTANCE  \n",
       "count         11043.000000  11043.000000  \n",
       "mean            179.661233   1160.944490  \n",
       "std              77.940399    643.830437  \n",
       "min              75.000000    509.000000  \n",
       "25%             117.000000    594.000000  \n",
       "50%             149.000000    907.000000  \n",
       "75%             236.000000   1927.000000  \n",
       "max             428.000000   2422.000000  \n",
       "\n",
       "[8 rows x 21 columns]"
      ]
     },
     "execution_count": 17,
     "metadata": {},
     "output_type": "execute_result"
    }
   ],
   "source": [
    "data.describe()"
   ]
  },
  {
   "cell_type": "markdown",
   "metadata": {
    "id": "TtesWXQEqXvY"
   },
   "source": [
    "**Dropping off unnecessary columns**"
   ]
  },
  {
   "cell_type": "code",
   "execution_count": 18,
   "metadata": {
    "colab": {
     "base_uri": "https://localhost:8080/"
    },
    "id": "CPNSN8OhqRnp",
    "outputId": "1799f53a-2c98-425c-d653-9d57de249724"
   },
   "outputs": [
    {
     "data": {
      "text/plain": [
       "YEAR                        NaN\n",
       "QUARTER                0.023102\n",
       "MONTH                  0.030161\n",
       "DAY_OF_MONTH          -0.000597\n",
       "DAY_OF_WEEK           -0.012063\n",
       "FL_NUM                -0.002378\n",
       "ORIGIN_AIRPORT_ID     -0.006250\n",
       "DEST_AIRPORT_ID        0.029525\n",
       "CRS_DEP_TIME           0.086057\n",
       "DEP_TIME               0.127593\n",
       "DEP_DELAY              0.578529\n",
       "DEP_DEL15              0.658511\n",
       "CRS_ARR_TIME           0.078282\n",
       "ARR_TIME               0.042298\n",
       "ARR_DELAY              0.661322\n",
       "ARR_DEL15              1.000000\n",
       "CANCELLED                   NaN\n",
       "DIVERTED                    NaN\n",
       "CRS_ELAPSED_TIME       0.015676\n",
       "ACTUAL_ELAPSED_TIME    0.077741\n",
       "DISTANCE               0.002870\n",
       "Name: ARR_DEL15, dtype: float64"
      ]
     },
     "execution_count": 18,
     "metadata": {},
     "output_type": "execute_result"
    }
   ],
   "source": [
    "data.corr()['ARR_DEL15']"
   ]
  },
  {
   "cell_type": "code",
   "execution_count": 19,
   "metadata": {
    "colab": {
     "base_uri": "https://localhost:8080/",
     "height": 395
    },
    "id": "GdGBTQ2VAhdZ",
    "outputId": "a246f648-05f5-4e7b-8520-6e97f798d6b6"
   },
   "outputs": [
    {
     "data": {
      "text/plain": [
       "<AxesSubplot:>"
      ]
     },
     "execution_count": 19,
     "metadata": {},
     "output_type": "execute_result"
    },
    {
     "data": {
      "image/png": "[encoded data removed]",
      "text/plain": [
       "<Figure size 432x288 with 2 Axes>"
      ]
     },
     "metadata": {
      "needs_background": "light"
     },
     "output_type": "display_data"
    }
   ],
   "source": [
    "sns.heatmap(data.corr())"
   ]
  },
  {
   "cell_type": "code",
   "execution_count": 20,
   "metadata": {
    "id": "DbN9x7Y3qcuD"
   },
   "outputs": [],
   "source": [
    "new_data=data.drop(['ORIGIN_AIRPORT_ID','DEST_AIRPORT_ID','FL_NUM','YEAR','CANCELLED','DIVERTED','DISTANCE','DAY_OF_MONTH','QUARTER','MONTH','DAY_OF_WEEK','UNIQUE_CARRIER','TAIL_NUM'],axis=1)"
   ]
  },
  {
   "cell_type": "code",
   "execution_count": 21,
   "metadata": {
    "colab": {
     "base_uri": "https://localhost:8080/",
     "height": 270
    },
    "id": "cIGccKFI9SFR",
    "outputId": "99b62ebb-e9fe-4936-c724-3b2f565837ae"
   },
   "outputs": [
    {
     "data": {
      "text/html": [
       "<div>\n",
       "<style scoped>\n",
       "    .dataframe tbody tr th:only-of-type {\n",
       "        vertical-align: middle;\n",
       "    }\n",
       "\n",
       "    .dataframe tbody tr th {\n",
       "        vertical-align: top;\n",
       "    }\n",
       "\n",
       "    .dataframe thead th {\n",
       "        text-align: right;\n",
       "    }\n",
       "</style>\n",
       "<table border=\"1\" class=\"dataframe\">\n",
       "  <thead>\n",
       "    <tr style=\"text-align: right;\">\n",
       "      <th></th>\n",
       "      <th>ORIGIN</th>\n",
       "      <th>DEST</th>\n",
       "      <th>CRS_DEP_TIME</th>\n",
       "      <th>DEP_TIME</th>\n",
       "      <th>DEP_DELAY</th>\n",
       "      <th>DEP_DEL15</th>\n",
       "      <th>CRS_ARR_TIME</th>\n",
       "      <th>ARR_TIME</th>\n",
       "      <th>ARR_DELAY</th>\n",
       "      <th>ARR_DEL15</th>\n",
       "      <th>CRS_ELAPSED_TIME</th>\n",
       "      <th>ACTUAL_ELAPSED_TIME</th>\n",
       "    </tr>\n",
       "  </thead>\n",
       "  <tbody>\n",
       "    <tr>\n",
       "      <th>0</th>\n",
       "      <td>ATL</td>\n",
       "      <td>SEA</td>\n",
       "      <td>1905</td>\n",
       "      <td>1907.0</td>\n",
       "      <td>2.0</td>\n",
       "      <td>0.0</td>\n",
       "      <td>2143</td>\n",
       "      <td>2102.0</td>\n",
       "      <td>-41.0</td>\n",
       "      <td>0.0</td>\n",
       "      <td>338.0</td>\n",
       "      <td>295.0</td>\n",
       "    </tr>\n",
       "    <tr>\n",
       "      <th>1</th>\n",
       "      <td>DTW</td>\n",
       "      <td>MSP</td>\n",
       "      <td>1345</td>\n",
       "      <td>1344.0</td>\n",
       "      <td>-1.0</td>\n",
       "      <td>0.0</td>\n",
       "      <td>1435</td>\n",
       "      <td>1439.0</td>\n",
       "      <td>4.0</td>\n",
       "      <td>0.0</td>\n",
       "      <td>110.0</td>\n",
       "      <td>115.0</td>\n",
       "    </tr>\n",
       "    <tr>\n",
       "      <th>2</th>\n",
       "      <td>ATL</td>\n",
       "      <td>SEA</td>\n",
       "      <td>940</td>\n",
       "      <td>942.0</td>\n",
       "      <td>2.0</td>\n",
       "      <td>0.0</td>\n",
       "      <td>1215</td>\n",
       "      <td>1142.0</td>\n",
       "      <td>-33.0</td>\n",
       "      <td>0.0</td>\n",
       "      <td>335.0</td>\n",
       "      <td>300.0</td>\n",
       "    </tr>\n",
       "    <tr>\n",
       "      <th>3</th>\n",
       "      <td>SEA</td>\n",
       "      <td>MSP</td>\n",
       "      <td>819</td>\n",
       "      <td>820.0</td>\n",
       "      <td>1.0</td>\n",
       "      <td>0.0</td>\n",
       "      <td>1335</td>\n",
       "      <td>1345.0</td>\n",
       "      <td>10.0</td>\n",
       "      <td>0.0</td>\n",
       "      <td>196.0</td>\n",
       "      <td>205.0</td>\n",
       "    </tr>\n",
       "    <tr>\n",
       "      <th>4</th>\n",
       "      <td>SEA</td>\n",
       "      <td>DTW</td>\n",
       "      <td>2300</td>\n",
       "      <td>2256.0</td>\n",
       "      <td>-4.0</td>\n",
       "      <td>0.0</td>\n",
       "      <td>607</td>\n",
       "      <td>615.0</td>\n",
       "      <td>8.0</td>\n",
       "      <td>0.0</td>\n",
       "      <td>247.0</td>\n",
       "      <td>259.0</td>\n",
       "    </tr>\n",
       "  </tbody>\n",
       "</table>\n",
       "</div>"
      ],
      "text/plain": [
       "  ORIGIN DEST  CRS_DEP_TIME  DEP_TIME  DEP_DELAY  DEP_DEL15  CRS_ARR_TIME  \\\n",
       "0    ATL  SEA          1905    1907.0        2.0        0.0          2143   \n",
       "1    DTW  MSP          1345    1344.0       -1.0        0.0          1435   \n",
       "2    ATL  SEA           940     942.0        2.0        0.0          1215   \n",
       "3    SEA  MSP           819     820.0        1.0        0.0          1335   \n",
       "4    SEA  DTW          2300    2256.0       -4.0        0.0           607   \n",
       "\n",
       "   ARR_TIME  ARR_DELAY  ARR_DEL15  CRS_ELAPSED_TIME  ACTUAL_ELAPSED_TIME  \n",
       "0    2102.0      -41.0        0.0             338.0                295.0  \n",
       "1    1439.0        4.0        0.0             110.0                115.0  \n",
       "2    1142.0      -33.0        0.0             335.0                300.0  \n",
       "3    1345.0       10.0        0.0             196.0                205.0  \n",
       "4     615.0        8.0        0.0             247.0                259.0  "
      ]
     },
     "execution_count": 21,
     "metadata": {},
     "output_type": "execute_result"
    }
   ],
   "source": [
    "new_data.head()"
   ]
  },
  {
   "cell_type": "markdown",
   "metadata": {
    "id": "Z97RZytR-fOH"
   },
   "source": [
    "**Label Encoding**"
   ]
  },
  {
   "cell_type": "code",
   "execution_count": 22,
   "metadata": {
    "id": "kz83TDLW9Taq"
   },
   "outputs": [],
   "source": [
    "cities=new_data['ORIGIN'].unique()"
   ]
  },
  {
   "cell_type": "code",
   "execution_count": 23,
   "metadata": {
    "colab": {
     "base_uri": "https://localhost:8080/"
    },
    "id": "g4ku2MwD-nkr",
    "outputId": "e735e65f-4fa0-46c2-f427-4535315e6333"
   },
   "outputs": [
    {
     "data": {
      "text/plain": [
       "array(['ATL', 'DTW', 'SEA', 'MSP', 'JFK'], dtype=object)"
      ]
     },
     "execution_count": 23,
     "metadata": {},
     "output_type": "execute_result"
    }
   ],
   "source": [
    "cities"
   ]
  },
  {
   "cell_type": "code",
   "execution_count": 24,
   "metadata": {
    "colab": {
     "base_uri": "https://localhost:8080/"
    },
    "id": "y9z7hnqf9-wP",
    "outputId": "63713843-fc80-42b5-f1c0-d3ee02e3da14"
   },
   "outputs": [
    {
     "data": {
      "text/plain": [
       "array(['SEA', 'MSP', 'DTW', 'ATL', 'JFK'], dtype=object)"
      ]
     },
     "execution_count": 24,
     "metadata": {},
     "output_type": "execute_result"
    }
   ],
   "source": [
    "new_data['DEST'].unique()"
   ]
  },
  {
   "cell_type": "code",
   "execution_count": 25,
   "metadata": {
    "id": "AsadBJsE-aVg"
   },
   "outputs": [],
   "source": [
    "city_map={cities[i]:i for i in range(0,len(cities))}"
   ]
  },
  {
   "cell_type": "code",
   "execution_count": 26,
   "metadata": {
    "colab": {
     "base_uri": "https://localhost:8080/"
    },
    "id": "ZCuN152b-xes",
    "outputId": "f22b0723-b886-4512-bdcc-256c0440df47"
   },
   "outputs": [
    {
     "data": {
      "text/plain": [
       "{'ATL': 0, 'DTW': 1, 'SEA': 2, 'MSP': 3, 'JFK': 4}"
      ]
     },
     "execution_count": 26,
     "metadata": {},
     "output_type": "execute_result"
    }
   ],
   "source": [
    "city_map"
   ]
  },
  {
   "cell_type": "code",
   "execution_count": 27,
   "metadata": {
    "id": "SYJp2IdL-yzX"
   },
   "outputs": [],
   "source": [
    "def encode(c):\n",
    "  return city_map[c]"
   ]
  },
  {
   "cell_type": "code",
   "execution_count": 28,
   "metadata": {
    "id": "TylfsmCe_Dcm"
   },
   "outputs": [],
   "source": [
    "new_data['ORIGIN']=new_data['ORIGIN'].apply(encode)"
   ]
  },
  {
   "cell_type": "code",
   "execution_count": 29,
   "metadata": {
    "id": "WdpEDHLX_KUM"
   },
   "outputs": [],
   "source": [
    "new_data['DEST']=new_data['DEST'].apply(encode)"
   ]
  },
  {
   "cell_type": "code",
   "execution_count": 30,
   "metadata": {
    "colab": {
     "base_uri": "https://localhost:8080/",
     "height": 270
    },
    "id": "aD7rcYOA_NWJ",
    "outputId": "46558268-7e5b-4695-fd07-1744aeae829d"
   },
   "outputs": [
    {
     "data": {
      "text/html": [
       "<div>\n",
       "<style scoped>\n",
       "    .dataframe tbody tr th:only-of-type {\n",
       "        vertical-align: middle;\n",
       "    }\n",
       "\n",
       "    .dataframe tbody tr th {\n",
       "        vertical-align: top;\n",
       "    }\n",
       "\n",
       "    .dataframe thead th {\n",
       "        text-align: right;\n",
       "    }\n",
       "</style>\n",
       "<table border=\"1\" class=\"dataframe\">\n",
       "  <thead>\n",
       "    <tr style=\"text-align: right;\">\n",
       "      <th></th>\n",
       "      <th>ORIGIN</th>\n",
       "      <th>DEST</th>\n",
       "      <th>CRS_DEP_TIME</th>\n",
       "      <th>DEP_TIME</th>\n",
       "      <th>DEP_DELAY</th>\n",
       "      <th>DEP_DEL15</th>\n",
       "      <th>CRS_ARR_TIME</th>\n",
       "      <th>ARR_TIME</th>\n",
       "      <th>ARR_DELAY</th>\n",
       "      <th>ARR_DEL15</th>\n",
       "      <th>CRS_ELAPSED_TIME</th>\n",
       "      <th>ACTUAL_ELAPSED_TIME</th>\n",
       "    </tr>\n",
       "  </thead>\n",
       "  <tbody>\n",
       "    <tr>\n",
       "      <th>0</th>\n",
       "      <td>0</td>\n",
       "      <td>2</td>\n",
       "      <td>1905</td>\n",
       "      <td>1907.0</td>\n",
       "      <td>2.0</td>\n",
       "      <td>0.0</td>\n",
       "      <td>2143</td>\n",
       "      <td>2102.0</td>\n",
       "      <td>-41.0</td>\n",
       "      <td>0.0</td>\n",
       "      <td>338.0</td>\n",
       "      <td>295.0</td>\n",
       "    </tr>\n",
       "    <tr>\n",
       "      <th>1</th>\n",
       "      <td>1</td>\n",
       "      <td>3</td>\n",
       "      <td>1345</td>\n",
       "      <td>1344.0</td>\n",
       "      <td>-1.0</td>\n",
       "      <td>0.0</td>\n",
       "      <td>1435</td>\n",
       "      <td>1439.0</td>\n",
       "      <td>4.0</td>\n",
       "      <td>0.0</td>\n",
       "      <td>110.0</td>\n",
       "      <td>115.0</td>\n",
       "    </tr>\n",
       "    <tr>\n",
       "      <th>2</th>\n",
       "      <td>0</td>\n",
       "      <td>2</td>\n",
       "      <td>940</td>\n",
       "      <td>942.0</td>\n",
       "      <td>2.0</td>\n",
       "      <td>0.0</td>\n",
       "      <td>1215</td>\n",
       "      <td>1142.0</td>\n",
       "      <td>-33.0</td>\n",
       "      <td>0.0</td>\n",
       "      <td>335.0</td>\n",
       "      <td>300.0</td>\n",
       "    </tr>\n",
       "    <tr>\n",
       "      <th>3</th>\n",
       "      <td>2</td>\n",
       "      <td>3</td>\n",
       "      <td>819</td>\n",
       "      <td>820.0</td>\n",
       "      <td>1.0</td>\n",
       "      <td>0.0</td>\n",
       "      <td>1335</td>\n",
       "      <td>1345.0</td>\n",
       "      <td>10.0</td>\n",
       "      <td>0.0</td>\n",
       "      <td>196.0</td>\n",
       "      <td>205.0</td>\n",
       "    </tr>\n",
       "    <tr>\n",
       "      <th>4</th>\n",
       "      <td>2</td>\n",
       "      <td>1</td>\n",
       "      <td>2300</td>\n",
       "      <td>2256.0</td>\n",
       "      <td>-4.0</td>\n",
       "      <td>0.0</td>\n",
       "      <td>607</td>\n",
       "      <td>615.0</td>\n",
       "      <td>8.0</td>\n",
       "      <td>0.0</td>\n",
       "      <td>247.0</td>\n",
       "      <td>259.0</td>\n",
       "    </tr>\n",
       "  </tbody>\n",
       "</table>\n",
       "</div>"
      ],
      "text/plain": [
       "   ORIGIN  DEST  CRS_DEP_TIME  DEP_TIME  DEP_DELAY  DEP_DEL15  CRS_ARR_TIME  \\\n",
       "0       0     2          1905    1907.0        2.0        0.0          2143   \n",
       "1       1     3          1345    1344.0       -1.0        0.0          1435   \n",
       "2       0     2           940     942.0        2.0        0.0          1215   \n",
       "3       2     3           819     820.0        1.0        0.0          1335   \n",
       "4       2     1          2300    2256.0       -4.0        0.0           607   \n",
       "\n",
       "   ARR_TIME  ARR_DELAY  ARR_DEL15  CRS_ELAPSED_TIME  ACTUAL_ELAPSED_TIME  \n",
       "0    2102.0      -41.0        0.0             338.0                295.0  \n",
       "1    1439.0        4.0        0.0             110.0                115.0  \n",
       "2    1142.0      -33.0        0.0             335.0                300.0  \n",
       "3    1345.0       10.0        0.0             196.0                205.0  \n",
       "4     615.0        8.0        0.0             247.0                259.0  "
      ]
     },
     "execution_count": 30,
     "metadata": {},
     "output_type": "execute_result"
    }
   ],
   "source": [
    "new_data.head()"
   ]
  },
  {
   "cell_type": "code",
   "execution_count": 31,
   "metadata": {
    "colab": {
     "base_uri": "https://localhost:8080/"
    },
    "id": "CiklsaWl_Qc8",
    "outputId": "2ad586c9-e1ce-4208-bdd1-8feef4c4b46e"
   },
   "outputs": [
    {
     "data": {
      "text/plain": [
       "ORIGIN                 0.034813\n",
       "DEST                   0.039938\n",
       "CRS_DEP_TIME           0.086057\n",
       "DEP_TIME               0.127593\n",
       "DEP_DELAY              0.578529\n",
       "DEP_DEL15              0.658511\n",
       "CRS_ARR_TIME           0.078282\n",
       "ARR_TIME               0.042298\n",
       "ARR_DELAY              0.661322\n",
       "ARR_DEL15              1.000000\n",
       "CRS_ELAPSED_TIME       0.015676\n",
       "ACTUAL_ELAPSED_TIME    0.077741\n",
       "Name: ARR_DEL15, dtype: float64"
      ]
     },
     "execution_count": 31,
     "metadata": {},
     "output_type": "execute_result"
    }
   ],
   "source": [
    "new_data.corr()['ARR_DEL15']"
   ]
  },
  {
   "cell_type": "code",
   "execution_count": 32,
   "metadata": {
    "colab": {
     "base_uri": "https://localhost:8080/"
    },
    "id": "mOsfqqzGAzeK",
    "outputId": "55166c80-661c-4604-cdc5-11f0c0b10a00"
   },
   "outputs": [
    {
     "data": {
      "text/plain": [
       "YEAR                   0\n",
       "QUARTER                0\n",
       "MONTH                  0\n",
       "DAY_OF_MONTH           0\n",
       "DAY_OF_WEEK            0\n",
       "UNIQUE_CARRIER         0\n",
       "TAIL_NUM               0\n",
       "FL_NUM                 0\n",
       "ORIGIN_AIRPORT_ID      0\n",
       "ORIGIN                 0\n",
       "DEST_AIRPORT_ID        0\n",
       "DEST                   0\n",
       "CRS_DEP_TIME           0\n",
       "DEP_TIME               0\n",
       "DEP_DELAY              0\n",
       "DEP_DEL15              0\n",
       "CRS_ARR_TIME           0\n",
       "ARR_TIME               0\n",
       "ARR_DELAY              0\n",
       "ARR_DEL15              0\n",
       "CANCELLED              0\n",
       "DIVERTED               0\n",
       "CRS_ELAPSED_TIME       0\n",
       "ACTUAL_ELAPSED_TIME    0\n",
       "DISTANCE               0\n",
       "dtype: int64"
      ]
     },
     "execution_count": 32,
     "metadata": {},
     "output_type": "execute_result"
    }
   ],
   "source": [
    "#data=data.drop('Unnamed: 25',axis=1)\n",
    "data.isnull().sum()"
   ]
  },
  {
   "cell_type": "code",
   "execution_count": 33,
   "metadata": {
    "colab": {
     "base_uri": "https://localhost:8080/"
    },
    "id": "ZO_3AXS7CJd6",
    "outputId": "0da75d81-16d4-4613-814d-d0c438f70603"
   },
   "outputs": [
    {
     "data": {
      "text/plain": [
       "FL_NUM          0\n",
       "MONTH           0\n",
       "DAY_OF_MONTH    0\n",
       "DAY_OF_WEEK     0\n",
       "ORIGIN          0\n",
       "DEST            0\n",
       "CRS_ARR_TIME    0\n",
       "DEP_DEL15       0\n",
       "ARR_DEL15       0\n",
       "dtype: int64"
      ]
     },
     "execution_count": 33,
     "metadata": {},
     "output_type": "execute_result"
    }
   ],
   "source": [
    "data=data[[\"FL_NUM\",\"MONTH\",\"DAY_OF_MONTH\",\"DAY_OF_WEEK\",\"ORIGIN\",\"DEST\",\"CRS_ARR_TIME\",\"DEP_DEL15\",\"ARR_DEL15\"]]\n",
    "data.isnull().sum()"
   ]
  },
  {
   "cell_type": "markdown",
   "metadata": {
    "id": "HAxUNHKUBcXw"
   },
   "source": []
  },
  {
   "cell_type": "code",
   "execution_count": 34,
   "metadata": {
    "colab": {
     "base_uri": "https://localhost:8080/",
     "height": 300
    },
    "id": "meJwlbX9DdAj",
    "outputId": "193e98f5-c052-4538-d356-b37e05b527b8"
   },
   "outputs": [
    {
     "data": {
      "text/html": [
       "<div>\n",
       "<style scoped>\n",
       "    .dataframe tbody tr th:only-of-type {\n",
       "        vertical-align: middle;\n",
       "    }\n",
       "\n",
       "    .dataframe tbody tr th {\n",
       "        vertical-align: top;\n",
       "    }\n",
       "\n",
       "    .dataframe thead th {\n",
       "        text-align: right;\n",
       "    }\n",
       "</style>\n",
       "<table border=\"1\" class=\"dataframe\">\n",
       "  <thead>\n",
       "    <tr style=\"text-align: right;\">\n",
       "      <th></th>\n",
       "      <th>FL_NUM</th>\n",
       "      <th>MONTH</th>\n",
       "      <th>DAY_OF_MONTH</th>\n",
       "      <th>DAY_OF_WEEK</th>\n",
       "      <th>ORIGIN</th>\n",
       "      <th>DEST</th>\n",
       "      <th>CRS_ARR_TIME</th>\n",
       "      <th>DEP_DEL15</th>\n",
       "      <th>ARR_DEL15</th>\n",
       "    </tr>\n",
       "  </thead>\n",
       "  <tbody>\n",
       "    <tr>\n",
       "      <th>178</th>\n",
       "      <td>2839</td>\n",
       "      <td>1</td>\n",
       "      <td>9</td>\n",
       "      <td>6</td>\n",
       "      <td>DTW</td>\n",
       "      <td>JFK</td>\n",
       "      <td>1724</td>\n",
       "      <td>0.0</td>\n",
       "      <td>0.0</td>\n",
       "    </tr>\n",
       "    <tr>\n",
       "      <th>180</th>\n",
       "      <td>87</td>\n",
       "      <td>1</td>\n",
       "      <td>10</td>\n",
       "      <td>7</td>\n",
       "      <td>DTW</td>\n",
       "      <td>MSP</td>\n",
       "      <td>1649</td>\n",
       "      <td>1.0</td>\n",
       "      <td>0.0</td>\n",
       "    </tr>\n",
       "    <tr>\n",
       "      <th>181</th>\n",
       "      <td>423</td>\n",
       "      <td>1</td>\n",
       "      <td>10</td>\n",
       "      <td>7</td>\n",
       "      <td>JFK</td>\n",
       "      <td>ATL</td>\n",
       "      <td>1600</td>\n",
       "      <td>0.0</td>\n",
       "      <td>0.0</td>\n",
       "    </tr>\n",
       "    <tr>\n",
       "      <th>182</th>\n",
       "      <td>440</td>\n",
       "      <td>1</td>\n",
       "      <td>10</td>\n",
       "      <td>7</td>\n",
       "      <td>JFK</td>\n",
       "      <td>ATL</td>\n",
       "      <td>849</td>\n",
       "      <td>0.0</td>\n",
       "      <td>0.0</td>\n",
       "    </tr>\n",
       "    <tr>\n",
       "      <th>183</th>\n",
       "      <td>485</td>\n",
       "      <td>1</td>\n",
       "      <td>10</td>\n",
       "      <td>7</td>\n",
       "      <td>JFK</td>\n",
       "      <td>SEA</td>\n",
       "      <td>1945</td>\n",
       "      <td>1.0</td>\n",
       "      <td>0.0</td>\n",
       "    </tr>\n",
       "    <tr>\n",
       "      <th>185</th>\n",
       "      <td>589</td>\n",
       "      <td>1</td>\n",
       "      <td>10</td>\n",
       "      <td>7</td>\n",
       "      <td>MSP</td>\n",
       "      <td>SEA</td>\n",
       "      <td>1100</td>\n",
       "      <td>0.0</td>\n",
       "      <td>0.0</td>\n",
       "    </tr>\n",
       "    <tr>\n",
       "      <th>186</th>\n",
       "      <td>744</td>\n",
       "      <td>1</td>\n",
       "      <td>10</td>\n",
       "      <td>7</td>\n",
       "      <td>MSP</td>\n",
       "      <td>ATL</td>\n",
       "      <td>1334</td>\n",
       "      <td>0.0</td>\n",
       "      <td>0.0</td>\n",
       "    </tr>\n",
       "    <tr>\n",
       "      <th>187</th>\n",
       "      <td>789</td>\n",
       "      <td>1</td>\n",
       "      <td>10</td>\n",
       "      <td>7</td>\n",
       "      <td>SEA</td>\n",
       "      <td>MSP</td>\n",
       "      <td>1837</td>\n",
       "      <td>0.0</td>\n",
       "      <td>0.0</td>\n",
       "    </tr>\n",
       "  </tbody>\n",
       "</table>\n",
       "</div>"
      ],
      "text/plain": [
       "     FL_NUM  MONTH  DAY_OF_MONTH  DAY_OF_WEEK ORIGIN DEST  CRS_ARR_TIME  \\\n",
       "178    2839      1             9            6    DTW  JFK          1724   \n",
       "180      87      1            10            7    DTW  MSP          1649   \n",
       "181     423      1            10            7    JFK  ATL          1600   \n",
       "182     440      1            10            7    JFK  ATL           849   \n",
       "183     485      1            10            7    JFK  SEA          1945   \n",
       "185     589      1            10            7    MSP  SEA          1100   \n",
       "186     744      1            10            7    MSP  ATL          1334   \n",
       "187     789      1            10            7    SEA  MSP          1837   \n",
       "\n",
       "     DEP_DEL15  ARR_DEL15  \n",
       "178        0.0        0.0  \n",
       "180        1.0        0.0  \n",
       "181        0.0        0.0  \n",
       "182        0.0        0.0  \n",
       "183        1.0        0.0  \n",
       "185        0.0        0.0  \n",
       "186        0.0        0.0  \n",
       "187        0.0        0.0  "
      ]
     },
     "execution_count": 34,
     "metadata": {},
     "output_type": "execute_result"
    }
   ],
   "source": [
    "data=data.fillna({'ARR_DEL15': 1})\n",
    "data=data.fillna({'DEP_DEL15': 0})\n",
    "data.iloc[177:185]"
   ]
  },
  {
   "cell_type": "code",
   "execution_count": 35,
   "metadata": {
    "colab": {
     "base_uri": "https://localhost:8080/",
     "height": 206
    },
    "id": "keObS1THECZK",
    "outputId": "2257b7b4-42a6-4375-d58c-c7e7c48f2a1b"
   },
   "outputs": [
    {
     "data": {
      "text/html": [
       "<div>\n",
       "<style scoped>\n",
       "    .dataframe tbody tr th:only-of-type {\n",
       "        vertical-align: middle;\n",
       "    }\n",
       "\n",
       "    .dataframe tbody tr th {\n",
       "        vertical-align: top;\n",
       "    }\n",
       "\n",
       "    .dataframe thead th {\n",
       "        text-align: right;\n",
       "    }\n",
       "</style>\n",
       "<table border=\"1\" class=\"dataframe\">\n",
       "  <thead>\n",
       "    <tr style=\"text-align: right;\">\n",
       "      <th></th>\n",
       "      <th>FL_NUM</th>\n",
       "      <th>MONTH</th>\n",
       "      <th>DAY_OF_MONTH</th>\n",
       "      <th>DAY_OF_WEEK</th>\n",
       "      <th>ORIGIN</th>\n",
       "      <th>DEST</th>\n",
       "      <th>CRS_ARR_TIME</th>\n",
       "      <th>DEP_DEL15</th>\n",
       "      <th>ARR_DEL15</th>\n",
       "    </tr>\n",
       "  </thead>\n",
       "  <tbody>\n",
       "    <tr>\n",
       "      <th>0</th>\n",
       "      <td>1399</td>\n",
       "      <td>1</td>\n",
       "      <td>1</td>\n",
       "      <td>5</td>\n",
       "      <td>ATL</td>\n",
       "      <td>SEA</td>\n",
       "      <td>21</td>\n",
       "      <td>0.0</td>\n",
       "      <td>0.0</td>\n",
       "    </tr>\n",
       "    <tr>\n",
       "      <th>1</th>\n",
       "      <td>1476</td>\n",
       "      <td>1</td>\n",
       "      <td>1</td>\n",
       "      <td>5</td>\n",
       "      <td>DTW</td>\n",
       "      <td>MSP</td>\n",
       "      <td>14</td>\n",
       "      <td>0.0</td>\n",
       "      <td>0.0</td>\n",
       "    </tr>\n",
       "    <tr>\n",
       "      <th>2</th>\n",
       "      <td>1597</td>\n",
       "      <td>1</td>\n",
       "      <td>1</td>\n",
       "      <td>5</td>\n",
       "      <td>ATL</td>\n",
       "      <td>SEA</td>\n",
       "      <td>12</td>\n",
       "      <td>0.0</td>\n",
       "      <td>0.0</td>\n",
       "    </tr>\n",
       "    <tr>\n",
       "      <th>3</th>\n",
       "      <td>1768</td>\n",
       "      <td>1</td>\n",
       "      <td>1</td>\n",
       "      <td>5</td>\n",
       "      <td>SEA</td>\n",
       "      <td>MSP</td>\n",
       "      <td>13</td>\n",
       "      <td>0.0</td>\n",
       "      <td>0.0</td>\n",
       "    </tr>\n",
       "    <tr>\n",
       "      <th>4</th>\n",
       "      <td>1823</td>\n",
       "      <td>1</td>\n",
       "      <td>1</td>\n",
       "      <td>5</td>\n",
       "      <td>SEA</td>\n",
       "      <td>DTW</td>\n",
       "      <td>6</td>\n",
       "      <td>0.0</td>\n",
       "      <td>0.0</td>\n",
       "    </tr>\n",
       "  </tbody>\n",
       "</table>\n",
       "</div>"
      ],
      "text/plain": [
       "   FL_NUM  MONTH  DAY_OF_MONTH  DAY_OF_WEEK ORIGIN DEST  CRS_ARR_TIME  \\\n",
       "0    1399      1             1            5    ATL  SEA            21   \n",
       "1    1476      1             1            5    DTW  MSP            14   \n",
       "2    1597      1             1            5    ATL  SEA            12   \n",
       "3    1768      1             1            5    SEA  MSP            13   \n",
       "4    1823      1             1            5    SEA  DTW             6   \n",
       "\n",
       "   DEP_DEL15  ARR_DEL15  \n",
       "0        0.0        0.0  \n",
       "1        0.0        0.0  \n",
       "2        0.0        0.0  \n",
       "3        0.0        0.0  \n",
       "4        0.0        0.0  "
      ]
     },
     "execution_count": 35,
     "metadata": {},
     "output_type": "execute_result"
    }
   ],
   "source": [
    "import math\n",
    "\n",
    "for index, row in data.iterrows():\n",
    "  data.loc[index,'CRS_ARR_TIME'] = math.floor(row['CRS_ARR_TIME'] / 100)\n",
    "data.head()"
   ]
  },
  {
   "cell_type": "code",
   "execution_count": 36,
   "metadata": {
    "id": "0zqvvjJvE7q8"
   },
   "outputs": [],
   "source": [
    "from sklearn.preprocessing import  LabelEncoder\n",
    "le = LabelEncoder()\n",
    "data['DEST'] = le.fit_transform(data['DEST'])\n",
    "data['ORIGIN'] = le.fit_transform(data['ORIGIN'])"
   ]
  },
  {
   "cell_type": "code",
   "execution_count": 37,
   "metadata": {
    "colab": {
     "base_uri": "https://localhost:8080/",
     "height": 206
    },
    "id": "XZOglhp8HfYI",
    "outputId": "cc258721-8625-49e8-f2aa-387392bc30b6"
   },
   "outputs": [
    {
     "data": {
      "text/html": [
       "<div>\n",
       "<style scoped>\n",
       "    .dataframe tbody tr th:only-of-type {\n",
       "        vertical-align: middle;\n",
       "    }\n",
       "\n",
       "    .dataframe tbody tr th {\n",
       "        vertical-align: top;\n",
       "    }\n",
       "\n",
       "    .dataframe thead th {\n",
       "        text-align: right;\n",
       "    }\n",
       "</style>\n",
       "<table border=\"1\" class=\"dataframe\">\n",
       "  <thead>\n",
       "    <tr style=\"text-align: right;\">\n",
       "      <th></th>\n",
       "      <th>FL_NUM</th>\n",
       "      <th>MONTH</th>\n",
       "      <th>DAY_OF_MONTH</th>\n",
       "      <th>DAY_OF_WEEK</th>\n",
       "      <th>ORIGIN</th>\n",
       "      <th>DEST</th>\n",
       "      <th>CRS_ARR_TIME</th>\n",
       "      <th>DEP_DEL15</th>\n",
       "      <th>ARR_DEL15</th>\n",
       "    </tr>\n",
       "  </thead>\n",
       "  <tbody>\n",
       "    <tr>\n",
       "      <th>0</th>\n",
       "      <td>1399</td>\n",
       "      <td>1</td>\n",
       "      <td>1</td>\n",
       "      <td>5</td>\n",
       "      <td>0</td>\n",
       "      <td>4</td>\n",
       "      <td>21</td>\n",
       "      <td>0.0</td>\n",
       "      <td>0.0</td>\n",
       "    </tr>\n",
       "    <tr>\n",
       "      <th>1</th>\n",
       "      <td>1476</td>\n",
       "      <td>1</td>\n",
       "      <td>1</td>\n",
       "      <td>5</td>\n",
       "      <td>1</td>\n",
       "      <td>3</td>\n",
       "      <td>14</td>\n",
       "      <td>0.0</td>\n",
       "      <td>0.0</td>\n",
       "    </tr>\n",
       "    <tr>\n",
       "      <th>2</th>\n",
       "      <td>1597</td>\n",
       "      <td>1</td>\n",
       "      <td>1</td>\n",
       "      <td>5</td>\n",
       "      <td>0</td>\n",
       "      <td>4</td>\n",
       "      <td>12</td>\n",
       "      <td>0.0</td>\n",
       "      <td>0.0</td>\n",
       "    </tr>\n",
       "    <tr>\n",
       "      <th>3</th>\n",
       "      <td>1768</td>\n",
       "      <td>1</td>\n",
       "      <td>1</td>\n",
       "      <td>5</td>\n",
       "      <td>4</td>\n",
       "      <td>3</td>\n",
       "      <td>13</td>\n",
       "      <td>0.0</td>\n",
       "      <td>0.0</td>\n",
       "    </tr>\n",
       "    <tr>\n",
       "      <th>4</th>\n",
       "      <td>1823</td>\n",
       "      <td>1</td>\n",
       "      <td>1</td>\n",
       "      <td>5</td>\n",
       "      <td>4</td>\n",
       "      <td>1</td>\n",
       "      <td>6</td>\n",
       "      <td>0.0</td>\n",
       "      <td>0.0</td>\n",
       "    </tr>\n",
       "  </tbody>\n",
       "</table>\n",
       "</div>"
      ],
      "text/plain": [
       "   FL_NUM  MONTH  DAY_OF_MONTH  DAY_OF_WEEK  ORIGIN  DEST  CRS_ARR_TIME  \\\n",
       "0    1399      1             1            5       0     4            21   \n",
       "1    1476      1             1            5       1     3            14   \n",
       "2    1597      1             1            5       0     4            12   \n",
       "3    1768      1             1            5       4     3            13   \n",
       "4    1823      1             1            5       4     1             6   \n",
       "\n",
       "   DEP_DEL15  ARR_DEL15  \n",
       "0        0.0        0.0  \n",
       "1        0.0        0.0  \n",
       "2        0.0        0.0  \n",
       "3        0.0        0.0  \n",
       "4        0.0        0.0  "
      ]
     },
     "execution_count": 37,
     "metadata": {},
     "output_type": "execute_result"
    }
   ],
   "source": [
    "data.head()"
   ]
  },
  {
   "cell_type": "code",
   "execution_count": 38,
   "metadata": {
    "id": "Tl4kcv9zHrML"
   },
   "outputs": [],
   "source": [
    "from sklearn.preprocessing import OneHotEncoder\n",
    "oh = OneHotEncoder()\n",
    "z=oh.fit_transform(data['ORIGIN'].values.reshape(-1,1)).toarray()\n",
    "t=oh.fit_transform(data['DEST'].values.reshape(-1,1)).toarray()"
   ]
  },
  {
   "cell_type": "code",
   "execution_count": null,
   "metadata": {},
   "outputs": [],
   "source": []
  },
  {
   "cell_type": "code",
   "execution_count": null,
   "metadata": {
    "colab": {
     "base_uri": "https://localhost:8080/",
     "height": 423
    },
    "id": "culyWrbwKj6g",
    "outputId": "cb27ea30-ceca-4716-9045-2fe2df1f6b79"
   },
   "outputs": [],
   "source": []
  },
  {
   "cell_type": "code",
   "execution_count": 39,
   "metadata": {},
   "outputs": [],
   "source": [
    "data=pd.get_dummies(data,columns=['ORIGIN','DEST'])"
   ]
  },
  {
   "cell_type": "code",
   "execution_count": 40,
   "metadata": {},
   "outputs": [
    {
     "data": {
      "text/plain": [
       "0.0    9668\n",
       "1.0    1375\n",
       "Name: ARR_DEL15, dtype: int64"
      ]
     },
     "execution_count": 40,
     "metadata": {},
     "output_type": "execute_result"
    }
   ],
   "source": [
    "data['ARR_DEL15'].value_counts()"
   ]
  },
  {
   "cell_type": "code",
   "execution_count": 41,
   "metadata": {},
   "outputs": [
    {
     "data": {
      "text/html": [
       "<div>\n",
       "<style scoped>\n",
       "    .dataframe tbody tr th:only-of-type {\n",
       "        vertical-align: middle;\n",
       "    }\n",
       "\n",
       "    .dataframe tbody tr th {\n",
       "        vertical-align: top;\n",
       "    }\n",
       "\n",
       "    .dataframe thead th {\n",
       "        text-align: right;\n",
       "    }\n",
       "</style>\n",
       "<table border=\"1\" class=\"dataframe\">\n",
       "  <thead>\n",
       "    <tr style=\"text-align: right;\">\n",
       "      <th></th>\n",
       "      <th>FL_NUM</th>\n",
       "      <th>MONTH</th>\n",
       "      <th>DAY_OF_MONTH</th>\n",
       "      <th>DAY_OF_WEEK</th>\n",
       "      <th>CRS_ARR_TIME</th>\n",
       "      <th>DEP_DEL15</th>\n",
       "      <th>ARR_DEL15</th>\n",
       "      <th>ORIGIN_0</th>\n",
       "      <th>ORIGIN_1</th>\n",
       "      <th>ORIGIN_2</th>\n",
       "      <th>ORIGIN_3</th>\n",
       "      <th>ORIGIN_4</th>\n",
       "      <th>DEST_0</th>\n",
       "      <th>DEST_1</th>\n",
       "      <th>DEST_2</th>\n",
       "      <th>DEST_3</th>\n",
       "      <th>DEST_4</th>\n",
       "    </tr>\n",
       "  </thead>\n",
       "  <tbody>\n",
       "    <tr>\n",
       "      <th>11226</th>\n",
       "      <td>1715</td>\n",
       "      <td>12</td>\n",
       "      <td>30</td>\n",
       "      <td>5</td>\n",
       "      <td>12</td>\n",
       "      <td>0.0</td>\n",
       "      <td>0.0</td>\n",
       "      <td>0</td>\n",
       "      <td>1</td>\n",
       "      <td>0</td>\n",
       "      <td>0</td>\n",
       "      <td>0</td>\n",
       "      <td>1</td>\n",
       "      <td>0</td>\n",
       "      <td>0</td>\n",
       "      <td>0</td>\n",
       "      <td>0</td>\n",
       "    </tr>\n",
       "    <tr>\n",
       "      <th>11227</th>\n",
       "      <td>1770</td>\n",
       "      <td>12</td>\n",
       "      <td>30</td>\n",
       "      <td>5</td>\n",
       "      <td>20</td>\n",
       "      <td>1.0</td>\n",
       "      <td>0.0</td>\n",
       "      <td>0</td>\n",
       "      <td>0</td>\n",
       "      <td>0</td>\n",
       "      <td>0</td>\n",
       "      <td>1</td>\n",
       "      <td>0</td>\n",
       "      <td>0</td>\n",
       "      <td>0</td>\n",
       "      <td>1</td>\n",
       "      <td>0</td>\n",
       "    </tr>\n",
       "    <tr>\n",
       "      <th>11228</th>\n",
       "      <td>1823</td>\n",
       "      <td>12</td>\n",
       "      <td>30</td>\n",
       "      <td>5</td>\n",
       "      <td>22</td>\n",
       "      <td>0.0</td>\n",
       "      <td>0.0</td>\n",
       "      <td>0</td>\n",
       "      <td>1</td>\n",
       "      <td>0</td>\n",
       "      <td>0</td>\n",
       "      <td>0</td>\n",
       "      <td>0</td>\n",
       "      <td>0</td>\n",
       "      <td>0</td>\n",
       "      <td>0</td>\n",
       "      <td>1</td>\n",
       "    </tr>\n",
       "    <tr>\n",
       "      <th>11229</th>\n",
       "      <td>1901</td>\n",
       "      <td>12</td>\n",
       "      <td>30</td>\n",
       "      <td>5</td>\n",
       "      <td>18</td>\n",
       "      <td>0.0</td>\n",
       "      <td>0.0</td>\n",
       "      <td>1</td>\n",
       "      <td>0</td>\n",
       "      <td>0</td>\n",
       "      <td>0</td>\n",
       "      <td>0</td>\n",
       "      <td>0</td>\n",
       "      <td>0</td>\n",
       "      <td>0</td>\n",
       "      <td>0</td>\n",
       "      <td>1</td>\n",
       "    </tr>\n",
       "    <tr>\n",
       "      <th>11230</th>\n",
       "      <td>2005</td>\n",
       "      <td>12</td>\n",
       "      <td>30</td>\n",
       "      <td>5</td>\n",
       "      <td>9</td>\n",
       "      <td>0.0</td>\n",
       "      <td>0.0</td>\n",
       "      <td>1</td>\n",
       "      <td>0</td>\n",
       "      <td>0</td>\n",
       "      <td>0</td>\n",
       "      <td>0</td>\n",
       "      <td>0</td>\n",
       "      <td>1</td>\n",
       "      <td>0</td>\n",
       "      <td>0</td>\n",
       "      <td>0</td>\n",
       "    </tr>\n",
       "  </tbody>\n",
       "</table>\n",
       "</div>"
      ],
      "text/plain": [
       "       FL_NUM  MONTH  DAY_OF_MONTH  DAY_OF_WEEK  CRS_ARR_TIME  DEP_DEL15  \\\n",
       "11226    1715     12            30            5            12        0.0   \n",
       "11227    1770     12            30            5            20        1.0   \n",
       "11228    1823     12            30            5            22        0.0   \n",
       "11229    1901     12            30            5            18        0.0   \n",
       "11230    2005     12            30            5             9        0.0   \n",
       "\n",
       "       ARR_DEL15  ORIGIN_0  ORIGIN_1  ORIGIN_2  ORIGIN_3  ORIGIN_4  DEST_0  \\\n",
       "11226        0.0         0         1         0         0         0       1   \n",
       "11227        0.0         0         0         0         0         1       0   \n",
       "11228        0.0         0         1         0         0         0       0   \n",
       "11229        0.0         1         0         0         0         0       0   \n",
       "11230        0.0         1         0         0         0         0       0   \n",
       "\n",
       "       DEST_1  DEST_2  DEST_3  DEST_4  \n",
       "11226       0       0       0       0  \n",
       "11227       0       0       1       0  \n",
       "11228       0       0       0       1  \n",
       "11229       0       0       0       1  \n",
       "11230       1       0       0       0  "
      ]
     },
     "execution_count": 41,
     "metadata": {},
     "output_type": "execute_result"
    }
   ],
   "source": [
    "data.tail()"
   ]
  },
  {
   "cell_type": "markdown",
   "metadata": {
    "id": "CmmseFn9pu30"
   },
   "source": [
    "**Split the data into dependent and independent variables**\n"
   ]
  },
  {
   "cell_type": "code",
   "execution_count": 42,
   "metadata": {
    "id": "ejZIG0o8_V1x"
   },
   "outputs": [],
   "source": [
    "x=data[[i for i in data.columns if i!='ARR_DEL15']].values\n",
    "y=data[[i for i in data.columns if i=='ARR_DEL15']].values"
   ]
  },
  {
   "cell_type": "code",
   "execution_count": 43,
   "metadata": {
    "colab": {
     "base_uri": "https://localhost:8080/"
    },
    "id": "f3EN9n6BEAzu",
    "outputId": "2b53ffce-caec-450a-d224-3b65c842aad3"
   },
   "outputs": [
    {
     "data": {
      "text/plain": [
       "(11043, 16)"
      ]
     },
     "execution_count": 43,
     "metadata": {},
     "output_type": "execute_result"
    }
   ],
   "source": [
    "x.shape"
   ]
  },
  {
   "cell_type": "code",
   "execution_count": 44,
   "metadata": {
    "colab": {
     "base_uri": "https://localhost:8080/"
    },
    "id": "CFZQx-Y2pDvy",
    "outputId": "07b1f07e-85eb-4fa9-afe7-d2c087ea735f"
   },
   "outputs": [
    {
     "data": {
      "text/plain": [
       "(11043, 1)"
      ]
     },
     "execution_count": 44,
     "metadata": {},
     "output_type": "execute_result"
    }
   ],
   "source": [
    "y.shape"
   ]
  },
  {
   "cell_type": "code",
   "execution_count": null,
   "metadata": {},
   "outputs": [],
   "source": []
  },
  {
   "cell_type": "markdown",
   "metadata": {},
   "source": [
    "# SPRINT-2"
   ]
  },
  {
   "cell_type": "markdown",
   "metadata": {
    "id": "7V0-vokFprCT"
   },
   "source": [
    "**TRAIN-TEST-SPLIT**"
   ]
  },
  {
   "cell_type": "code",
   "execution_count": 45,
   "metadata": {
    "id": "UMFjPPCjpqRo"
   },
   "outputs": [],
   "source": [
    "x_train,x_test,y_train,y_test=train_test_split(x,y,test_size=0.2,random_state=0)"
   ]
  },
  {
   "cell_type": "code",
   "execution_count": 46,
   "metadata": {
    "colab": {
     "base_uri": "https://localhost:8080/"
    },
    "id": "5PdWqhymDjuh",
    "outputId": "2fee4572-f802-487c-8c86-c8cb54cb6e85"
   },
   "outputs": [
    {
     "data": {
      "text/plain": [
       "(2209, 16)"
      ]
     },
     "execution_count": 46,
     "metadata": {},
     "output_type": "execute_result"
    }
   ],
   "source": [
    "x_test.shape"
   ]
  },
  {
   "cell_type": "code",
   "execution_count": 47,
   "metadata": {
    "colab": {
     "base_uri": "https://localhost:8080/"
    },
    "id": "mKQQr8n7Dj0U",
    "outputId": "cb83bea8-0374-4c75-dba1-d7771b586637"
   },
   "outputs": [
    {
     "data": {
      "text/plain": [
       "(8834, 16)"
      ]
     },
     "execution_count": 47,
     "metadata": {},
     "output_type": "execute_result"
    }
   ],
   "source": [
    "x_train.shape"
   ]
  },
  {
   "cell_type": "code",
   "execution_count": 48,
   "metadata": {
    "colab": {
     "base_uri": "https://localhost:8080/"
    },
    "id": "SDEFR1ftDg1M",
    "outputId": "40c2bb68-936d-44de-d2c9-6836dfe617a2"
   },
   "outputs": [
    {
     "data": {
      "text/plain": [
       "(2209, 1)"
      ]
     },
     "execution_count": 48,
     "metadata": {},
     "output_type": "execute_result"
    }
   ],
   "source": [
    "y_test.shape"
   ]
  },
  {
   "cell_type": "code",
   "execution_count": 49,
   "metadata": {
    "id": "ZWxmKWgBq3SN"
   },
   "outputs": [
    {
     "data": {
      "text/plain": [
       "(8834, 1)"
      ]
     },
     "execution_count": 49,
     "metadata": {},
     "output_type": "execute_result"
    }
   ],
   "source": [
    "y_train.shape"
   ]
  },
  {
   "cell_type": "markdown",
   "metadata": {},
   "source": [
    "**Scaling**"
   ]
  },
  {
   "cell_type": "code",
   "execution_count": 50,
   "metadata": {
    "id": "LRHL7sa-q4l-"
   },
   "outputs": [],
   "source": [
    "sc = StandardScaler()"
   ]
  },
  {
   "cell_type": "code",
   "execution_count": 51,
   "metadata": {},
   "outputs": [],
   "source": [
    "x_train=sc.fit_transform(x_train)"
   ]
  },
  {
   "cell_type": "code",
   "execution_count": 52,
   "metadata": {},
   "outputs": [],
   "source": [
    "x_test=sc.fit_transform(x_test)"
   ]
  },
  {
   "cell_type": "markdown",
   "metadata": {},
   "source": [
    "**Model Building**"
   ]
  },
  {
   "cell_type": "code",
   "execution_count": 53,
   "metadata": {},
   "outputs": [],
   "source": [
    "classifier = DecisionTreeClassifier(random_state=0)"
   ]
  },
  {
   "cell_type": "code",
   "execution_count": 54,
   "metadata": {},
   "outputs": [
    {
     "data": {
      "text/plain": [
       "DecisionTreeClassifier(random_state=0)"
      ]
     },
     "execution_count": 54,
     "metadata": {},
     "output_type": "execute_result"
    }
   ],
   "source": [
    "classifier.fit(x_train,y_train)"
   ]
  },
  {
   "cell_type": "code",
   "execution_count": 55,
   "metadata": {},
   "outputs": [],
   "source": [
    "predicted = classifier.predict(x_test)"
   ]
  },
  {
   "cell_type": "code",
   "execution_count": 56,
   "metadata": {},
   "outputs": [
    {
     "data": {
      "text/plain": [
       "array([0., 0., 1., ..., 0., 0., 0.])"
      ]
     },
     "execution_count": 56,
     "metadata": {},
     "output_type": "execute_result"
    }
   ],
   "source": [
    "predicted"
   ]
  },
  {
   "cell_type": "code",
   "execution_count": 57,
   "metadata": {},
   "outputs": [
    {
     "data": {
      "text/plain": [
       "array([[0.],\n",
       "       [0.],\n",
       "       [0.],\n",
       "       ...,\n",
       "       [0.],\n",
       "       [1.],\n",
       "       [0.]])"
      ]
     },
     "execution_count": 57,
     "metadata": {},
     "output_type": "execute_result"
    }
   ],
   "source": [
    "y_test"
   ]
  },
  {
   "cell_type": "markdown",
   "metadata": {},
   "source": [
    "**MODEL EVALUATION**"
   ]
  },
  {
   "cell_type": "code",
   "execution_count": 58,
   "metadata": {},
   "outputs": [],
   "source": [
    "acc=accuracy_score(predicted,y_test)"
   ]
  },
  {
   "cell_type": "code",
   "execution_count": 59,
   "metadata": {},
   "outputs": [
    {
     "data": {
      "text/plain": [
       "0.8791308284291535"
      ]
     },
     "execution_count": 59,
     "metadata": {},
     "output_type": "execute_result"
    }
   ],
   "source": [
    "acc"
   ]
  },
  {
   "cell_type": "code",
   "execution_count": null,
   "metadata": {},
   "outputs": [],
   "source": []
  },
  {
   "cell_type": "code",
   "execution_count": 60,
   "metadata": {},
   "outputs": [
    {
     "data": {
      "text/plain": [
       "array([1.187e+03, 1.000e+00, 1.500e+01, 5.000e+00, 1.900e+01, 1.000e+00,\n",
       "       1.000e+00, 0.000e+00, 0.000e+00, 0.000e+00, 1.000e+00, 0.000e+00,\n",
       "       0.000e+00, 0.000e+00, 0.000e+00, 0.000e+00, 1.000e+00])"
      ]
     },
     "execution_count": 60,
     "metadata": {},
     "output_type": "execute_result"
    }
   ],
   "source": [
    "data[data['ARR_DEL15']>0].iloc[33].values"
   ]
  },
  {
   "cell_type": "code",
   "execution_count": 61,
   "metadata": {},
   "outputs": [],
   "source": [
    "sample=[[1.187e+03, 1.000e+00, 1.500e+01, 5.000e+00, 1.900e+01, 1.000e+00, 0.000e+00, 0.000e+00, 0.000e+00, 1.000e+00, 0.000e+00,\n",
    "       0.000e+00, 0.000e+00, 0.000e+00, 0.000e+00, 1.000e+00]]"
   ]
  },
  {
   "cell_type": "code",
   "execution_count": 62,
   "metadata": {},
   "outputs": [
    {
     "data": {
      "text/plain": [
       "array([0.])"
      ]
     },
     "execution_count": 62,
     "metadata": {},
     "output_type": "execute_result"
    }
   ],
   "source": [
    "classifier.predict(sample)"
   ]
  },
  {
   "cell_type": "markdown",
   "metadata": {},
   "source": [
    "**SAVING THE MODEL**"
   ]
  },
  {
   "cell_type": "code",
   "execution_count": 63,
   "metadata": {},
   "outputs": [],
   "source": [
    "pickle.dump(classifier,open('flight_new.pk1','wb'))"
   ]
  },
  {
   "cell_type": "code",
   "execution_count": 64,
   "metadata": {},
   "outputs": [
    {
     "data": {
      "text/plain": [
       "array([[1825,  129],\n",
       "       [ 138,  117]], dtype=int64)"
      ]
     },
     "execution_count": 64,
     "metadata": {},
     "output_type": "execute_result"
    }
   ],
   "source": [
    "from sklearn.metrics import confusion_matrix\n",
    "confusion_matrix(predicted, y_test)"
   ]
  },
  {
   "cell_type": "code",
   "execution_count": 66,
   "metadata": {},
   "outputs": [
    {
     "name": "stdout",
     "output_type": "stream",
     "text": [
      "              precision    recall  f1-score   support\n",
      "\n",
      "           1       0.48      0.46      0.47       255\n",
      "           2       0.00      0.00      0.00         0\n",
      "\n",
      "   micro avg       0.48      0.46      0.47       255\n",
      "   macro avg       0.24      0.23      0.23       255\n",
      "weighted avg       0.48      0.46      0.47       255\n",
      "\n"
     ]
    }
   ],
   "source": [
    "from sklearn.metrics import classification_report\n",
    "print(classification_report(predicted, y_test, labels=[1, 2]))"
   ]
  },
  {
   "cell_type": "code",
   "execution_count": null,
   "metadata": {},
   "outputs": [],
   "source": []
  }
 ],
 "metadata": {
  "colab": {
   "collapsed_sections": [],
   "provenance": []
  },
  "kernelspec": {
   "display_name": "Python 3",
   "language": "python",
   "name": "python3"
  },
  "language_info": {
   "codemirror_mode": {
    "name": "ipython",
    "version": 3
   },
   "file_extension": ".py",
   "mimetype": "text/x-python",
   "name": "python",
   "nbconvert_exporter": "python",
   "pygments_lexer": "ipython3",
   "version": "3.8.5"
  }
 },
 "nbformat": 4,
 "nbformat_minor": 1
}
